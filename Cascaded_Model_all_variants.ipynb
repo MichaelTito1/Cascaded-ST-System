{
  "nbformat": 4,
  "nbformat_minor": 0,
  "metadata": {
    "colab": {
      "name": " Cascaded Model - all variants.ipynb",
      "provenance": [],
      "collapsed_sections": [
        "SaDxuloYZtdC",
        "u_DtDZ6GlaWQ",
        "E9PrT_YOyt7I",
        "aUIT89YYW30h",
        "ImhBeex6DGXj"
      ]
    },
    "kernelspec": {
      "name": "python3",
      "display_name": "Python 3"
    },
    "language_info": {
      "name": "python"
    },
    "accelerator": "GPU"
  },
  "cells": [
    {
      "cell_type": "markdown",
      "source": [
        "# Setup"
      ],
      "metadata": {
        "id": "YeqWyF4s-Wbw"
      }
    },
    {
      "cell_type": "markdown",
      "source": [
        "This version of the cascaded ST model does not contain any additional components (punctuation/disfluency)"
      ],
      "metadata": {
        "id": "JbX-lbuH94_d"
      }
    },
    {
      "cell_type": "code",
      "source": [
        "!nvidia-smi"
      ],
      "metadata": {
        "colab": {
          "base_uri": "https://localhost:8080/"
        },
        "id": "pNuLwKHOPtZ9",
        "outputId": "d0e3e27b-5bcf-428b-cb5d-36cd92dddb89"
      },
      "execution_count": null,
      "outputs": [
        {
          "output_type": "stream",
          "name": "stdout",
          "text": [
            "Thu Jun  9 15:59:19 2022       \n",
            "+-----------------------------------------------------------------------------+\n",
            "| NVIDIA-SMI 460.32.03    Driver Version: 460.32.03    CUDA Version: 11.2     |\n",
            "|-------------------------------+----------------------+----------------------+\n",
            "| GPU  Name        Persistence-M| Bus-Id        Disp.A | Volatile Uncorr. ECC |\n",
            "| Fan  Temp  Perf  Pwr:Usage/Cap|         Memory-Usage | GPU-Util  Compute M. |\n",
            "|                               |                      |               MIG M. |\n",
            "|===============================+======================+======================|\n",
            "|   0  Tesla T4            Off  | 00000000:00:04.0 Off |                    0 |\n",
            "| N/A   48C    P8    11W /  70W |      0MiB / 15109MiB |      0%      Default |\n",
            "|                               |                      |                  N/A |\n",
            "+-------------------------------+----------------------+----------------------+\n",
            "                                                                               \n",
            "+-----------------------------------------------------------------------------+\n",
            "| Processes:                                                                  |\n",
            "|  GPU   GI   CI        PID   Type   Process name                  GPU Memory |\n",
            "|        ID   ID                                                   Usage      |\n",
            "|=============================================================================|\n",
            "|  No running processes found                                                 |\n",
            "+-----------------------------------------------------------------------------+\n"
          ]
        }
      ]
    },
    {
      "cell_type": "code",
      "source": [
        "from google.colab import drive\n",
        "drive.mount('/content/drive')"
      ],
      "metadata": {
        "colab": {
          "base_uri": "https://localhost:8080/"
        },
        "id": "aBOKlR2sumwm",
        "outputId": "6ba34a37-4c26-4afa-f415-5ce6e85e7fb0"
      },
      "execution_count": null,
      "outputs": [
        {
          "output_type": "stream",
          "name": "stdout",
          "text": [
            "Mounted at /content/drive\n"
          ]
        }
      ]
    },
    {
      "cell_type": "code",
      "source": [
        "%%capture\n",
        "!pip install bert-score transformers datasets[audio] sentencepiece sacrebleu sacremoses torchmetrics"
      ],
      "metadata": {
        "id": "g6KViR-quNSL"
      },
      "execution_count": null,
      "outputs": []
    },
    {
      "cell_type": "markdown",
      "source": [
        "Disfluency setup"
      ],
      "metadata": {
        "id": "l4ERW2hN-tvr"
      }
    },
    {
      "cell_type": "code",
      "source": [
        "%mkdir deep_disfl_python3\n",
        "%cd deep_disfl_python3"
      ],
      "metadata": {
        "colab": {
          "base_uri": "https://localhost:8080/"
        },
        "id": "Ycnvl5XaS1N-",
        "outputId": "57dc9811-ae42-4f81-cd0b-0d934d0fb6fa"
      },
      "execution_count": null,
      "outputs": [
        {
          "output_type": "stream",
          "name": "stdout",
          "text": [
            "/content/deep_disfl_python3\n"
          ]
        }
      ]
    },
    {
      "cell_type": "code",
      "source": [
        "!git clone https://github.com/chuckcho/deep_disfluency.git --branch python3-port"
      ],
      "metadata": {
        "colab": {
          "base_uri": "https://localhost:8080/"
        },
        "id": "IvGMkeXaREf1",
        "outputId": "f3f2b737-d707-40a1-8c3e-b698e0ce3d7b"
      },
      "execution_count": null,
      "outputs": [
        {
          "output_type": "stream",
          "name": "stdout",
          "text": [
            "Cloning into 'deep_disfluency'...\n",
            "remote: Enumerating objects: 5146, done.\u001b[K\n",
            "remote: Counting objects: 100% (180/180), done.\u001b[K\n",
            "remote: Compressing objects: 100% (44/44), done.\u001b[K\n",
            "remote: Total 5146 (delta 151), reused 136 (delta 136), pack-reused 4966\u001b[K\n",
            "Receiving objects: 100% (5146/5146), 174.88 MiB | 17.82 MiB/s, done.\n",
            "Resolving deltas: 100% (1017/1017), done.\n",
            "Checking out files: 100% (2003/2003), done.\n"
          ]
        }
      ]
    },
    {
      "cell_type": "code",
      "source": [
        "!pip install sklearn-pycrfsuite"
      ],
      "metadata": {
        "colab": {
          "base_uri": "https://localhost:8080/"
        },
        "id": "3Yy-fWFuVz6Q",
        "outputId": "7912ae48-24fb-4937-f3ee-168a06e964f8"
      },
      "execution_count": null,
      "outputs": [
        {
          "output_type": "stream",
          "name": "stdout",
          "text": [
            "Looking in indexes: https://pypi.org/simple, https://us-python.pkg.dev/colab-wheels/public/simple/\n",
            "Collecting sklearn-pycrfsuite\n",
            "  Downloading sklearn-pycrfsuite-0.4.0.tar.gz (24 kB)\n",
            "Requirement already satisfied: tqdm>=2.0 in /usr/local/lib/python3.7/dist-packages (from sklearn-pycrfsuite) (4.64.0)\n",
            "Requirement already satisfied: six in /usr/local/lib/python3.7/dist-packages (from sklearn-pycrfsuite) (1.15.0)\n",
            "Requirement already satisfied: tabulate in /usr/local/lib/python3.7/dist-packages (from sklearn-pycrfsuite) (0.8.9)\n",
            "Collecting python-crfsuite-extension\n",
            "  Downloading python-crfsuite-extension-0.9.7.tar.gz (485 kB)\n",
            "\u001b[K     |████████████████████████████████| 485 kB 6.9 MB/s \n",
            "\u001b[?25hBuilding wheels for collected packages: sklearn-pycrfsuite, python-crfsuite-extension\n",
            "  Building wheel for sklearn-pycrfsuite (setup.py) ... \u001b[?25l\u001b[?25hdone\n",
            "  Created wheel for sklearn-pycrfsuite: filename=sklearn_pycrfsuite-0.4.0-py2.py3-none-any.whl size=11002 sha256=b1c1831af27f5740ff820ef378dab20e60d9a673d730e3ba028a1f4543eedab1\n",
            "  Stored in directory: /root/.cache/pip/wheels/44/50/b1/295e502c6652f551dc99bfdb394a3fe2fcb47668e333391f38\n",
            "  Building wheel for python-crfsuite-extension (setup.py) ... \u001b[?25l\u001b[?25hdone\n",
            "  Created wheel for python-crfsuite-extension: filename=python_crfsuite_extension-0.9.7-cp37-cp37m-linux_x86_64.whl size=776005 sha256=6d0ad21cc76b9ae949d5409b201bd54b4a0ce6e20955e0c1d6b0d85814da1254\n",
            "  Stored in directory: /root/.cache/pip/wheels/70/d7/bf/369f4d179407dbf3840132e4135fa61f0bf711f4496d0bf750\n",
            "Successfully built sklearn-pycrfsuite python-crfsuite-extension\n",
            "Installing collected packages: python-crfsuite-extension, sklearn-pycrfsuite\n",
            "Successfully installed python-crfsuite-extension-0.9.7 sklearn-pycrfsuite-0.4.0\n"
          ]
        }
      ]
    },
    {
      "cell_type": "code",
      "source": [
        "%cd deep_disfluency\n",
        "!python setup.py install"
      ],
      "metadata": {
        "colab": {
          "base_uri": "https://localhost:8080/"
        },
        "id": "6ybEWrrTROCq",
        "outputId": "8f619daa-8125-448a-9835-7ae25af134fe"
      },
      "execution_count": null,
      "outputs": [
        {
          "output_type": "stream",
          "name": "stdout",
          "text": [
            "/content/deep_disfl_python3/deep_disfluency\n",
            "running install\n",
            "running bdist_egg\n",
            "running egg_info\n",
            "creating deep_disfluency.egg-info\n",
            "writing deep_disfluency.egg-info/PKG-INFO\n",
            "writing dependency_links to deep_disfluency.egg-info/dependency_links.txt\n",
            "writing requirements to deep_disfluency.egg-info/requires.txt\n",
            "writing top-level names to deep_disfluency.egg-info/top_level.txt\n",
            "writing manifest file 'deep_disfluency.egg-info/SOURCES.txt'\n",
            "adding license file 'LICENSE'\n",
            "writing manifest file 'deep_disfluency.egg-info/SOURCES.txt'\n",
            "installing library code to build/bdist.linux-x86_64/egg\n",
            "running install_lib\n",
            "running build_py\n",
            "creating build\n",
            "creating build/lib\n",
            "creating build/lib/deep_disfluency\n",
            "copying deep_disfluency/__init__.py -> build/lib/deep_disfluency\n",
            "creating build/lib/deep_disfluency/language_model\n",
            "copying deep_disfluency/language_model/util.py -> build/lib/deep_disfluency/language_model\n",
            "copying deep_disfluency/language_model/ngram_language_model.py -> build/lib/deep_disfluency/language_model\n",
            "copying deep_disfluency/language_model/__init__.py -> build/lib/deep_disfluency/language_model\n",
            "creating build/lib/deep_disfluency/embeddings\n",
            "copying deep_disfluency/embeddings/load_embeddings.py -> build/lib/deep_disfluency/embeddings\n",
            "copying deep_disfluency/embeddings/__init__.py -> build/lib/deep_disfluency/embeddings\n",
            "copying deep_disfluency/embeddings/gensim_embeddings.py -> build/lib/deep_disfluency/embeddings\n",
            "creating build/lib/deep_disfluency/decoder\n",
            "copying deep_disfluency/decoder/timing_model.py -> build/lib/deep_disfluency/decoder\n",
            "copying deep_disfluency/decoder/hmm_utils.py -> build/lib/deep_disfluency/decoder\n",
            "copying deep_disfluency/decoder/__init__.py -> build/lib/deep_disfluency/decoder\n",
            "copying deep_disfluency/decoder/tag_conversion.py -> build/lib/deep_disfluency/decoder\n",
            "copying deep_disfluency/decoder/hmm.py -> build/lib/deep_disfluency/decoder\n",
            "copying deep_disfluency/decoder/noisy_channel.py -> build/lib/deep_disfluency/decoder\n",
            "creating build/lib/deep_disfluency/rnn\n",
            "copying deep_disfluency/rnn/elman.py -> build/lib/deep_disfluency/rnn\n",
            "copying deep_disfluency/rnn/test_if_using_gpu.py -> build/lib/deep_disfluency/rnn\n",
            "copying deep_disfluency/rnn/__init__.py -> build/lib/deep_disfluency/rnn\n",
            "copying deep_disfluency/rnn/lstm.py -> build/lib/deep_disfluency/rnn\n",
            "creating build/lib/deep_disfluency/tagger\n",
            "copying deep_disfluency/tagger/utils.py -> build/lib/deep_disfluency/tagger\n",
            "copying deep_disfluency/tagger/deep_tagger_module.py -> build/lib/deep_disfluency/tagger\n",
            "copying deep_disfluency/tagger/__init__.py -> build/lib/deep_disfluency/tagger\n",
            "copying deep_disfluency/tagger/deep_tagger.py -> build/lib/deep_disfluency/tagger\n",
            "creating build/lib/deep_disfluency/load\n",
            "copying deep_disfluency/load/__init__.py -> build/lib/deep_disfluency/load\n",
            "copying deep_disfluency/load/load.py -> build/lib/deep_disfluency/load\n",
            "creating build/lib/deep_disfluency/utils\n",
            "copying deep_disfluency/utils/accuracy.py -> build/lib/deep_disfluency/utils\n",
            "copying deep_disfluency/utils/__init__.py -> build/lib/deep_disfluency/utils\n",
            "copying deep_disfluency/utils/tools.py -> build/lib/deep_disfluency/utils\n",
            "creating build/lib/deep_disfluency/evaluation\n",
            "copying deep_disfluency/evaluation/eval_utils.py -> build/lib/deep_disfluency/evaluation\n",
            "copying deep_disfluency/evaluation/__init__.py -> build/lib/deep_disfluency/evaluation\n",
            "copying deep_disfluency/evaluation/results_utils.py -> build/lib/deep_disfluency/evaluation\n",
            "copying deep_disfluency/evaluation/disf_evaluation.py -> build/lib/deep_disfluency/evaluation\n",
            "creating build/lib/deep_disfluency/feature_extraction\n",
            "copying deep_disfluency/feature_extraction/POS_tagging.py -> build/lib/deep_disfluency/feature_extraction\n",
            "copying deep_disfluency/feature_extraction/create_tag_files.py -> build/lib/deep_disfluency/feature_extraction\n",
            "copying deep_disfluency/feature_extraction/wer_calculation_from_final_asr_results.py -> build/lib/deep_disfluency/feature_extraction\n",
            "copying deep_disfluency/feature_extraction/swbd_map_speaker_names_to_audio_channels.py -> build/lib/deep_disfluency/feature_extraction\n",
            "copying deep_disfluency/feature_extraction/__init__.py -> build/lib/deep_disfluency/feature_extraction\n",
            "copying deep_disfluency/feature_extraction/swbd_map_word_alignments_to_SWDA_words.py -> build/lib/deep_disfluency/feature_extraction\n",
            "copying deep_disfluency/feature_extraction/convert_audio_files_extract_audio_features.py -> build/lib/deep_disfluency/feature_extraction\n",
            "copying deep_disfluency/feature_extraction/recordings_list.py -> build/lib/deep_disfluency/feature_extraction\n",
            "copying deep_disfluency/feature_extraction/add_language_model_features.py -> build/lib/deep_disfluency/feature_extraction\n",
            "copying deep_disfluency/feature_extraction/get_ibm_asr_results.py -> build/lib/deep_disfluency/feature_extraction\n",
            "copying deep_disfluency/feature_extraction/save_feature_matrices.py -> build/lib/deep_disfluency/feature_extraction\n",
            "copying deep_disfluency/feature_extraction/word_alignment.py -> build/lib/deep_disfluency/feature_extraction\n",
            "copying deep_disfluency/feature_extraction/feature_utils.py -> build/lib/deep_disfluency/feature_extraction\n",
            "copying deep_disfluency/feature_extraction/crf_pos_tagger_example.py -> build/lib/deep_disfluency/feature_extraction\n",
            "copying deep_disfluency/feature_extraction/extract_features.py -> build/lib/deep_disfluency/feature_extraction\n",
            "copying deep_disfluency/feature_extraction/convert_asr_results_to_increco.py -> build/lib/deep_disfluency/feature_extraction\n",
            "creating build/lib/deep_disfluency/asr\n",
            "copying deep_disfluency/asr/ibm_watson.py -> build/lib/deep_disfluency/asr\n",
            "copying deep_disfluency/asr/__init__.py -> build/lib/deep_disfluency/asr\n",
            "creating build/lib/deep_disfluency/corpus\n",
            "copying deep_disfluency/corpus/selfrepair_annotation.py -> build/lib/deep_disfluency/corpus\n",
            "copying deep_disfluency/corpus/util.py -> build/lib/deep_disfluency/corpus\n",
            "copying deep_disfluency/corpus/BNC_swda_POS_converter.py -> build/lib/deep_disfluency/corpus\n",
            "copying deep_disfluency/corpus/tree_pos_map.py -> build/lib/deep_disfluency/corpus\n",
            "copying deep_disfluency/corpus/create_folds.py -> build/lib/deep_disfluency/corpus\n",
            "copying deep_disfluency/corpus/__init__.py -> build/lib/deep_disfluency/corpus\n",
            "copying deep_disfluency/corpus/repair.py -> build/lib/deep_disfluency/corpus\n",
            "copying deep_disfluency/corpus/spelling_dictionary.py -> build/lib/deep_disfluency/corpus\n",
            "copying deep_disfluency/corpus/BNC_create_corpus.py -> build/lib/deep_disfluency/corpus\n",
            "copying deep_disfluency/corpus/tree_pos_map_writer.py -> build/lib/deep_disfluency/corpus\n",
            "copying deep_disfluency/corpus/load.py -> build/lib/deep_disfluency/corpus\n",
            "copying deep_disfluency/corpus/textgrids_to_disf_tags_corpus_converter.py -> build/lib/deep_disfluency/corpus\n",
            "copying deep_disfluency/corpus/disfluency_corpus_creator.py -> build/lib/deep_disfluency/corpus\n",
            "copying deep_disfluency/corpus/corpus_util.py -> build/lib/deep_disfluency/corpus\n",
            "copying deep_disfluency/corpus/create_fake_timing_corpus.py -> build/lib/deep_disfluency/corpus\n",
            "copying deep_disfluency/corpus/swda.py -> build/lib/deep_disfluency/corpus\n",
            "creating build/lib/deep_disfluency/experiments\n",
            "copying deep_disfluency/experiments/InterSpeech_2015.py -> build/lib/deep_disfluency/experiments\n",
            "copying deep_disfluency/experiments/EACL_2017.py -> build/lib/deep_disfluency/experiments\n",
            "copying deep_disfluency/experiments/experiment_configs.csv -> build/lib/deep_disfluency/experiments\n",
            "creating build/lib/deep_disfluency/experiments/041\n",
            "creating build/lib/deep_disfluency/experiments/041/epoch_16\n",
            "copying deep_disfluency/experiments/041/epoch_16/swbd_disf_test_partial_data_output_final.text -> build/lib/deep_disfluency/experiments/041/epoch_16\n",
            "copying deep_disfluency/experiments/041/epoch_16/W_xf.npy -> build/lib/deep_disfluency/experiments/041/epoch_16\n",
            "copying deep_disfluency/experiments/041/epoch_16/W_xc.npy -> build/lib/deep_disfluency/experiments/041/epoch_16\n",
            "copying deep_disfluency/experiments/041/epoch_16/swbd_disf_heldout_partial_data_output_increco.text -> build/lib/deep_disfluency/experiments/041/epoch_16\n",
            "copying deep_disfluency/experiments/041/epoch_16/swbd_disf_test_data_output_final.text -> build/lib/deep_disfluency/experiments/041/epoch_16\n",
            "copying deep_disfluency/experiments/041/epoch_16/b_i.npy -> build/lib/deep_disfluency/experiments/041/epoch_16\n",
            "copying deep_disfluency/experiments/041/epoch_16/W_hy.npy -> build/lib/deep_disfluency/experiments/041/epoch_16\n",
            "copying deep_disfluency/experiments/041/epoch_16/swbd_disf_heldout_partial_data_output_final.text -> build/lib/deep_disfluency/experiments/041/epoch_16\n",
            "copying deep_disfluency/experiments/041/epoch_16/W_hc.npy -> build/lib/deep_disfluency/experiments/041/epoch_16\n",
            "copying deep_disfluency/experiments/041/epoch_16/W_hi.npy -> build/lib/deep_disfluency/experiments/041/epoch_16\n",
            "copying deep_disfluency/experiments/041/epoch_16/W_ci.npy -> build/lib/deep_disfluency/experiments/041/epoch_16\n",
            "copying deep_disfluency/experiments/041/epoch_16/swbd_disf_heldout_data_output_increco.text -> build/lib/deep_disfluency/experiments/041/epoch_16\n",
            "copying deep_disfluency/experiments/041/epoch_16/embeddings.npy -> build/lib/deep_disfluency/experiments/041/epoch_16\n",
            "copying deep_disfluency/experiments/041/epoch_16/swbd_disf_test_partial_data_output_increco.text -> build/lib/deep_disfluency/experiments/041/epoch_16\n",
            "copying deep_disfluency/experiments/041/epoch_16/W_co.npy -> build/lib/deep_disfluency/experiments/041/epoch_16\n",
            "copying deep_disfluency/experiments/041/epoch_16/b_c.npy -> build/lib/deep_disfluency/experiments/041/epoch_16\n",
            "copying deep_disfluency/experiments/041/epoch_16/W_ho.npy -> build/lib/deep_disfluency/experiments/041/epoch_16\n",
            "copying deep_disfluency/experiments/041/epoch_16/swbd_disf_test_data_output_increco.text -> build/lib/deep_disfluency/experiments/041/epoch_16\n",
            "copying deep_disfluency/experiments/041/epoch_16/b_y.npy -> build/lib/deep_disfluency/experiments/041/epoch_16\n",
            "copying deep_disfluency/experiments/041/epoch_16/W_cf.npy -> build/lib/deep_disfluency/experiments/041/epoch_16\n",
            "copying deep_disfluency/experiments/041/epoch_16/swbd_disf_heldout_data_output_final.text -> build/lib/deep_disfluency/experiments/041/epoch_16\n",
            "copying deep_disfluency/experiments/041/epoch_16/W_hf.npy -> build/lib/deep_disfluency/experiments/041/epoch_16\n",
            "copying deep_disfluency/experiments/041/epoch_16/W_xi.npy -> build/lib/deep_disfluency/experiments/041/epoch_16\n",
            "copying deep_disfluency/experiments/041/epoch_16/b_o.npy -> build/lib/deep_disfluency/experiments/041/epoch_16\n",
            "copying deep_disfluency/experiments/041/epoch_16/b_f.npy -> build/lib/deep_disfluency/experiments/041/epoch_16\n",
            "creating build/lib/deep_disfluency/experiments/results\n",
            "creating build/lib/deep_disfluency/experiments/results/learning_curves\n",
            "copying deep_disfluency/experiments/results/learning_curves/033.csv -> build/lib/deep_disfluency/experiments/results/learning_curves\n",
            "copying deep_disfluency/experiments/results/learning_curves/002.csv -> build/lib/deep_disfluency/experiments/results/learning_curves\n",
            "copying deep_disfluency/experiments/results/learning_curves/035.csv -> build/lib/deep_disfluency/experiments/results/learning_curves\n",
            "copying deep_disfluency/experiments/results/learning_curves/010.csv -> build/lib/deep_disfluency/experiments/results/learning_curves\n",
            "copying deep_disfluency/experiments/results/learning_curves/021.csv -> build/lib/deep_disfluency/experiments/results/learning_curves\n",
            "copying deep_disfluency/experiments/results/learning_curves/037.csv -> build/lib/deep_disfluency/experiments/results/learning_curves\n",
            "copying deep_disfluency/experiments/results/learning_curves/005.csv -> build/lib/deep_disfluency/experiments/results/learning_curves\n",
            "copying deep_disfluency/experiments/results/learning_curves/015.csv -> build/lib/deep_disfluency/experiments/results/learning_curves\n",
            "copying deep_disfluency/experiments/results/learning_curves/017.csv -> build/lib/deep_disfluency/experiments/results/learning_curves\n",
            "copying deep_disfluency/experiments/results/learning_curves/028.csv -> build/lib/deep_disfluency/experiments/results/learning_curves\n",
            "copying deep_disfluency/experiments/results/learning_curves/029.csv -> build/lib/deep_disfluency/experiments/results/learning_curves\n",
            "copying deep_disfluency/experiments/results/learning_curves/013.csv -> build/lib/deep_disfluency/experiments/results/learning_curves\n",
            "copying deep_disfluency/experiments/results/learning_curves/006.csv -> build/lib/deep_disfluency/experiments/results/learning_curves\n",
            "copying deep_disfluency/experiments/results/learning_curves/004.csv -> build/lib/deep_disfluency/experiments/results/learning_curves\n",
            "copying deep_disfluency/experiments/results/learning_curves/003.csv -> build/lib/deep_disfluency/experiments/results/learning_curves\n",
            "copying deep_disfluency/experiments/results/learning_curves/020.csv -> build/lib/deep_disfluency/experiments/results/learning_curves\n",
            "copying deep_disfluency/experiments/results/learning_curves/024.csv -> build/lib/deep_disfluency/experiments/results/learning_curves\n",
            "copying deep_disfluency/experiments/results/learning_curves/011.csv -> build/lib/deep_disfluency/experiments/results/learning_curves\n",
            "copying deep_disfluency/experiments/results/learning_curves/023.csv -> build/lib/deep_disfluency/experiments/results/learning_curves\n",
            "copying deep_disfluency/experiments/results/learning_curves/030.csv -> build/lib/deep_disfluency/experiments/results/learning_curves\n",
            "copying deep_disfluency/experiments/results/learning_curves/012.csv -> build/lib/deep_disfluency/experiments/results/learning_curves\n",
            "copying deep_disfluency/experiments/results/learning_curves/007.csv -> build/lib/deep_disfluency/experiments/results/learning_curves\n",
            "copying deep_disfluency/experiments/results/learning_curves/034.csv -> build/lib/deep_disfluency/experiments/results/learning_curves\n",
            "copying deep_disfluency/experiments/results/learning_curves/014.csv -> build/lib/deep_disfluency/experiments/results/learning_curves\n",
            "copying deep_disfluency/experiments/results/learning_curves/016.csv -> build/lib/deep_disfluency/experiments/results/learning_curves\n",
            "copying deep_disfluency/experiments/results/learning_curves/038.csv -> build/lib/deep_disfluency/experiments/results/learning_curves\n",
            "copying deep_disfluency/experiments/results/learning_curves/027.csv -> build/lib/deep_disfluency/experiments/results/learning_curves\n",
            "copying deep_disfluency/experiments/results/learning_curves/036.csv -> build/lib/deep_disfluency/experiments/results/learning_curves\n",
            "copying deep_disfluency/experiments/results/learning_curves/008.csv -> build/lib/deep_disfluency/experiments/results/learning_curves\n",
            "copying deep_disfluency/experiments/results/learning_curves/009.csv -> build/lib/deep_disfluency/experiments/results/learning_curves\n",
            "copying deep_disfluency/experiments/results/learning_curves/039.csv -> build/lib/deep_disfluency/experiments/results/learning_curves\n",
            "creating build/lib/deep_disfluency/experiments/results/disfluency_detection_performance\n",
            "copying deep_disfluency/experiments/results/disfluency_detection_performance/hmm_final_results.txt -> build/lib/deep_disfluency/experiments/results/disfluency_detection_performance\n",
            "creating build/lib/deep_disfluency/experiments/results/tag_accuracies\n",
            "copying deep_disfluency/experiments/results/tag_accuracies/008.text -> build/lib/deep_disfluency/experiments/results/tag_accuracies\n",
            "copying deep_disfluency/experiments/results/tag_accuracies/017.text -> build/lib/deep_disfluency/experiments/results/tag_accuracies\n",
            "copying deep_disfluency/experiments/results/tag_accuracies/003.text -> build/lib/deep_disfluency/experiments/results/tag_accuracies\n",
            "copying deep_disfluency/experiments/results/tag_accuracies/028.text -> build/lib/deep_disfluency/experiments/results/tag_accuracies\n",
            "copying deep_disfluency/experiments/results/tag_accuracies/004.text -> build/lib/deep_disfluency/experiments/results/tag_accuracies\n",
            "copying deep_disfluency/experiments/results/tag_accuracies/012.text -> build/lib/deep_disfluency/experiments/results/tag_accuracies\n",
            "copying deep_disfluency/experiments/results/tag_accuracies/015.text -> build/lib/deep_disfluency/experiments/results/tag_accuracies\n",
            "copying deep_disfluency/experiments/results/tag_accuracies/013.text -> build/lib/deep_disfluency/experiments/results/tag_accuracies\n",
            "copying deep_disfluency/experiments/results/tag_accuracies/035.text -> build/lib/deep_disfluency/experiments/results/tag_accuracies\n",
            "copying deep_disfluency/experiments/results/tag_accuracies/005.text -> build/lib/deep_disfluency/experiments/results/tag_accuracies\n",
            "copying deep_disfluency/experiments/results/tag_accuracies/027.text -> build/lib/deep_disfluency/experiments/results/tag_accuracies\n",
            "copying deep_disfluency/experiments/results/tag_accuracies/036.text -> build/lib/deep_disfluency/experiments/results/tag_accuracies\n",
            "copying deep_disfluency/experiments/results/tag_accuracies/009.text -> build/lib/deep_disfluency/experiments/results/tag_accuracies\n",
            "copying deep_disfluency/experiments/results/tag_accuracies/007.text -> build/lib/deep_disfluency/experiments/results/tag_accuracies\n",
            "copying deep_disfluency/experiments/results/tag_accuracies/011.text -> build/lib/deep_disfluency/experiments/results/tag_accuracies\n",
            "copying deep_disfluency/experiments/results/tag_accuracies/021.text -> build/lib/deep_disfluency/experiments/results/tag_accuracies\n",
            "copying deep_disfluency/experiments/results/tag_accuracies/041.text -> build/lib/deep_disfluency/experiments/results/tag_accuracies\n",
            "copying deep_disfluency/experiments/results/tag_accuracies/029.text -> build/lib/deep_disfluency/experiments/results/tag_accuracies\n",
            "copying deep_disfluency/experiments/results/tag_accuracies/002.text -> build/lib/deep_disfluency/experiments/results/tag_accuracies\n",
            "copying deep_disfluency/experiments/results/tag_accuracies/033.text -> build/lib/deep_disfluency/experiments/results/tag_accuracies\n",
            "copying deep_disfluency/experiments/results/tag_accuracies/037.text -> build/lib/deep_disfluency/experiments/results/tag_accuracies\n",
            "copying deep_disfluency/experiments/results/tag_accuracies/016.text -> build/lib/deep_disfluency/experiments/results/tag_accuracies\n",
            "copying deep_disfluency/experiments/results/tag_accuracies/034.text -> build/lib/deep_disfluency/experiments/results/tag_accuracies\n",
            "copying deep_disfluency/experiments/results/tag_accuracies/023.text -> build/lib/deep_disfluency/experiments/results/tag_accuracies\n",
            "copying deep_disfluency/experiments/results/tag_accuracies/020.text -> build/lib/deep_disfluency/experiments/results/tag_accuracies\n",
            "copying deep_disfluency/experiments/results/tag_accuracies/039.text -> build/lib/deep_disfluency/experiments/results/tag_accuracies\n",
            "copying deep_disfluency/experiments/results/tag_accuracies/030.text -> build/lib/deep_disfluency/experiments/results/tag_accuracies\n",
            "copying deep_disfluency/experiments/results/tag_accuracies/006.text -> build/lib/deep_disfluency/experiments/results/tag_accuracies\n",
            "copying deep_disfluency/experiments/results/tag_accuracies/038.text -> build/lib/deep_disfluency/experiments/results/tag_accuracies\n",
            "copying deep_disfluency/experiments/results/tag_accuracies/014.text -> build/lib/deep_disfluency/experiments/results/tag_accuracies\n",
            "creating build/lib/deep_disfluency/experiments/033\n",
            "creating build/lib/deep_disfluency/experiments/033/epoch_45\n",
            "copying deep_disfluency/experiments/033/epoch_45/swbd_disf_test_partial_data_output_final.text -> build/lib/deep_disfluency/experiments/033/epoch_45\n",
            "copying deep_disfluency/experiments/033/epoch_45/swbd_disf_test_partial_timings_data_output_final.text -> build/lib/deep_disfluency/experiments/033/epoch_45\n",
            "copying deep_disfluency/experiments/033/epoch_45/swbd_disf_heldout_partial_data_output_increco.text -> build/lib/deep_disfluency/experiments/033/epoch_45\n",
            "copying deep_disfluency/experiments/033/epoch_45/swbd_disf_heldout_partial_timings_data_output_increco.text -> build/lib/deep_disfluency/experiments/033/epoch_45\n",
            "copying deep_disfluency/experiments/033/epoch_45/bh.npy -> build/lib/deep_disfluency/experiments/033/epoch_45\n",
            "copying deep_disfluency/experiments/033/epoch_45/swbd_disf_heldout_partial_timings_data_output_final.text -> build/lib/deep_disfluency/experiments/033/epoch_45\n",
            "copying deep_disfluency/experiments/033/epoch_45/swbd_disf_heldout_partial_data_output_final.text -> build/lib/deep_disfluency/experiments/033/epoch_45\n",
            "copying deep_disfluency/experiments/033/epoch_45/h0.npy -> build/lib/deep_disfluency/experiments/033/epoch_45\n",
            "copying deep_disfluency/experiments/033/epoch_45/Wh.npy -> build/lib/deep_disfluency/experiments/033/epoch_45\n",
            "copying deep_disfluency/experiments/033/epoch_45/Wx.npy -> build/lib/deep_disfluency/experiments/033/epoch_45\n",
            "copying deep_disfluency/experiments/033/epoch_45/embeddings.npy -> build/lib/deep_disfluency/experiments/033/epoch_45\n",
            "copying deep_disfluency/experiments/033/epoch_45/swbd_disf_test_partial_data_output_increco.text -> build/lib/deep_disfluency/experiments/033/epoch_45\n",
            "copying deep_disfluency/experiments/033/epoch_45/swbd_disf_test_partial_timings_data_output_increco.text -> build/lib/deep_disfluency/experiments/033/epoch_45\n",
            "copying deep_disfluency/experiments/033/epoch_45/W.npy -> build/lib/deep_disfluency/experiments/033/epoch_45\n",
            "copying deep_disfluency/experiments/033/epoch_45/b.npy -> build/lib/deep_disfluency/experiments/033/epoch_45\n",
            "creating build/lib/deep_disfluency/experiments/035\n",
            "creating build/lib/deep_disfluency/experiments/035/epoch_6\n",
            "copying deep_disfluency/experiments/035/epoch_6/swbd_disf_test_partial_data_output_final.text -> build/lib/deep_disfluency/experiments/035/epoch_6\n",
            "copying deep_disfluency/experiments/035/epoch_6/swbd_disf_test_partial_timings_data_output_final.text -> build/lib/deep_disfluency/experiments/035/epoch_6\n",
            "copying deep_disfluency/experiments/035/epoch_6/W_xf.npy -> build/lib/deep_disfluency/experiments/035/epoch_6\n",
            "copying deep_disfluency/experiments/035/epoch_6/W_xc.npy -> build/lib/deep_disfluency/experiments/035/epoch_6\n",
            "copying deep_disfluency/experiments/035/epoch_6/swbd_disf_heldout_partial_data_output_increco.text -> build/lib/deep_disfluency/experiments/035/epoch_6\n",
            "copying deep_disfluency/experiments/035/epoch_6/swbd_disf_heldout_partial_timings_data_output_increco.text -> build/lib/deep_disfluency/experiments/035/epoch_6\n",
            "copying deep_disfluency/experiments/035/epoch_6/b_i.npy -> build/lib/deep_disfluency/experiments/035/epoch_6\n",
            "copying deep_disfluency/experiments/035/epoch_6/W_hy.npy -> build/lib/deep_disfluency/experiments/035/epoch_6\n",
            "copying deep_disfluency/experiments/035/epoch_6/swbd_disf_heldout_partial_timings_data_output_final.text -> build/lib/deep_disfluency/experiments/035/epoch_6\n",
            "copying deep_disfluency/experiments/035/epoch_6/swbd_disf_heldout_partial_data_output_final.text -> build/lib/deep_disfluency/experiments/035/epoch_6\n",
            "copying deep_disfluency/experiments/035/epoch_6/W_hc.npy -> build/lib/deep_disfluency/experiments/035/epoch_6\n",
            "copying deep_disfluency/experiments/035/epoch_6/W_hi.npy -> build/lib/deep_disfluency/experiments/035/epoch_6\n",
            "copying deep_disfluency/experiments/035/epoch_6/W_ci.npy -> build/lib/deep_disfluency/experiments/035/epoch_6\n",
            "copying deep_disfluency/experiments/035/epoch_6/embeddings.npy -> build/lib/deep_disfluency/experiments/035/epoch_6\n",
            "copying deep_disfluency/experiments/035/epoch_6/swbd_disf_test_partial_data_output_increco.text -> build/lib/deep_disfluency/experiments/035/epoch_6\n",
            "copying deep_disfluency/experiments/035/epoch_6/swbd_disf_test_partial_timings_data_output_increco.text -> build/lib/deep_disfluency/experiments/035/epoch_6\n",
            "copying deep_disfluency/experiments/035/epoch_6/W_co.npy -> build/lib/deep_disfluency/experiments/035/epoch_6\n",
            "copying deep_disfluency/experiments/035/epoch_6/b_c.npy -> build/lib/deep_disfluency/experiments/035/epoch_6\n",
            "copying deep_disfluency/experiments/035/epoch_6/W_ho.npy -> build/lib/deep_disfluency/experiments/035/epoch_6\n",
            "copying deep_disfluency/experiments/035/epoch_6/b_y.npy -> build/lib/deep_disfluency/experiments/035/epoch_6\n",
            "copying deep_disfluency/experiments/035/epoch_6/W_cf.npy -> build/lib/deep_disfluency/experiments/035/epoch_6\n",
            "copying deep_disfluency/experiments/035/epoch_6/W_hf.npy -> build/lib/deep_disfluency/experiments/035/epoch_6\n",
            "copying deep_disfluency/experiments/035/epoch_6/W_xi.npy -> build/lib/deep_disfluency/experiments/035/epoch_6\n",
            "copying deep_disfluency/experiments/035/epoch_6/b_o.npy -> build/lib/deep_disfluency/experiments/035/epoch_6\n",
            "copying deep_disfluency/experiments/035/epoch_6/b_f.npy -> build/lib/deep_disfluency/experiments/035/epoch_6\n",
            "creating build/lib/deep_disfluency/experiments/036\n",
            "creating build/lib/deep_disfluency/experiments/036/epoch_15\n",
            "copying deep_disfluency/experiments/036/epoch_15/swbd_disf_test_partial_data_output_final.text -> build/lib/deep_disfluency/experiments/036/epoch_15\n",
            "copying deep_disfluency/experiments/036/epoch_15/swbd_disf_test_partial_timings_data_output_final.text -> build/lib/deep_disfluency/experiments/036/epoch_15\n",
            "copying deep_disfluency/experiments/036/epoch_15/W_xf.npy -> build/lib/deep_disfluency/experiments/036/epoch_15\n",
            "copying deep_disfluency/experiments/036/epoch_15/W_xc.npy -> build/lib/deep_disfluency/experiments/036/epoch_15\n",
            "copying deep_disfluency/experiments/036/epoch_15/swbd_disf_heldout_partial_data_output_increco.text -> build/lib/deep_disfluency/experiments/036/epoch_15\n",
            "copying deep_disfluency/experiments/036/epoch_15/swbd_disf_heldout_partial_timings_data_output_increco.text -> build/lib/deep_disfluency/experiments/036/epoch_15\n",
            "copying deep_disfluency/experiments/036/epoch_15/b_i.npy -> build/lib/deep_disfluency/experiments/036/epoch_15\n",
            "copying deep_disfluency/experiments/036/epoch_15/W_hy.npy -> build/lib/deep_disfluency/experiments/036/epoch_15\n",
            "copying deep_disfluency/experiments/036/epoch_15/swbd_disf_heldout_partial_timings_data_output_final.text -> build/lib/deep_disfluency/experiments/036/epoch_15\n",
            "copying deep_disfluency/experiments/036/epoch_15/swbd_disf_heldout_partial_data_output_final.text -> build/lib/deep_disfluency/experiments/036/epoch_15\n",
            "copying deep_disfluency/experiments/036/epoch_15/W_hc.npy -> build/lib/deep_disfluency/experiments/036/epoch_15\n",
            "copying deep_disfluency/experiments/036/epoch_15/W_hi.npy -> build/lib/deep_disfluency/experiments/036/epoch_15\n",
            "copying deep_disfluency/experiments/036/epoch_15/W_ci.npy -> build/lib/deep_disfluency/experiments/036/epoch_15\n",
            "copying deep_disfluency/experiments/036/epoch_15/embeddings.npy -> build/lib/deep_disfluency/experiments/036/epoch_15\n",
            "copying deep_disfluency/experiments/036/epoch_15/swbd_disf_test_partial_data_output_increco.text -> build/lib/deep_disfluency/experiments/036/epoch_15\n",
            "copying deep_disfluency/experiments/036/epoch_15/swbd_disf_test_partial_timings_data_output_increco.text -> build/lib/deep_disfluency/experiments/036/epoch_15\n",
            "copying deep_disfluency/experiments/036/epoch_15/W_co.npy -> build/lib/deep_disfluency/experiments/036/epoch_15\n",
            "copying deep_disfluency/experiments/036/epoch_15/b_c.npy -> build/lib/deep_disfluency/experiments/036/epoch_15\n",
            "copying deep_disfluency/experiments/036/epoch_15/W_ho.npy -> build/lib/deep_disfluency/experiments/036/epoch_15\n",
            "copying deep_disfluency/experiments/036/epoch_15/b_y.npy -> build/lib/deep_disfluency/experiments/036/epoch_15\n",
            "copying deep_disfluency/experiments/036/epoch_15/W_cf.npy -> build/lib/deep_disfluency/experiments/036/epoch_15\n",
            "copying deep_disfluency/experiments/036/epoch_15/W_hf.npy -> build/lib/deep_disfluency/experiments/036/epoch_15\n",
            "copying deep_disfluency/experiments/036/epoch_15/W_xi.npy -> build/lib/deep_disfluency/experiments/036/epoch_15\n",
            "copying deep_disfluency/experiments/036/epoch_15/b_o.npy -> build/lib/deep_disfluency/experiments/036/epoch_15\n",
            "copying deep_disfluency/experiments/036/epoch_15/b_f.npy -> build/lib/deep_disfluency/experiments/036/epoch_15\n",
            "creating build/lib/deep_disfluency/experiments/036/epoch_8\n",
            "copying deep_disfluency/experiments/036/epoch_8/W_xf.npy -> build/lib/deep_disfluency/experiments/036/epoch_8\n",
            "copying deep_disfluency/experiments/036/epoch_8/W_xc.npy -> build/lib/deep_disfluency/experiments/036/epoch_8\n",
            "copying deep_disfluency/experiments/036/epoch_8/b_i.npy -> build/lib/deep_disfluency/experiments/036/epoch_8\n",
            "copying deep_disfluency/experiments/036/epoch_8/W_hy.npy -> build/lib/deep_disfluency/experiments/036/epoch_8\n",
            "copying deep_disfluency/experiments/036/epoch_8/W_hc.npy -> build/lib/deep_disfluency/experiments/036/epoch_8\n",
            "copying deep_disfluency/experiments/036/epoch_8/W_hi.npy -> build/lib/deep_disfluency/experiments/036/epoch_8\n",
            "copying deep_disfluency/experiments/036/epoch_8/W_ci.npy -> build/lib/deep_disfluency/experiments/036/epoch_8\n",
            "copying deep_disfluency/experiments/036/epoch_8/embeddings.npy -> build/lib/deep_disfluency/experiments/036/epoch_8\n",
            "copying deep_disfluency/experiments/036/epoch_8/W_co.npy -> build/lib/deep_disfluency/experiments/036/epoch_8\n",
            "copying deep_disfluency/experiments/036/epoch_8/b_c.npy -> build/lib/deep_disfluency/experiments/036/epoch_8\n",
            "copying deep_disfluency/experiments/036/epoch_8/W_ho.npy -> build/lib/deep_disfluency/experiments/036/epoch_8\n",
            "copying deep_disfluency/experiments/036/epoch_8/b_y.npy -> build/lib/deep_disfluency/experiments/036/epoch_8\n",
            "copying deep_disfluency/experiments/036/epoch_8/W_cf.npy -> build/lib/deep_disfluency/experiments/036/epoch_8\n",
            "copying deep_disfluency/experiments/036/epoch_8/W_hf.npy -> build/lib/deep_disfluency/experiments/036/epoch_8\n",
            "copying deep_disfluency/experiments/036/epoch_8/W_xi.npy -> build/lib/deep_disfluency/experiments/036/epoch_8\n",
            "copying deep_disfluency/experiments/036/epoch_8/b_o.npy -> build/lib/deep_disfluency/experiments/036/epoch_8\n",
            "copying deep_disfluency/experiments/036/epoch_8/b_f.npy -> build/lib/deep_disfluency/experiments/036/epoch_8\n",
            "creating build/lib/deep_disfluency/experiments/021\n",
            "creating build/lib/deep_disfluency/experiments/021/epoch_40\n",
            "copying deep_disfluency/experiments/021/epoch_40/swbd_disf_test_partial_data_output_final.text -> build/lib/deep_disfluency/experiments/021/epoch_40\n",
            "copying deep_disfluency/experiments/021/epoch_40/swbd_disf_heldout_partial_data_output_increco.text -> build/lib/deep_disfluency/experiments/021/epoch_40\n",
            "copying deep_disfluency/experiments/021/epoch_40/swbd_disf_test_data_output_final.text -> build/lib/deep_disfluency/experiments/021/epoch_40\n",
            "copying deep_disfluency/experiments/021/epoch_40/bh.npy -> build/lib/deep_disfluency/experiments/021/epoch_40\n",
            "copying deep_disfluency/experiments/021/epoch_40/swbd_disf_heldout_partial_data_output_final.text -> build/lib/deep_disfluency/experiments/021/epoch_40\n",
            "copying deep_disfluency/experiments/021/epoch_40/h0.npy -> build/lib/deep_disfluency/experiments/021/epoch_40\n",
            "copying deep_disfluency/experiments/021/epoch_40/Wh.npy -> build/lib/deep_disfluency/experiments/021/epoch_40\n",
            "copying deep_disfluency/experiments/021/epoch_40/swbd_disf_heldout_data_output_increco.text -> build/lib/deep_disfluency/experiments/021/epoch_40\n",
            "copying deep_disfluency/experiments/021/epoch_40/Wx.npy -> build/lib/deep_disfluency/experiments/021/epoch_40\n",
            "copying deep_disfluency/experiments/021/epoch_40/embeddings.npy -> build/lib/deep_disfluency/experiments/021/epoch_40\n",
            "copying deep_disfluency/experiments/021/epoch_40/swbd_disf_test_partial_data_output_increco.text -> build/lib/deep_disfluency/experiments/021/epoch_40\n",
            "copying deep_disfluency/experiments/021/epoch_40/W.npy -> build/lib/deep_disfluency/experiments/021/epoch_40\n",
            "copying deep_disfluency/experiments/021/epoch_40/swbd_disf_test_data_output_increco.text -> build/lib/deep_disfluency/experiments/021/epoch_40\n",
            "copying deep_disfluency/experiments/021/epoch_40/swbd_disf_heldout_data_output_final.text -> build/lib/deep_disfluency/experiments/021/epoch_40\n",
            "copying deep_disfluency/experiments/021/epoch_40/b.npy -> build/lib/deep_disfluency/experiments/021/epoch_40\n",
            "creating build/lib/deep_disfluency/experiments/analysis\n",
            "creating build/lib/deep_disfluency/experiments/analysis/EACL_2017\n",
            "copying deep_disfluency/experiments/analysis/EACL_2017/EACL_2017_learning_Analysis.ipynb -> build/lib/deep_disfluency/experiments/analysis/EACL_2017\n",
            "copying deep_disfluency/experiments/analysis/EACL_2017/EACL_Learning_Graph.pdf -> build/lib/deep_disfluency/experiments/analysis/EACL_2017\n",
            "copying deep_disfluency/experiments/analysis/EACL_2017/Tag_counts.ipynb -> build/lib/deep_disfluency/experiments/analysis/EACL_2017\n",
            "copying deep_disfluency/experiments/analysis/EACL_2017/EACL_2017.ipynb -> build/lib/deep_disfluency/experiments/analysis/EACL_2017\n",
            "copying deep_disfluency/experiments/analysis/EACL_2017/latex_output_single_tasks.txt -> build/lib/deep_disfluency/experiments/analysis/EACL_2017\n",
            "copying deep_disfluency/experiments/analysis/EACL_2017/latex_output_single_tasks_simple.txt -> build/lib/deep_disfluency/experiments/analysis/EACL_2017\n",
            "copying deep_disfluency/experiments/analysis/EACL_2017/latex_output.txt -> build/lib/deep_disfluency/experiments/analysis/EACL_2017\n",
            "creating build/lib/deep_disfluency/experiments/analysis/Interspeech_2015_EMNLP_2015\n",
            "copying deep_disfluency/experiments/analysis/Interspeech_2015_EMNLP_2015/Interspeech_2015_embedding_plotting.ipynb -> build/lib/deep_disfluency/experiments/analysis/Interspeech_2015_EMNLP_2015\n",
            "copying deep_disfluency/experiments/analysis/Interspeech_2015_EMNLP_2015/EMNLPgraph.pdf -> build/lib/deep_disfluency/experiments/analysis/Interspeech_2015_EMNLP_2015\n",
            "copying deep_disfluency/experiments/analysis/Interspeech_2015_EMNLP_2015/embeddings2.png -> build/lib/deep_disfluency/experiments/analysis/Interspeech_2015_EMNLP_2015\n",
            "copying deep_disfluency/experiments/analysis/Interspeech_2015_EMNLP_2015/LearningCurveGraph.png -> build/lib/deep_disfluency/experiments/analysis/Interspeech_2015_EMNLP_2015\n",
            "copying deep_disfluency/experiments/analysis/Interspeech_2015_EMNLP_2015/ISgraph2.pdf -> build/lib/deep_disfluency/experiments/analysis/Interspeech_2015_EMNLP_2015\n",
            "copying deep_disfluency/experiments/analysis/Interspeech_2015_EMNLP_2015/embeddings.png -> build/lib/deep_disfluency/experiments/analysis/Interspeech_2015_EMNLP_2015\n",
            "copying deep_disfluency/experiments/analysis/Interspeech_2015_EMNLP_2015/ISgraph.pdf -> build/lib/deep_disfluency/experiments/analysis/Interspeech_2015_EMNLP_2015\n",
            "copying deep_disfluency/experiments/analysis/Interspeech_2015_EMNLP_2015/Interspeech_2015_eval.ipynb -> build/lib/deep_disfluency/experiments/analysis/Interspeech_2015_EMNLP_2015\n",
            "copying deep_disfluency/experiments/analysis/Interspeech_2015_EMNLP_2015/Interspeech_2015_and_EMNLP_submission_learning_analysis.ipynb -> build/lib/deep_disfluency/experiments/analysis/Interspeech_2015_EMNLP_2015\n",
            "copying deep_disfluency/experiments/analysis/Interspeech_2015_EMNLP_2015/ISgraph.png -> build/lib/deep_disfluency/experiments/analysis/Interspeech_2015_EMNLP_2015\n",
            "creating build/lib/deep_disfluency/experiments/038\n",
            "creating build/lib/deep_disfluency/experiments/038/epoch_8\n",
            "copying deep_disfluency/experiments/038/epoch_8/swbd_disf_test_partial_data_output_final.text -> build/lib/deep_disfluency/experiments/038/epoch_8\n",
            "copying deep_disfluency/experiments/038/epoch_8/swbd_disf_test_partial_timings_data_output_final.text -> build/lib/deep_disfluency/experiments/038/epoch_8\n",
            "copying deep_disfluency/experiments/038/epoch_8/W_xf.npy -> build/lib/deep_disfluency/experiments/038/epoch_8\n",
            "copying deep_disfluency/experiments/038/epoch_8/W_xc.npy -> build/lib/deep_disfluency/experiments/038/epoch_8\n",
            "copying deep_disfluency/experiments/038/epoch_8/swbd_disf_heldout_partial_data_output_increco.text -> build/lib/deep_disfluency/experiments/038/epoch_8\n",
            "copying deep_disfluency/experiments/038/epoch_8/swbd_disf_heldout_partial_timings_data_output_increco.text -> build/lib/deep_disfluency/experiments/038/epoch_8\n",
            "copying deep_disfluency/experiments/038/epoch_8/b_i.npy -> build/lib/deep_disfluency/experiments/038/epoch_8\n",
            "copying deep_disfluency/experiments/038/epoch_8/W_hy.npy -> build/lib/deep_disfluency/experiments/038/epoch_8\n",
            "copying deep_disfluency/experiments/038/epoch_8/swbd_disf_heldout_partial_timings_data_output_final.text -> build/lib/deep_disfluency/experiments/038/epoch_8\n",
            "copying deep_disfluency/experiments/038/epoch_8/swbd_disf_heldout_partial_data_output_final.text -> build/lib/deep_disfluency/experiments/038/epoch_8\n",
            "copying deep_disfluency/experiments/038/epoch_8/W_hc.npy -> build/lib/deep_disfluency/experiments/038/epoch_8\n",
            "copying deep_disfluency/experiments/038/epoch_8/W_hi.npy -> build/lib/deep_disfluency/experiments/038/epoch_8\n",
            "copying deep_disfluency/experiments/038/epoch_8/W_ci.npy -> build/lib/deep_disfluency/experiments/038/epoch_8\n",
            "copying deep_disfluency/experiments/038/epoch_8/embeddings.npy -> build/lib/deep_disfluency/experiments/038/epoch_8\n",
            "copying deep_disfluency/experiments/038/epoch_8/swbd_disf_test_partial_data_output_increco.text -> build/lib/deep_disfluency/experiments/038/epoch_8\n",
            "copying deep_disfluency/experiments/038/epoch_8/swbd_disf_test_partial_timings_data_output_increco.text -> build/lib/deep_disfluency/experiments/038/epoch_8\n",
            "copying deep_disfluency/experiments/038/epoch_8/W_co.npy -> build/lib/deep_disfluency/experiments/038/epoch_8\n",
            "copying deep_disfluency/experiments/038/epoch_8/b_c.npy -> build/lib/deep_disfluency/experiments/038/epoch_8\n",
            "copying deep_disfluency/experiments/038/epoch_8/W_ho.npy -> build/lib/deep_disfluency/experiments/038/epoch_8\n",
            "copying deep_disfluency/experiments/038/epoch_8/b_y.npy -> build/lib/deep_disfluency/experiments/038/epoch_8\n",
            "copying deep_disfluency/experiments/038/epoch_8/W_cf.npy -> build/lib/deep_disfluency/experiments/038/epoch_8\n",
            "copying deep_disfluency/experiments/038/epoch_8/W_hf.npy -> build/lib/deep_disfluency/experiments/038/epoch_8\n",
            "copying deep_disfluency/experiments/038/epoch_8/W_xi.npy -> build/lib/deep_disfluency/experiments/038/epoch_8\n",
            "copying deep_disfluency/experiments/038/epoch_8/b_o.npy -> build/lib/deep_disfluency/experiments/038/epoch_8\n",
            "copying deep_disfluency/experiments/038/epoch_8/b_f.npy -> build/lib/deep_disfluency/experiments/038/epoch_8\n",
            "creating build/lib/deep_disfluency/experiments/034\n",
            "creating build/lib/deep_disfluency/experiments/034/epoch_37\n",
            "copying deep_disfluency/experiments/034/epoch_37/swbd_disf_test_partial_data_output_final.text -> build/lib/deep_disfluency/experiments/034/epoch_37\n",
            "copying deep_disfluency/experiments/034/epoch_37/swbd_disf_test_partial_timings_data_output_final.text -> build/lib/deep_disfluency/experiments/034/epoch_37\n",
            "copying deep_disfluency/experiments/034/epoch_37/swbd_disf_heldout_partial_data_output_increco.text -> build/lib/deep_disfluency/experiments/034/epoch_37\n",
            "copying deep_disfluency/experiments/034/epoch_37/swbd_disf_heldout_partial_timings_data_output_increco.text -> build/lib/deep_disfluency/experiments/034/epoch_37\n",
            "copying deep_disfluency/experiments/034/epoch_37/bh.npy -> build/lib/deep_disfluency/experiments/034/epoch_37\n",
            "copying deep_disfluency/experiments/034/epoch_37/swbd_disf_heldout_partial_timings_data_output_final.text -> build/lib/deep_disfluency/experiments/034/epoch_37\n",
            "copying deep_disfluency/experiments/034/epoch_37/swbd_disf_heldout_partial_data_output_final.text -> build/lib/deep_disfluency/experiments/034/epoch_37\n",
            "copying deep_disfluency/experiments/034/epoch_37/h0.npy -> build/lib/deep_disfluency/experiments/034/epoch_37\n",
            "copying deep_disfluency/experiments/034/epoch_37/Wh.npy -> build/lib/deep_disfluency/experiments/034/epoch_37\n",
            "copying deep_disfluency/experiments/034/epoch_37/Wx.npy -> build/lib/deep_disfluency/experiments/034/epoch_37\n",
            "copying deep_disfluency/experiments/034/epoch_37/embeddings.npy -> build/lib/deep_disfluency/experiments/034/epoch_37\n",
            "copying deep_disfluency/experiments/034/epoch_37/swbd_disf_test_partial_data_output_increco.text -> build/lib/deep_disfluency/experiments/034/epoch_37\n",
            "copying deep_disfluency/experiments/034/epoch_37/swbd_disf_test_partial_timings_data_output_increco.text -> build/lib/deep_disfluency/experiments/034/epoch_37\n",
            "copying deep_disfluency/experiments/034/epoch_37/W.npy -> build/lib/deep_disfluency/experiments/034/epoch_37\n",
            "copying deep_disfluency/experiments/034/epoch_37/b.npy -> build/lib/deep_disfluency/experiments/034/epoch_37\n",
            "creating build/lib/deep_disfluency/experiments/037\n",
            "creating build/lib/deep_disfluency/experiments/037/epoch_6\n",
            "copying deep_disfluency/experiments/037/epoch_6/swbd_disf_test_partial_data_output_final.text -> build/lib/deep_disfluency/experiments/037/epoch_6\n",
            "copying deep_disfluency/experiments/037/epoch_6/W_xf.npy -> build/lib/deep_disfluency/experiments/037/epoch_6\n",
            "copying deep_disfluency/experiments/037/epoch_6/W_xc.npy -> build/lib/deep_disfluency/experiments/037/epoch_6\n",
            "copying deep_disfluency/experiments/037/epoch_6/swbd_disf_heldout_partial_data_output_increco.text -> build/lib/deep_disfluency/experiments/037/epoch_6\n",
            "copying deep_disfluency/experiments/037/epoch_6/swbd_disf_heldout_partial_timings_data_output_increco.text -> build/lib/deep_disfluency/experiments/037/epoch_6\n",
            "copying deep_disfluency/experiments/037/epoch_6/b_i.npy -> build/lib/deep_disfluency/experiments/037/epoch_6\n",
            "copying deep_disfluency/experiments/037/epoch_6/W_hy.npy -> build/lib/deep_disfluency/experiments/037/epoch_6\n",
            "copying deep_disfluency/experiments/037/epoch_6/swbd_disf_heldout_partial_data_output_final.text -> build/lib/deep_disfluency/experiments/037/epoch_6\n",
            "copying deep_disfluency/experiments/037/epoch_6/W_hc.npy -> build/lib/deep_disfluency/experiments/037/epoch_6\n",
            "copying deep_disfluency/experiments/037/epoch_6/W_hi.npy -> build/lib/deep_disfluency/experiments/037/epoch_6\n",
            "copying deep_disfluency/experiments/037/epoch_6/W_ci.npy -> build/lib/deep_disfluency/experiments/037/epoch_6\n",
            "copying deep_disfluency/experiments/037/epoch_6/embeddings.npy -> build/lib/deep_disfluency/experiments/037/epoch_6\n",
            "copying deep_disfluency/experiments/037/epoch_6/swbd_disf_test_partial_data_output_increco.text -> build/lib/deep_disfluency/experiments/037/epoch_6\n",
            "copying deep_disfluency/experiments/037/epoch_6/W_co.npy -> build/lib/deep_disfluency/experiments/037/epoch_6\n",
            "copying deep_disfluency/experiments/037/epoch_6/b_c.npy -> build/lib/deep_disfluency/experiments/037/epoch_6\n",
            "copying deep_disfluency/experiments/037/epoch_6/W_ho.npy -> build/lib/deep_disfluency/experiments/037/epoch_6\n",
            "copying deep_disfluency/experiments/037/epoch_6/b_y.npy -> build/lib/deep_disfluency/experiments/037/epoch_6\n",
            "copying deep_disfluency/experiments/037/epoch_6/W_cf.npy -> build/lib/deep_disfluency/experiments/037/epoch_6\n",
            "copying deep_disfluency/experiments/037/epoch_6/W_hf.npy -> build/lib/deep_disfluency/experiments/037/epoch_6\n",
            "copying deep_disfluency/experiments/037/epoch_6/W_xi.npy -> build/lib/deep_disfluency/experiments/037/epoch_6\n",
            "copying deep_disfluency/experiments/037/epoch_6/b_o.npy -> build/lib/deep_disfluency/experiments/037/epoch_6\n",
            "copying deep_disfluency/experiments/037/epoch_6/b_f.npy -> build/lib/deep_disfluency/experiments/037/epoch_6\n",
            "creating build/lib/deep_disfluency/data\n",
            "creating build/lib/deep_disfluency/data/lm_corpora\n",
            "copying deep_disfluency/data/lm_corpora/swbd_disf_train_1_2_edit.text -> build/lib/deep_disfluency/data/lm_corpora\n",
            "copying deep_disfluency/data/lm_corpora/swbd_disf_heldout_edit.text -> build/lib/deep_disfluency/data/lm_corpora\n",
            "copying deep_disfluency/data/lm_corpora/swbd_disf_test_clean.text -> build/lib/deep_disfluency/data/lm_corpora\n",
            "copying deep_disfluency/data/lm_corpora/swbd_disf_test_edit.text -> build/lib/deep_disfluency/data/lm_corpora\n",
            "copying deep_disfluency/data/lm_corpora/swbd_disf_train_1_2_clean.text -> build/lib/deep_disfluency/data/lm_corpora\n",
            "copying deep_disfluency/data/lm_corpora/swbd_disf_train_1_clean.text -> build/lib/deep_disfluency/data/lm_corpora\n",
            "copying deep_disfluency/data/lm_corpora/swbd_disf_train_1_edit.text -> build/lib/deep_disfluency/data/lm_corpora\n",
            "copying deep_disfluency/data/lm_corpora/swbd_disf_heldout_clean.text -> build/lib/deep_disfluency/data/lm_corpora\n",
            "creating build/lib/deep_disfluency/data/tag_representations\n",
            "copying deep_disfluency/data/tag_representations/swbd_disf1_simple_tag_corpus.csv -> build/lib/deep_disfluency/data/tag_representations\n",
            "copying deep_disfluency/data/tag_representations/swbd_dact_interactive_tags.csv -> build/lib/deep_disfluency/data/tag_representations\n",
            "copying deep_disfluency/data/tag_representations/swbd_disf1_uttseg_dact_simple_tags.csv -> build/lib/deep_disfluency/data/tag_representations\n",
            "copying deep_disfluency/data/tag_representations/swbd_disf1_uttseg_simple_tags.csv -> build/lib/deep_disfluency/data/tag_representations\n",
            "copying deep_disfluency/data/tag_representations/swbd_dact_tag_corpus.csv -> build/lib/deep_disfluency/data/tag_representations\n",
            "copying deep_disfluency/data/tag_representations/swbd_uttseg_tag_corpus.csv -> build/lib/deep_disfluency/data/tag_representations\n",
            "copying deep_disfluency/data/tag_representations/swbd_disf1_039_tags.csv -> build/lib/deep_disfluency/data/tag_representations\n",
            "copying deep_disfluency/data/tag_representations/swbd_uttseg_tags.csv -> build/lib/deep_disfluency/data/tag_representations\n",
            "copying deep_disfluency/data/tag_representations/swbd_disf1_tag_corpus.csv -> build/lib/deep_disfluency/data/tag_representations\n",
            "copying deep_disfluency/data/tag_representations/swbd_disf1_041_tags.csv -> build/lib/deep_disfluency/data/tag_representations\n",
            "copying deep_disfluency/data/tag_representations/swbd_disf1_uttseg_dact_laughter_simple_tags.csv -> build/lib/deep_disfluency/data/tag_representations\n",
            "copying deep_disfluency/data/tag_representations/swbd_dact_interactive_tag_corpus.csv -> build/lib/deep_disfluency/data/tag_representations\n",
            "copying deep_disfluency/data/tag_representations/swbd_word_rep_041.csv -> build/lib/deep_disfluency/data/tag_representations\n",
            "copying deep_disfluency/data/tag_representations/swbd_disf1_021_tags.csv -> build/lib/deep_disfluency/data/tag_representations\n",
            "copying deep_disfluency/data/tag_representations/swbd_disf1_uttseg_simple_033_tags.csv -> build/lib/deep_disfluency/data/tag_representations\n",
            "copying deep_disfluency/data/tag_representations/swbd_pos_rep_041.csv -> build/lib/deep_disfluency/data/tag_representations\n",
            "copying deep_disfluency/data/tag_representations/swbd_disf1_uttseg_dact_tags.csv -> build/lib/deep_disfluency/data/tag_representations\n",
            "copying deep_disfluency/data/tag_representations/swbd_disf1_uttseg_034_tags.csv -> build/lib/deep_disfluency/data/tag_representations\n",
            "copying deep_disfluency/data/tag_representations/swbd_laughter_tags.csv -> build/lib/deep_disfluency/data/tag_representations\n",
            "copying deep_disfluency/data/tag_representations/swbd_disf1_uttseg_dact_simple_tag_corpus.csv -> build/lib/deep_disfluency/data/tag_representations\n",
            "copying deep_disfluency/data/tag_representations/swbd_disf1_uttseg_dact_laughter_simple_tag_corpus.csv -> build/lib/deep_disfluency/data/tag_representations\n",
            "copying deep_disfluency/data/tag_representations/swbd_disf1_uttseg_tag_corpus.csv -> build/lib/deep_disfluency/data/tag_representations\n",
            "copying deep_disfluency/data/tag_representations/swbd_disf1_uttseg_dact_laughter_tag_corpus.csv -> build/lib/deep_disfluency/data/tag_representations\n",
            "copying deep_disfluency/data/tag_representations/swbd_disf1_uttseg_tags.csv -> build/lib/deep_disfluency/data/tag_representations\n",
            "copying deep_disfluency/data/tag_representations/swbd_dact_uttseg_interactive_tags.csv -> build/lib/deep_disfluency/data/tag_representations\n",
            "copying deep_disfluency/data/tag_representations/swbd_word_rep.csv -> build/lib/deep_disfluency/data/tag_representations\n",
            "copying deep_disfluency/data/tag_representations/swbd_disf1_simple_tags.csv -> build/lib/deep_disfluency/data/tag_representations\n",
            "copying deep_disfluency/data/tag_representations/swbd_disf1_uttseg_dact_tag_corpus.csv -> build/lib/deep_disfluency/data/tag_representations\n",
            "copying deep_disfluency/data/tag_representations/swbd_word_rep_021.csv -> build/lib/deep_disfluency/data/tag_representations\n",
            "copying deep_disfluency/data/tag_representations/swbd_disf1_rpMid_tags.csv -> build/lib/deep_disfluency/data/tag_representations\n",
            "copying deep_disfluency/data/tag_representations/swbd_dact_tags.csv -> build/lib/deep_disfluency/data/tag_representations\n",
            "copying deep_disfluency/data/tag_representations/swbd_pos_rep_021.csv -> build/lib/deep_disfluency/data/tag_representations\n",
            "copying deep_disfluency/data/tag_representations/swbd_pos_rep.csv -> build/lib/deep_disfluency/data/tag_representations\n",
            "copying deep_disfluency/data/tag_representations/swbd_uttseg_dact_tags.csv -> build/lib/deep_disfluency/data/tag_representations\n",
            "copying deep_disfluency/data/tag_representations/swbd_laughter_tag_corpus.csv -> build/lib/deep_disfluency/data/tag_representations\n",
            "copying deep_disfluency/data/tag_representations/swbd_disf1_uttseg_dact_laughter_tags.csv -> build/lib/deep_disfluency/data/tag_representations\n",
            "copying deep_disfluency/data/tag_representations/swbd_word_rep_033.csv -> build/lib/deep_disfluency/data/tag_representations\n",
            "copying deep_disfluency/data/tag_representations/swbd_dact_uttseg_interactive_tag_corpus.csv -> build/lib/deep_disfluency/data/tag_representations\n",
            "copying deep_disfluency/data/tag_representations/swbd_disf1_uttseg_simple_tag_corpus.csv -> build/lib/deep_disfluency/data/tag_representations\n",
            "copying deep_disfluency/data/tag_representations/swbd_pos_rep_033.csv -> build/lib/deep_disfluency/data/tag_representations\n",
            "copying deep_disfluency/data/tag_representations/swbd_uttseg_dact_tag_corpus.csv -> build/lib/deep_disfluency/data/tag_representations\n",
            "copying deep_disfluency/data/tag_representations/swbd_disf1_tags.csv -> build/lib/deep_disfluency/data/tag_representations\n",
            "creating build/lib/deep_disfluency/decoder/models\n",
            "copying deep_disfluency/decoder/models/swbd_disf1.dot -> build/lib/deep_disfluency/decoder/models\n",
            "copying deep_disfluency/decoder/models/swbd_disf1_uttseg_tags_table.csv -> build/lib/deep_disfluency/decoder/models\n",
            "copying deep_disfluency/decoder/models/swbd_uttseg.csv -> build/lib/deep_disfluency/decoder/models\n",
            "copying deep_disfluency/decoder/models/swbd_uttseg_tags_table.csv -> build/lib/deep_disfluency/decoder/models\n",
            "copying deep_disfluency/decoder/models/swbd_disf1_uttseg_simple.csv -> build/lib/deep_disfluency/decoder/models\n",
            "copying deep_disfluency/decoder/models/swbd_disf1_tags.pkl -> build/lib/deep_disfluency/decoder/models\n",
            "copying deep_disfluency/decoder/models/swbd_dact_interactive_tags.pkl -> build/lib/deep_disfluency/decoder/models\n",
            "copying deep_disfluency/decoder/models/swbd_disf1_simple_tags_table.csv -> build/lib/deep_disfluency/decoder/models\n",
            "copying deep_disfluency/decoder/models/swbd_disf1_uttseg_simple_033.csv -> build/lib/deep_disfluency/decoder/models\n",
            "copying deep_disfluency/decoder/models/swbd_disf1_uttseg_034_tags.pkl -> build/lib/deep_disfluency/decoder/models\n",
            "copying deep_disfluency/decoder/models/swbd_disf1_uttseg_simple_033_tags_table.csv -> build/lib/deep_disfluency/decoder/models\n",
            "copying deep_disfluency/decoder/models/swbd_disf1_uttseg_034_tags_table.csv -> build/lib/deep_disfluency/decoder/models\n",
            "copying deep_disfluency/decoder/models/swbd_uttseg_dacts_tags.pkl -> build/lib/deep_disfluency/decoder/models\n",
            "copying deep_disfluency/decoder/models/swbd_dact_interactive_tags_table.csv -> build/lib/deep_disfluency/decoder/models\n",
            "copying deep_disfluency/decoder/models/swbd_dact_uttseg_interactive_tags.pkl -> build/lib/deep_disfluency/decoder/models\n",
            "copying deep_disfluency/decoder/models/swbd_disf1_uttseg.csv -> build/lib/deep_disfluency/decoder/models\n",
            "copying deep_disfluency/decoder/models/swbd_disf1_tags_table.csv -> build/lib/deep_disfluency/decoder/models\n",
            "copying deep_disfluency/decoder/models/swbd_disf1_simple.csv -> build/lib/deep_disfluency/decoder/models\n",
            "copying deep_disfluency/decoder/models/swbd_dact_uttseg_interactive_tags_table.csv -> build/lib/deep_disfluency/decoder/models\n",
            "copying deep_disfluency/decoder/models/swbd_uttseg_tags.pkl -> build/lib/deep_disfluency/decoder/models\n",
            "copying deep_disfluency/decoder/models/swbd_disf1_simple_tags.pkl -> build/lib/deep_disfluency/decoder/models\n",
            "copying deep_disfluency/decoder/models/swbd_disf1_uttseg_dacts_tags.pkl -> build/lib/deep_disfluency/decoder/models\n",
            "copying deep_disfluency/decoder/models/swbd_disf1_uttseg_tags.pkl -> build/lib/deep_disfluency/decoder/models\n",
            "copying deep_disfluency/decoder/models/swbd_disf1_021_tags_table.csv -> build/lib/deep_disfluency/decoder/models\n",
            "copying deep_disfluency/decoder/models/swbd_disf1_uttseg_simple_033_tags.pkl -> build/lib/deep_disfluency/decoder/models\n",
            "copying deep_disfluency/decoder/models/swbd_disf1_021_tags.pkl -> build/lib/deep_disfluency/decoder/models\n",
            "copying deep_disfluency/decoder/models/swbd_dact_tags.pkl -> build/lib/deep_disfluency/decoder/models\n",
            "creating build/lib/deep_disfluency/decoder/timing_models\n",
            "copying deep_disfluency/decoder/timing_models/LogReg_balanced_timing_scaler.pkl -> build/lib/deep_disfluency/decoder/timing_models\n",
            "copying deep_disfluency/decoder/timing_models/LogReg_balanced_timing_classifier.pkl -> build/lib/deep_disfluency/decoder/timing_models\n",
            "copying deep_disfluency/feature_extraction/crfpostagger -> build/lib/deep_disfluency/feature_extraction\n",
            "creating build/bdist.linux-x86_64\n",
            "creating build/bdist.linux-x86_64/egg\n",
            "creating build/bdist.linux-x86_64/egg/deep_disfluency\n",
            "creating build/bdist.linux-x86_64/egg/deep_disfluency/language_model\n",
            "copying build/lib/deep_disfluency/language_model/util.py -> build/bdist.linux-x86_64/egg/deep_disfluency/language_model\n",
            "copying build/lib/deep_disfluency/language_model/ngram_language_model.py -> build/bdist.linux-x86_64/egg/deep_disfluency/language_model\n",
            "copying build/lib/deep_disfluency/language_model/__init__.py -> build/bdist.linux-x86_64/egg/deep_disfluency/language_model\n",
            "creating build/bdist.linux-x86_64/egg/deep_disfluency/embeddings\n",
            "copying build/lib/deep_disfluency/embeddings/load_embeddings.py -> build/bdist.linux-x86_64/egg/deep_disfluency/embeddings\n",
            "copying build/lib/deep_disfluency/embeddings/__init__.py -> build/bdist.linux-x86_64/egg/deep_disfluency/embeddings\n",
            "copying build/lib/deep_disfluency/embeddings/gensim_embeddings.py -> build/bdist.linux-x86_64/egg/deep_disfluency/embeddings\n",
            "creating build/bdist.linux-x86_64/egg/deep_disfluency/decoder\n",
            "creating build/bdist.linux-x86_64/egg/deep_disfluency/decoder/timing_models\n",
            "copying build/lib/deep_disfluency/decoder/timing_models/LogReg_balanced_timing_scaler.pkl -> build/bdist.linux-x86_64/egg/deep_disfluency/decoder/timing_models\n",
            "copying build/lib/deep_disfluency/decoder/timing_models/LogReg_balanced_timing_classifier.pkl -> build/bdist.linux-x86_64/egg/deep_disfluency/decoder/timing_models\n",
            "copying build/lib/deep_disfluency/decoder/timing_model.py -> build/bdist.linux-x86_64/egg/deep_disfluency/decoder\n",
            "creating build/bdist.linux-x86_64/egg/deep_disfluency/decoder/models\n",
            "copying build/lib/deep_disfluency/decoder/models/swbd_disf1.dot -> build/bdist.linux-x86_64/egg/deep_disfluency/decoder/models\n",
            "copying build/lib/deep_disfluency/decoder/models/swbd_disf1_uttseg_tags_table.csv -> build/bdist.linux-x86_64/egg/deep_disfluency/decoder/models\n",
            "copying build/lib/deep_disfluency/decoder/models/swbd_uttseg.csv -> build/bdist.linux-x86_64/egg/deep_disfluency/decoder/models\n",
            "copying build/lib/deep_disfluency/decoder/models/swbd_uttseg_tags_table.csv -> build/bdist.linux-x86_64/egg/deep_disfluency/decoder/models\n",
            "copying build/lib/deep_disfluency/decoder/models/swbd_disf1_uttseg_simple.csv -> build/bdist.linux-x86_64/egg/deep_disfluency/decoder/models\n",
            "copying build/lib/deep_disfluency/decoder/models/swbd_disf1_tags.pkl -> build/bdist.linux-x86_64/egg/deep_disfluency/decoder/models\n",
            "copying build/lib/deep_disfluency/decoder/models/swbd_dact_interactive_tags.pkl -> build/bdist.linux-x86_64/egg/deep_disfluency/decoder/models\n",
            "copying build/lib/deep_disfluency/decoder/models/swbd_disf1_simple_tags_table.csv -> build/bdist.linux-x86_64/egg/deep_disfluency/decoder/models\n",
            "copying build/lib/deep_disfluency/decoder/models/swbd_disf1_uttseg_simple_033.csv -> build/bdist.linux-x86_64/egg/deep_disfluency/decoder/models\n",
            "copying build/lib/deep_disfluency/decoder/models/swbd_disf1_uttseg_034_tags.pkl -> build/bdist.linux-x86_64/egg/deep_disfluency/decoder/models\n",
            "copying build/lib/deep_disfluency/decoder/models/swbd_disf1_uttseg_simple_033_tags_table.csv -> build/bdist.linux-x86_64/egg/deep_disfluency/decoder/models\n",
            "copying build/lib/deep_disfluency/decoder/models/swbd_disf1_uttseg_034_tags_table.csv -> build/bdist.linux-x86_64/egg/deep_disfluency/decoder/models\n",
            "copying build/lib/deep_disfluency/decoder/models/swbd_uttseg_dacts_tags.pkl -> build/bdist.linux-x86_64/egg/deep_disfluency/decoder/models\n",
            "copying build/lib/deep_disfluency/decoder/models/swbd_dact_interactive_tags_table.csv -> build/bdist.linux-x86_64/egg/deep_disfluency/decoder/models\n",
            "copying build/lib/deep_disfluency/decoder/models/swbd_dact_uttseg_interactive_tags.pkl -> build/bdist.linux-x86_64/egg/deep_disfluency/decoder/models\n",
            "copying build/lib/deep_disfluency/decoder/models/swbd_disf1_uttseg.csv -> build/bdist.linux-x86_64/egg/deep_disfluency/decoder/models\n",
            "copying build/lib/deep_disfluency/decoder/models/swbd_disf1_tags_table.csv -> build/bdist.linux-x86_64/egg/deep_disfluency/decoder/models\n",
            "copying build/lib/deep_disfluency/decoder/models/swbd_disf1_simple.csv -> build/bdist.linux-x86_64/egg/deep_disfluency/decoder/models\n",
            "copying build/lib/deep_disfluency/decoder/models/swbd_dact_uttseg_interactive_tags_table.csv -> build/bdist.linux-x86_64/egg/deep_disfluency/decoder/models\n",
            "copying build/lib/deep_disfluency/decoder/models/swbd_uttseg_tags.pkl -> build/bdist.linux-x86_64/egg/deep_disfluency/decoder/models\n",
            "copying build/lib/deep_disfluency/decoder/models/swbd_disf1_simple_tags.pkl -> build/bdist.linux-x86_64/egg/deep_disfluency/decoder/models\n",
            "copying build/lib/deep_disfluency/decoder/models/swbd_disf1_uttseg_dacts_tags.pkl -> build/bdist.linux-x86_64/egg/deep_disfluency/decoder/models\n",
            "copying build/lib/deep_disfluency/decoder/models/swbd_disf1_uttseg_tags.pkl -> build/bdist.linux-x86_64/egg/deep_disfluency/decoder/models\n",
            "copying build/lib/deep_disfluency/decoder/models/swbd_disf1_021_tags_table.csv -> build/bdist.linux-x86_64/egg/deep_disfluency/decoder/models\n",
            "copying build/lib/deep_disfluency/decoder/models/swbd_disf1_uttseg_simple_033_tags.pkl -> build/bdist.linux-x86_64/egg/deep_disfluency/decoder/models\n",
            "copying build/lib/deep_disfluency/decoder/models/swbd_disf1_021_tags.pkl -> build/bdist.linux-x86_64/egg/deep_disfluency/decoder/models\n",
            "copying build/lib/deep_disfluency/decoder/models/swbd_dact_tags.pkl -> build/bdist.linux-x86_64/egg/deep_disfluency/decoder/models\n",
            "copying build/lib/deep_disfluency/decoder/hmm_utils.py -> build/bdist.linux-x86_64/egg/deep_disfluency/decoder\n",
            "copying build/lib/deep_disfluency/decoder/__init__.py -> build/bdist.linux-x86_64/egg/deep_disfluency/decoder\n",
            "copying build/lib/deep_disfluency/decoder/tag_conversion.py -> build/bdist.linux-x86_64/egg/deep_disfluency/decoder\n",
            "copying build/lib/deep_disfluency/decoder/hmm.py -> build/bdist.linux-x86_64/egg/deep_disfluency/decoder\n",
            "copying build/lib/deep_disfluency/decoder/noisy_channel.py -> build/bdist.linux-x86_64/egg/deep_disfluency/decoder\n",
            "creating build/bdist.linux-x86_64/egg/deep_disfluency/data\n",
            "creating build/bdist.linux-x86_64/egg/deep_disfluency/data/tag_representations\n",
            "copying build/lib/deep_disfluency/data/tag_representations/swbd_disf1_simple_tag_corpus.csv -> build/bdist.linux-x86_64/egg/deep_disfluency/data/tag_representations\n",
            "copying build/lib/deep_disfluency/data/tag_representations/swbd_dact_interactive_tags.csv -> build/bdist.linux-x86_64/egg/deep_disfluency/data/tag_representations\n",
            "copying build/lib/deep_disfluency/data/tag_representations/swbd_disf1_uttseg_dact_simple_tags.csv -> build/bdist.linux-x86_64/egg/deep_disfluency/data/tag_representations\n",
            "copying build/lib/deep_disfluency/data/tag_representations/swbd_disf1_uttseg_simple_tags.csv -> build/bdist.linux-x86_64/egg/deep_disfluency/data/tag_representations\n",
            "copying build/lib/deep_disfluency/data/tag_representations/swbd_dact_tag_corpus.csv -> build/bdist.linux-x86_64/egg/deep_disfluency/data/tag_representations\n",
            "copying build/lib/deep_disfluency/data/tag_representations/swbd_uttseg_tag_corpus.csv -> build/bdist.linux-x86_64/egg/deep_disfluency/data/tag_representations\n",
            "copying build/lib/deep_disfluency/data/tag_representations/swbd_disf1_039_tags.csv -> build/bdist.linux-x86_64/egg/deep_disfluency/data/tag_representations\n",
            "copying build/lib/deep_disfluency/data/tag_representations/swbd_uttseg_tags.csv -> build/bdist.linux-x86_64/egg/deep_disfluency/data/tag_representations\n",
            "copying build/lib/deep_disfluency/data/tag_representations/swbd_disf1_tag_corpus.csv -> build/bdist.linux-x86_64/egg/deep_disfluency/data/tag_representations\n",
            "copying build/lib/deep_disfluency/data/tag_representations/swbd_disf1_041_tags.csv -> build/bdist.linux-x86_64/egg/deep_disfluency/data/tag_representations\n",
            "copying build/lib/deep_disfluency/data/tag_representations/swbd_disf1_uttseg_dact_laughter_simple_tags.csv -> build/bdist.linux-x86_64/egg/deep_disfluency/data/tag_representations\n",
            "copying build/lib/deep_disfluency/data/tag_representations/swbd_dact_interactive_tag_corpus.csv -> build/bdist.linux-x86_64/egg/deep_disfluency/data/tag_representations\n",
            "copying build/lib/deep_disfluency/data/tag_representations/swbd_word_rep_041.csv -> build/bdist.linux-x86_64/egg/deep_disfluency/data/tag_representations\n",
            "copying build/lib/deep_disfluency/data/tag_representations/swbd_disf1_021_tags.csv -> build/bdist.linux-x86_64/egg/deep_disfluency/data/tag_representations\n",
            "copying build/lib/deep_disfluency/data/tag_representations/swbd_disf1_uttseg_simple_033_tags.csv -> build/bdist.linux-x86_64/egg/deep_disfluency/data/tag_representations\n",
            "copying build/lib/deep_disfluency/data/tag_representations/swbd_pos_rep_041.csv -> build/bdist.linux-x86_64/egg/deep_disfluency/data/tag_representations\n",
            "copying build/lib/deep_disfluency/data/tag_representations/swbd_disf1_uttseg_dact_tags.csv -> build/bdist.linux-x86_64/egg/deep_disfluency/data/tag_representations\n",
            "copying build/lib/deep_disfluency/data/tag_representations/swbd_disf1_uttseg_034_tags.csv -> build/bdist.linux-x86_64/egg/deep_disfluency/data/tag_representations\n",
            "copying build/lib/deep_disfluency/data/tag_representations/swbd_laughter_tags.csv -> build/bdist.linux-x86_64/egg/deep_disfluency/data/tag_representations\n",
            "copying build/lib/deep_disfluency/data/tag_representations/swbd_disf1_uttseg_dact_simple_tag_corpus.csv -> build/bdist.linux-x86_64/egg/deep_disfluency/data/tag_representations\n",
            "copying build/lib/deep_disfluency/data/tag_representations/swbd_disf1_uttseg_dact_laughter_simple_tag_corpus.csv -> build/bdist.linux-x86_64/egg/deep_disfluency/data/tag_representations\n",
            "copying build/lib/deep_disfluency/data/tag_representations/swbd_disf1_uttseg_tag_corpus.csv -> build/bdist.linux-x86_64/egg/deep_disfluency/data/tag_representations\n",
            "copying build/lib/deep_disfluency/data/tag_representations/swbd_disf1_uttseg_dact_laughter_tag_corpus.csv -> build/bdist.linux-x86_64/egg/deep_disfluency/data/tag_representations\n",
            "copying build/lib/deep_disfluency/data/tag_representations/swbd_disf1_uttseg_tags.csv -> build/bdist.linux-x86_64/egg/deep_disfluency/data/tag_representations\n",
            "copying build/lib/deep_disfluency/data/tag_representations/swbd_dact_uttseg_interactive_tags.csv -> build/bdist.linux-x86_64/egg/deep_disfluency/data/tag_representations\n",
            "copying build/lib/deep_disfluency/data/tag_representations/swbd_word_rep.csv -> build/bdist.linux-x86_64/egg/deep_disfluency/data/tag_representations\n",
            "copying build/lib/deep_disfluency/data/tag_representations/swbd_disf1_simple_tags.csv -> build/bdist.linux-x86_64/egg/deep_disfluency/data/tag_representations\n",
            "copying build/lib/deep_disfluency/data/tag_representations/swbd_disf1_uttseg_dact_tag_corpus.csv -> build/bdist.linux-x86_64/egg/deep_disfluency/data/tag_representations\n",
            "copying build/lib/deep_disfluency/data/tag_representations/swbd_word_rep_021.csv -> build/bdist.linux-x86_64/egg/deep_disfluency/data/tag_representations\n",
            "copying build/lib/deep_disfluency/data/tag_representations/swbd_disf1_rpMid_tags.csv -> build/bdist.linux-x86_64/egg/deep_disfluency/data/tag_representations\n",
            "copying build/lib/deep_disfluency/data/tag_representations/swbd_dact_tags.csv -> build/bdist.linux-x86_64/egg/deep_disfluency/data/tag_representations\n",
            "copying build/lib/deep_disfluency/data/tag_representations/swbd_pos_rep_021.csv -> build/bdist.linux-x86_64/egg/deep_disfluency/data/tag_representations\n",
            "copying build/lib/deep_disfluency/data/tag_representations/swbd_pos_rep.csv -> build/bdist.linux-x86_64/egg/deep_disfluency/data/tag_representations\n",
            "copying build/lib/deep_disfluency/data/tag_representations/swbd_uttseg_dact_tags.csv -> build/bdist.linux-x86_64/egg/deep_disfluency/data/tag_representations\n",
            "copying build/lib/deep_disfluency/data/tag_representations/swbd_laughter_tag_corpus.csv -> build/bdist.linux-x86_64/egg/deep_disfluency/data/tag_representations\n",
            "copying build/lib/deep_disfluency/data/tag_representations/swbd_disf1_uttseg_dact_laughter_tags.csv -> build/bdist.linux-x86_64/egg/deep_disfluency/data/tag_representations\n",
            "copying build/lib/deep_disfluency/data/tag_representations/swbd_word_rep_033.csv -> build/bdist.linux-x86_64/egg/deep_disfluency/data/tag_representations\n",
            "copying build/lib/deep_disfluency/data/tag_representations/swbd_dact_uttseg_interactive_tag_corpus.csv -> build/bdist.linux-x86_64/egg/deep_disfluency/data/tag_representations\n",
            "copying build/lib/deep_disfluency/data/tag_representations/swbd_disf1_uttseg_simple_tag_corpus.csv -> build/bdist.linux-x86_64/egg/deep_disfluency/data/tag_representations\n",
            "copying build/lib/deep_disfluency/data/tag_representations/swbd_pos_rep_033.csv -> build/bdist.linux-x86_64/egg/deep_disfluency/data/tag_representations\n",
            "copying build/lib/deep_disfluency/data/tag_representations/swbd_uttseg_dact_tag_corpus.csv -> build/bdist.linux-x86_64/egg/deep_disfluency/data/tag_representations\n",
            "copying build/lib/deep_disfluency/data/tag_representations/swbd_disf1_tags.csv -> build/bdist.linux-x86_64/egg/deep_disfluency/data/tag_representations\n",
            "creating build/bdist.linux-x86_64/egg/deep_disfluency/data/lm_corpora\n",
            "copying build/lib/deep_disfluency/data/lm_corpora/swbd_disf_train_1_2_edit.text -> build/bdist.linux-x86_64/egg/deep_disfluency/data/lm_corpora\n",
            "copying build/lib/deep_disfluency/data/lm_corpora/swbd_disf_heldout_edit.text -> build/bdist.linux-x86_64/egg/deep_disfluency/data/lm_corpora\n",
            "copying build/lib/deep_disfluency/data/lm_corpora/swbd_disf_test_clean.text -> build/bdist.linux-x86_64/egg/deep_disfluency/data/lm_corpora\n",
            "copying build/lib/deep_disfluency/data/lm_corpora/swbd_disf_test_edit.text -> build/bdist.linux-x86_64/egg/deep_disfluency/data/lm_corpora\n",
            "copying build/lib/deep_disfluency/data/lm_corpora/swbd_disf_train_1_2_clean.text -> build/bdist.linux-x86_64/egg/deep_disfluency/data/lm_corpora\n",
            "copying build/lib/deep_disfluency/data/lm_corpora/swbd_disf_train_1_clean.text -> build/bdist.linux-x86_64/egg/deep_disfluency/data/lm_corpora\n",
            "copying build/lib/deep_disfluency/data/lm_corpora/swbd_disf_train_1_edit.text -> build/bdist.linux-x86_64/egg/deep_disfluency/data/lm_corpora\n",
            "copying build/lib/deep_disfluency/data/lm_corpora/swbd_disf_heldout_clean.text -> build/bdist.linux-x86_64/egg/deep_disfluency/data/lm_corpora\n",
            "creating build/bdist.linux-x86_64/egg/deep_disfluency/rnn\n",
            "copying build/lib/deep_disfluency/rnn/elman.py -> build/bdist.linux-x86_64/egg/deep_disfluency/rnn\n",
            "copying build/lib/deep_disfluency/rnn/test_if_using_gpu.py -> build/bdist.linux-x86_64/egg/deep_disfluency/rnn\n",
            "copying build/lib/deep_disfluency/rnn/__init__.py -> build/bdist.linux-x86_64/egg/deep_disfluency/rnn\n",
            "copying build/lib/deep_disfluency/rnn/lstm.py -> build/bdist.linux-x86_64/egg/deep_disfluency/rnn\n",
            "creating build/bdist.linux-x86_64/egg/deep_disfluency/tagger\n",
            "copying build/lib/deep_disfluency/tagger/utils.py -> build/bdist.linux-x86_64/egg/deep_disfluency/tagger\n",
            "copying build/lib/deep_disfluency/tagger/deep_tagger_module.py -> build/bdist.linux-x86_64/egg/deep_disfluency/tagger\n",
            "copying build/lib/deep_disfluency/tagger/__init__.py -> build/bdist.linux-x86_64/egg/deep_disfluency/tagger\n",
            "copying build/lib/deep_disfluency/tagger/deep_tagger.py -> build/bdist.linux-x86_64/egg/deep_disfluency/tagger\n",
            "copying build/lib/deep_disfluency/__init__.py -> build/bdist.linux-x86_64/egg/deep_disfluency\n",
            "creating build/bdist.linux-x86_64/egg/deep_disfluency/load\n",
            "copying build/lib/deep_disfluency/load/__init__.py -> build/bdist.linux-x86_64/egg/deep_disfluency/load\n",
            "copying build/lib/deep_disfluency/load/load.py -> build/bdist.linux-x86_64/egg/deep_disfluency/load\n",
            "creating build/bdist.linux-x86_64/egg/deep_disfluency/experiments\n",
            "creating build/bdist.linux-x86_64/egg/deep_disfluency/experiments/041\n",
            "creating build/bdist.linux-x86_64/egg/deep_disfluency/experiments/041/epoch_16\n",
            "copying build/lib/deep_disfluency/experiments/041/epoch_16/swbd_disf_test_partial_data_output_final.text -> build/bdist.linux-x86_64/egg/deep_disfluency/experiments/041/epoch_16\n",
            "copying build/lib/deep_disfluency/experiments/041/epoch_16/W_xf.npy -> build/bdist.linux-x86_64/egg/deep_disfluency/experiments/041/epoch_16\n",
            "copying build/lib/deep_disfluency/experiments/041/epoch_16/W_xc.npy -> build/bdist.linux-x86_64/egg/deep_disfluency/experiments/041/epoch_16\n",
            "copying build/lib/deep_disfluency/experiments/041/epoch_16/swbd_disf_heldout_partial_data_output_increco.text -> build/bdist.linux-x86_64/egg/deep_disfluency/experiments/041/epoch_16\n",
            "copying build/lib/deep_disfluency/experiments/041/epoch_16/swbd_disf_test_data_output_final.text -> build/bdist.linux-x86_64/egg/deep_disfluency/experiments/041/epoch_16\n",
            "copying build/lib/deep_disfluency/experiments/041/epoch_16/b_i.npy -> build/bdist.linux-x86_64/egg/deep_disfluency/experiments/041/epoch_16\n",
            "copying build/lib/deep_disfluency/experiments/041/epoch_16/W_hy.npy -> build/bdist.linux-x86_64/egg/deep_disfluency/experiments/041/epoch_16\n",
            "copying build/lib/deep_disfluency/experiments/041/epoch_16/swbd_disf_heldout_partial_data_output_final.text -> build/bdist.linux-x86_64/egg/deep_disfluency/experiments/041/epoch_16\n",
            "copying build/lib/deep_disfluency/experiments/041/epoch_16/W_hc.npy -> build/bdist.linux-x86_64/egg/deep_disfluency/experiments/041/epoch_16\n",
            "copying build/lib/deep_disfluency/experiments/041/epoch_16/W_hi.npy -> build/bdist.linux-x86_64/egg/deep_disfluency/experiments/041/epoch_16\n",
            "copying build/lib/deep_disfluency/experiments/041/epoch_16/W_ci.npy -> build/bdist.linux-x86_64/egg/deep_disfluency/experiments/041/epoch_16\n",
            "copying build/lib/deep_disfluency/experiments/041/epoch_16/swbd_disf_heldout_data_output_increco.text -> build/bdist.linux-x86_64/egg/deep_disfluency/experiments/041/epoch_16\n",
            "copying build/lib/deep_disfluency/experiments/041/epoch_16/embeddings.npy -> build/bdist.linux-x86_64/egg/deep_disfluency/experiments/041/epoch_16\n",
            "copying build/lib/deep_disfluency/experiments/041/epoch_16/swbd_disf_test_partial_data_output_increco.text -> build/bdist.linux-x86_64/egg/deep_disfluency/experiments/041/epoch_16\n",
            "copying build/lib/deep_disfluency/experiments/041/epoch_16/W_co.npy -> build/bdist.linux-x86_64/egg/deep_disfluency/experiments/041/epoch_16\n",
            "copying build/lib/deep_disfluency/experiments/041/epoch_16/b_c.npy -> build/bdist.linux-x86_64/egg/deep_disfluency/experiments/041/epoch_16\n",
            "copying build/lib/deep_disfluency/experiments/041/epoch_16/W_ho.npy -> build/bdist.linux-x86_64/egg/deep_disfluency/experiments/041/epoch_16\n",
            "copying build/lib/deep_disfluency/experiments/041/epoch_16/swbd_disf_test_data_output_increco.text -> build/bdist.linux-x86_64/egg/deep_disfluency/experiments/041/epoch_16\n",
            "copying build/lib/deep_disfluency/experiments/041/epoch_16/b_y.npy -> build/bdist.linux-x86_64/egg/deep_disfluency/experiments/041/epoch_16\n",
            "copying build/lib/deep_disfluency/experiments/041/epoch_16/W_cf.npy -> build/bdist.linux-x86_64/egg/deep_disfluency/experiments/041/epoch_16\n",
            "copying build/lib/deep_disfluency/experiments/041/epoch_16/swbd_disf_heldout_data_output_final.text -> build/bdist.linux-x86_64/egg/deep_disfluency/experiments/041/epoch_16\n",
            "copying build/lib/deep_disfluency/experiments/041/epoch_16/W_hf.npy -> build/bdist.linux-x86_64/egg/deep_disfluency/experiments/041/epoch_16\n",
            "copying build/lib/deep_disfluency/experiments/041/epoch_16/W_xi.npy -> build/bdist.linux-x86_64/egg/deep_disfluency/experiments/041/epoch_16\n",
            "copying build/lib/deep_disfluency/experiments/041/epoch_16/b_o.npy -> build/bdist.linux-x86_64/egg/deep_disfluency/experiments/041/epoch_16\n",
            "copying build/lib/deep_disfluency/experiments/041/epoch_16/b_f.npy -> build/bdist.linux-x86_64/egg/deep_disfluency/experiments/041/epoch_16\n",
            "creating build/bdist.linux-x86_64/egg/deep_disfluency/experiments/results\n",
            "creating build/bdist.linux-x86_64/egg/deep_disfluency/experiments/results/learning_curves\n",
            "copying build/lib/deep_disfluency/experiments/results/learning_curves/033.csv -> build/bdist.linux-x86_64/egg/deep_disfluency/experiments/results/learning_curves\n",
            "copying build/lib/deep_disfluency/experiments/results/learning_curves/002.csv -> build/bdist.linux-x86_64/egg/deep_disfluency/experiments/results/learning_curves\n",
            "copying build/lib/deep_disfluency/experiments/results/learning_curves/035.csv -> build/bdist.linux-x86_64/egg/deep_disfluency/experiments/results/learning_curves\n",
            "copying build/lib/deep_disfluency/experiments/results/learning_curves/010.csv -> build/bdist.linux-x86_64/egg/deep_disfluency/experiments/results/learning_curves\n",
            "copying build/lib/deep_disfluency/experiments/results/learning_curves/021.csv -> build/bdist.linux-x86_64/egg/deep_disfluency/experiments/results/learning_curves\n",
            "copying build/lib/deep_disfluency/experiments/results/learning_curves/037.csv -> build/bdist.linux-x86_64/egg/deep_disfluency/experiments/results/learning_curves\n",
            "copying build/lib/deep_disfluency/experiments/results/learning_curves/005.csv -> build/bdist.linux-x86_64/egg/deep_disfluency/experiments/results/learning_curves\n",
            "copying build/lib/deep_disfluency/experiments/results/learning_curves/015.csv -> build/bdist.linux-x86_64/egg/deep_disfluency/experiments/results/learning_curves\n",
            "copying build/lib/deep_disfluency/experiments/results/learning_curves/017.csv -> build/bdist.linux-x86_64/egg/deep_disfluency/experiments/results/learning_curves\n",
            "copying build/lib/deep_disfluency/experiments/results/learning_curves/028.csv -> build/bdist.linux-x86_64/egg/deep_disfluency/experiments/results/learning_curves\n",
            "copying build/lib/deep_disfluency/experiments/results/learning_curves/029.csv -> build/bdist.linux-x86_64/egg/deep_disfluency/experiments/results/learning_curves\n",
            "copying build/lib/deep_disfluency/experiments/results/learning_curves/013.csv -> build/bdist.linux-x86_64/egg/deep_disfluency/experiments/results/learning_curves\n",
            "copying build/lib/deep_disfluency/experiments/results/learning_curves/006.csv -> build/bdist.linux-x86_64/egg/deep_disfluency/experiments/results/learning_curves\n",
            "copying build/lib/deep_disfluency/experiments/results/learning_curves/004.csv -> build/bdist.linux-x86_64/egg/deep_disfluency/experiments/results/learning_curves\n",
            "copying build/lib/deep_disfluency/experiments/results/learning_curves/003.csv -> build/bdist.linux-x86_64/egg/deep_disfluency/experiments/results/learning_curves\n",
            "copying build/lib/deep_disfluency/experiments/results/learning_curves/020.csv -> build/bdist.linux-x86_64/egg/deep_disfluency/experiments/results/learning_curves\n",
            "copying build/lib/deep_disfluency/experiments/results/learning_curves/024.csv -> build/bdist.linux-x86_64/egg/deep_disfluency/experiments/results/learning_curves\n",
            "copying build/lib/deep_disfluency/experiments/results/learning_curves/011.csv -> build/bdist.linux-x86_64/egg/deep_disfluency/experiments/results/learning_curves\n",
            "copying build/lib/deep_disfluency/experiments/results/learning_curves/023.csv -> build/bdist.linux-x86_64/egg/deep_disfluency/experiments/results/learning_curves\n",
            "copying build/lib/deep_disfluency/experiments/results/learning_curves/030.csv -> build/bdist.linux-x86_64/egg/deep_disfluency/experiments/results/learning_curves\n",
            "copying build/lib/deep_disfluency/experiments/results/learning_curves/012.csv -> build/bdist.linux-x86_64/egg/deep_disfluency/experiments/results/learning_curves\n",
            "copying build/lib/deep_disfluency/experiments/results/learning_curves/007.csv -> build/bdist.linux-x86_64/egg/deep_disfluency/experiments/results/learning_curves\n",
            "copying build/lib/deep_disfluency/experiments/results/learning_curves/034.csv -> build/bdist.linux-x86_64/egg/deep_disfluency/experiments/results/learning_curves\n",
            "copying build/lib/deep_disfluency/experiments/results/learning_curves/014.csv -> build/bdist.linux-x86_64/egg/deep_disfluency/experiments/results/learning_curves\n",
            "copying build/lib/deep_disfluency/experiments/results/learning_curves/016.csv -> build/bdist.linux-x86_64/egg/deep_disfluency/experiments/results/learning_curves\n",
            "copying build/lib/deep_disfluency/experiments/results/learning_curves/038.csv -> build/bdist.linux-x86_64/egg/deep_disfluency/experiments/results/learning_curves\n",
            "copying build/lib/deep_disfluency/experiments/results/learning_curves/027.csv -> build/bdist.linux-x86_64/egg/deep_disfluency/experiments/results/learning_curves\n",
            "copying build/lib/deep_disfluency/experiments/results/learning_curves/036.csv -> build/bdist.linux-x86_64/egg/deep_disfluency/experiments/results/learning_curves\n",
            "copying build/lib/deep_disfluency/experiments/results/learning_curves/008.csv -> build/bdist.linux-x86_64/egg/deep_disfluency/experiments/results/learning_curves\n",
            "copying build/lib/deep_disfluency/experiments/results/learning_curves/009.csv -> build/bdist.linux-x86_64/egg/deep_disfluency/experiments/results/learning_curves\n",
            "copying build/lib/deep_disfluency/experiments/results/learning_curves/039.csv -> build/bdist.linux-x86_64/egg/deep_disfluency/experiments/results/learning_curves\n",
            "creating build/bdist.linux-x86_64/egg/deep_disfluency/experiments/results/disfluency_detection_performance\n",
            "copying build/lib/deep_disfluency/experiments/results/disfluency_detection_performance/hmm_final_results.txt -> build/bdist.linux-x86_64/egg/deep_disfluency/experiments/results/disfluency_detection_performance\n",
            "creating build/bdist.linux-x86_64/egg/deep_disfluency/experiments/results/tag_accuracies\n",
            "copying build/lib/deep_disfluency/experiments/results/tag_accuracies/008.text -> build/bdist.linux-x86_64/egg/deep_disfluency/experiments/results/tag_accuracies\n",
            "copying build/lib/deep_disfluency/experiments/results/tag_accuracies/017.text -> build/bdist.linux-x86_64/egg/deep_disfluency/experiments/results/tag_accuracies\n",
            "copying build/lib/deep_disfluency/experiments/results/tag_accuracies/003.text -> build/bdist.linux-x86_64/egg/deep_disfluency/experiments/results/tag_accuracies\n",
            "copying build/lib/deep_disfluency/experiments/results/tag_accuracies/028.text -> build/bdist.linux-x86_64/egg/deep_disfluency/experiments/results/tag_accuracies\n",
            "copying build/lib/deep_disfluency/experiments/results/tag_accuracies/004.text -> build/bdist.linux-x86_64/egg/deep_disfluency/experiments/results/tag_accuracies\n",
            "copying build/lib/deep_disfluency/experiments/results/tag_accuracies/012.text -> build/bdist.linux-x86_64/egg/deep_disfluency/experiments/results/tag_accuracies\n",
            "copying build/lib/deep_disfluency/experiments/results/tag_accuracies/015.text -> build/bdist.linux-x86_64/egg/deep_disfluency/experiments/results/tag_accuracies\n",
            "copying build/lib/deep_disfluency/experiments/results/tag_accuracies/013.text -> build/bdist.linux-x86_64/egg/deep_disfluency/experiments/results/tag_accuracies\n",
            "copying build/lib/deep_disfluency/experiments/results/tag_accuracies/035.text -> build/bdist.linux-x86_64/egg/deep_disfluency/experiments/results/tag_accuracies\n",
            "copying build/lib/deep_disfluency/experiments/results/tag_accuracies/005.text -> build/bdist.linux-x86_64/egg/deep_disfluency/experiments/results/tag_accuracies\n",
            "copying build/lib/deep_disfluency/experiments/results/tag_accuracies/027.text -> build/bdist.linux-x86_64/egg/deep_disfluency/experiments/results/tag_accuracies\n",
            "copying build/lib/deep_disfluency/experiments/results/tag_accuracies/036.text -> build/bdist.linux-x86_64/egg/deep_disfluency/experiments/results/tag_accuracies\n",
            "copying build/lib/deep_disfluency/experiments/results/tag_accuracies/009.text -> build/bdist.linux-x86_64/egg/deep_disfluency/experiments/results/tag_accuracies\n",
            "copying build/lib/deep_disfluency/experiments/results/tag_accuracies/007.text -> build/bdist.linux-x86_64/egg/deep_disfluency/experiments/results/tag_accuracies\n",
            "copying build/lib/deep_disfluency/experiments/results/tag_accuracies/011.text -> build/bdist.linux-x86_64/egg/deep_disfluency/experiments/results/tag_accuracies\n",
            "copying build/lib/deep_disfluency/experiments/results/tag_accuracies/021.text -> build/bdist.linux-x86_64/egg/deep_disfluency/experiments/results/tag_accuracies\n",
            "copying build/lib/deep_disfluency/experiments/results/tag_accuracies/041.text -> build/bdist.linux-x86_64/egg/deep_disfluency/experiments/results/tag_accuracies\n",
            "copying build/lib/deep_disfluency/experiments/results/tag_accuracies/029.text -> build/bdist.linux-x86_64/egg/deep_disfluency/experiments/results/tag_accuracies\n",
            "copying build/lib/deep_disfluency/experiments/results/tag_accuracies/002.text -> build/bdist.linux-x86_64/egg/deep_disfluency/experiments/results/tag_accuracies\n",
            "copying build/lib/deep_disfluency/experiments/results/tag_accuracies/033.text -> build/bdist.linux-x86_64/egg/deep_disfluency/experiments/results/tag_accuracies\n",
            "copying build/lib/deep_disfluency/experiments/results/tag_accuracies/037.text -> build/bdist.linux-x86_64/egg/deep_disfluency/experiments/results/tag_accuracies\n",
            "copying build/lib/deep_disfluency/experiments/results/tag_accuracies/016.text -> build/bdist.linux-x86_64/egg/deep_disfluency/experiments/results/tag_accuracies\n",
            "copying build/lib/deep_disfluency/experiments/results/tag_accuracies/034.text -> build/bdist.linux-x86_64/egg/deep_disfluency/experiments/results/tag_accuracies\n",
            "copying build/lib/deep_disfluency/experiments/results/tag_accuracies/023.text -> build/bdist.linux-x86_64/egg/deep_disfluency/experiments/results/tag_accuracies\n",
            "copying build/lib/deep_disfluency/experiments/results/tag_accuracies/020.text -> build/bdist.linux-x86_64/egg/deep_disfluency/experiments/results/tag_accuracies\n",
            "copying build/lib/deep_disfluency/experiments/results/tag_accuracies/039.text -> build/bdist.linux-x86_64/egg/deep_disfluency/experiments/results/tag_accuracies\n",
            "copying build/lib/deep_disfluency/experiments/results/tag_accuracies/030.text -> build/bdist.linux-x86_64/egg/deep_disfluency/experiments/results/tag_accuracies\n",
            "copying build/lib/deep_disfluency/experiments/results/tag_accuracies/006.text -> build/bdist.linux-x86_64/egg/deep_disfluency/experiments/results/tag_accuracies\n",
            "copying build/lib/deep_disfluency/experiments/results/tag_accuracies/038.text -> build/bdist.linux-x86_64/egg/deep_disfluency/experiments/results/tag_accuracies\n",
            "copying build/lib/deep_disfluency/experiments/results/tag_accuracies/014.text -> build/bdist.linux-x86_64/egg/deep_disfluency/experiments/results/tag_accuracies\n",
            "creating build/bdist.linux-x86_64/egg/deep_disfluency/experiments/033\n",
            "creating build/bdist.linux-x86_64/egg/deep_disfluency/experiments/033/epoch_45\n",
            "copying build/lib/deep_disfluency/experiments/033/epoch_45/swbd_disf_test_partial_data_output_final.text -> build/bdist.linux-x86_64/egg/deep_disfluency/experiments/033/epoch_45\n",
            "copying build/lib/deep_disfluency/experiments/033/epoch_45/swbd_disf_test_partial_timings_data_output_final.text -> build/bdist.linux-x86_64/egg/deep_disfluency/experiments/033/epoch_45\n",
            "copying build/lib/deep_disfluency/experiments/033/epoch_45/swbd_disf_heldout_partial_data_output_increco.text -> build/bdist.linux-x86_64/egg/deep_disfluency/experiments/033/epoch_45\n",
            "copying build/lib/deep_disfluency/experiments/033/epoch_45/swbd_disf_heldout_partial_timings_data_output_increco.text -> build/bdist.linux-x86_64/egg/deep_disfluency/experiments/033/epoch_45\n",
            "copying build/lib/deep_disfluency/experiments/033/epoch_45/bh.npy -> build/bdist.linux-x86_64/egg/deep_disfluency/experiments/033/epoch_45\n",
            "copying build/lib/deep_disfluency/experiments/033/epoch_45/swbd_disf_heldout_partial_timings_data_output_final.text -> build/bdist.linux-x86_64/egg/deep_disfluency/experiments/033/epoch_45\n",
            "copying build/lib/deep_disfluency/experiments/033/epoch_45/swbd_disf_heldout_partial_data_output_final.text -> build/bdist.linux-x86_64/egg/deep_disfluency/experiments/033/epoch_45\n",
            "copying build/lib/deep_disfluency/experiments/033/epoch_45/h0.npy -> build/bdist.linux-x86_64/egg/deep_disfluency/experiments/033/epoch_45\n",
            "copying build/lib/deep_disfluency/experiments/033/epoch_45/Wh.npy -> build/bdist.linux-x86_64/egg/deep_disfluency/experiments/033/epoch_45\n",
            "copying build/lib/deep_disfluency/experiments/033/epoch_45/Wx.npy -> build/bdist.linux-x86_64/egg/deep_disfluency/experiments/033/epoch_45\n",
            "copying build/lib/deep_disfluency/experiments/033/epoch_45/embeddings.npy -> build/bdist.linux-x86_64/egg/deep_disfluency/experiments/033/epoch_45\n",
            "copying build/lib/deep_disfluency/experiments/033/epoch_45/swbd_disf_test_partial_data_output_increco.text -> build/bdist.linux-x86_64/egg/deep_disfluency/experiments/033/epoch_45\n",
            "copying build/lib/deep_disfluency/experiments/033/epoch_45/swbd_disf_test_partial_timings_data_output_increco.text -> build/bdist.linux-x86_64/egg/deep_disfluency/experiments/033/epoch_45\n",
            "copying build/lib/deep_disfluency/experiments/033/epoch_45/W.npy -> build/bdist.linux-x86_64/egg/deep_disfluency/experiments/033/epoch_45\n",
            "copying build/lib/deep_disfluency/experiments/033/epoch_45/b.npy -> build/bdist.linux-x86_64/egg/deep_disfluency/experiments/033/epoch_45\n",
            "creating build/bdist.linux-x86_64/egg/deep_disfluency/experiments/035\n",
            "creating build/bdist.linux-x86_64/egg/deep_disfluency/experiments/035/epoch_6\n",
            "copying build/lib/deep_disfluency/experiments/035/epoch_6/swbd_disf_test_partial_data_output_final.text -> build/bdist.linux-x86_64/egg/deep_disfluency/experiments/035/epoch_6\n",
            "copying build/lib/deep_disfluency/experiments/035/epoch_6/swbd_disf_test_partial_timings_data_output_final.text -> build/bdist.linux-x86_64/egg/deep_disfluency/experiments/035/epoch_6\n",
            "copying build/lib/deep_disfluency/experiments/035/epoch_6/W_xf.npy -> build/bdist.linux-x86_64/egg/deep_disfluency/experiments/035/epoch_6\n",
            "copying build/lib/deep_disfluency/experiments/035/epoch_6/W_xc.npy -> build/bdist.linux-x86_64/egg/deep_disfluency/experiments/035/epoch_6\n",
            "copying build/lib/deep_disfluency/experiments/035/epoch_6/swbd_disf_heldout_partial_data_output_increco.text -> build/bdist.linux-x86_64/egg/deep_disfluency/experiments/035/epoch_6\n",
            "copying build/lib/deep_disfluency/experiments/035/epoch_6/swbd_disf_heldout_partial_timings_data_output_increco.text -> build/bdist.linux-x86_64/egg/deep_disfluency/experiments/035/epoch_6\n",
            "copying build/lib/deep_disfluency/experiments/035/epoch_6/b_i.npy -> build/bdist.linux-x86_64/egg/deep_disfluency/experiments/035/epoch_6\n",
            "copying build/lib/deep_disfluency/experiments/035/epoch_6/W_hy.npy -> build/bdist.linux-x86_64/egg/deep_disfluency/experiments/035/epoch_6\n",
            "copying build/lib/deep_disfluency/experiments/035/epoch_6/swbd_disf_heldout_partial_timings_data_output_final.text -> build/bdist.linux-x86_64/egg/deep_disfluency/experiments/035/epoch_6\n",
            "copying build/lib/deep_disfluency/experiments/035/epoch_6/swbd_disf_heldout_partial_data_output_final.text -> build/bdist.linux-x86_64/egg/deep_disfluency/experiments/035/epoch_6\n",
            "copying build/lib/deep_disfluency/experiments/035/epoch_6/W_hc.npy -> build/bdist.linux-x86_64/egg/deep_disfluency/experiments/035/epoch_6\n",
            "copying build/lib/deep_disfluency/experiments/035/epoch_6/W_hi.npy -> build/bdist.linux-x86_64/egg/deep_disfluency/experiments/035/epoch_6\n",
            "copying build/lib/deep_disfluency/experiments/035/epoch_6/W_ci.npy -> build/bdist.linux-x86_64/egg/deep_disfluency/experiments/035/epoch_6\n",
            "copying build/lib/deep_disfluency/experiments/035/epoch_6/embeddings.npy -> build/bdist.linux-x86_64/egg/deep_disfluency/experiments/035/epoch_6\n",
            "copying build/lib/deep_disfluency/experiments/035/epoch_6/swbd_disf_test_partial_data_output_increco.text -> build/bdist.linux-x86_64/egg/deep_disfluency/experiments/035/epoch_6\n",
            "copying build/lib/deep_disfluency/experiments/035/epoch_6/swbd_disf_test_partial_timings_data_output_increco.text -> build/bdist.linux-x86_64/egg/deep_disfluency/experiments/035/epoch_6\n",
            "copying build/lib/deep_disfluency/experiments/035/epoch_6/W_co.npy -> build/bdist.linux-x86_64/egg/deep_disfluency/experiments/035/epoch_6\n",
            "copying build/lib/deep_disfluency/experiments/035/epoch_6/b_c.npy -> build/bdist.linux-x86_64/egg/deep_disfluency/experiments/035/epoch_6\n",
            "copying build/lib/deep_disfluency/experiments/035/epoch_6/W_ho.npy -> build/bdist.linux-x86_64/egg/deep_disfluency/experiments/035/epoch_6\n",
            "copying build/lib/deep_disfluency/experiments/035/epoch_6/b_y.npy -> build/bdist.linux-x86_64/egg/deep_disfluency/experiments/035/epoch_6\n",
            "copying build/lib/deep_disfluency/experiments/035/epoch_6/W_cf.npy -> build/bdist.linux-x86_64/egg/deep_disfluency/experiments/035/epoch_6\n",
            "copying build/lib/deep_disfluency/experiments/035/epoch_6/W_hf.npy -> build/bdist.linux-x86_64/egg/deep_disfluency/experiments/035/epoch_6\n",
            "copying build/lib/deep_disfluency/experiments/035/epoch_6/W_xi.npy -> build/bdist.linux-x86_64/egg/deep_disfluency/experiments/035/epoch_6\n",
            "copying build/lib/deep_disfluency/experiments/035/epoch_6/b_o.npy -> build/bdist.linux-x86_64/egg/deep_disfluency/experiments/035/epoch_6\n",
            "copying build/lib/deep_disfluency/experiments/035/epoch_6/b_f.npy -> build/bdist.linux-x86_64/egg/deep_disfluency/experiments/035/epoch_6\n",
            "creating build/bdist.linux-x86_64/egg/deep_disfluency/experiments/036\n",
            "creating build/bdist.linux-x86_64/egg/deep_disfluency/experiments/036/epoch_15\n",
            "copying build/lib/deep_disfluency/experiments/036/epoch_15/swbd_disf_test_partial_data_output_final.text -> build/bdist.linux-x86_64/egg/deep_disfluency/experiments/036/epoch_15\n",
            "copying build/lib/deep_disfluency/experiments/036/epoch_15/swbd_disf_test_partial_timings_data_output_final.text -> build/bdist.linux-x86_64/egg/deep_disfluency/experiments/036/epoch_15\n",
            "copying build/lib/deep_disfluency/experiments/036/epoch_15/W_xf.npy -> build/bdist.linux-x86_64/egg/deep_disfluency/experiments/036/epoch_15\n",
            "copying build/lib/deep_disfluency/experiments/036/epoch_15/W_xc.npy -> build/bdist.linux-x86_64/egg/deep_disfluency/experiments/036/epoch_15\n",
            "copying build/lib/deep_disfluency/experiments/036/epoch_15/swbd_disf_heldout_partial_data_output_increco.text -> build/bdist.linux-x86_64/egg/deep_disfluency/experiments/036/epoch_15\n",
            "copying build/lib/deep_disfluency/experiments/036/epoch_15/swbd_disf_heldout_partial_timings_data_output_increco.text -> build/bdist.linux-x86_64/egg/deep_disfluency/experiments/036/epoch_15\n",
            "copying build/lib/deep_disfluency/experiments/036/epoch_15/b_i.npy -> build/bdist.linux-x86_64/egg/deep_disfluency/experiments/036/epoch_15\n",
            "copying build/lib/deep_disfluency/experiments/036/epoch_15/W_hy.npy -> build/bdist.linux-x86_64/egg/deep_disfluency/experiments/036/epoch_15\n",
            "copying build/lib/deep_disfluency/experiments/036/epoch_15/swbd_disf_heldout_partial_timings_data_output_final.text -> build/bdist.linux-x86_64/egg/deep_disfluency/experiments/036/epoch_15\n",
            "copying build/lib/deep_disfluency/experiments/036/epoch_15/swbd_disf_heldout_partial_data_output_final.text -> build/bdist.linux-x86_64/egg/deep_disfluency/experiments/036/epoch_15\n",
            "copying build/lib/deep_disfluency/experiments/036/epoch_15/W_hc.npy -> build/bdist.linux-x86_64/egg/deep_disfluency/experiments/036/epoch_15\n",
            "copying build/lib/deep_disfluency/experiments/036/epoch_15/W_hi.npy -> build/bdist.linux-x86_64/egg/deep_disfluency/experiments/036/epoch_15\n",
            "copying build/lib/deep_disfluency/experiments/036/epoch_15/W_ci.npy -> build/bdist.linux-x86_64/egg/deep_disfluency/experiments/036/epoch_15\n",
            "copying build/lib/deep_disfluency/experiments/036/epoch_15/embeddings.npy -> build/bdist.linux-x86_64/egg/deep_disfluency/experiments/036/epoch_15\n",
            "copying build/lib/deep_disfluency/experiments/036/epoch_15/swbd_disf_test_partial_data_output_increco.text -> build/bdist.linux-x86_64/egg/deep_disfluency/experiments/036/epoch_15\n",
            "copying build/lib/deep_disfluency/experiments/036/epoch_15/swbd_disf_test_partial_timings_data_output_increco.text -> build/bdist.linux-x86_64/egg/deep_disfluency/experiments/036/epoch_15\n",
            "copying build/lib/deep_disfluency/experiments/036/epoch_15/W_co.npy -> build/bdist.linux-x86_64/egg/deep_disfluency/experiments/036/epoch_15\n",
            "copying build/lib/deep_disfluency/experiments/036/epoch_15/b_c.npy -> build/bdist.linux-x86_64/egg/deep_disfluency/experiments/036/epoch_15\n",
            "copying build/lib/deep_disfluency/experiments/036/epoch_15/W_ho.npy -> build/bdist.linux-x86_64/egg/deep_disfluency/experiments/036/epoch_15\n",
            "copying build/lib/deep_disfluency/experiments/036/epoch_15/b_y.npy -> build/bdist.linux-x86_64/egg/deep_disfluency/experiments/036/epoch_15\n",
            "copying build/lib/deep_disfluency/experiments/036/epoch_15/W_cf.npy -> build/bdist.linux-x86_64/egg/deep_disfluency/experiments/036/epoch_15\n",
            "copying build/lib/deep_disfluency/experiments/036/epoch_15/W_hf.npy -> build/bdist.linux-x86_64/egg/deep_disfluency/experiments/036/epoch_15\n",
            "copying build/lib/deep_disfluency/experiments/036/epoch_15/W_xi.npy -> build/bdist.linux-x86_64/egg/deep_disfluency/experiments/036/epoch_15\n",
            "copying build/lib/deep_disfluency/experiments/036/epoch_15/b_o.npy -> build/bdist.linux-x86_64/egg/deep_disfluency/experiments/036/epoch_15\n",
            "copying build/lib/deep_disfluency/experiments/036/epoch_15/b_f.npy -> build/bdist.linux-x86_64/egg/deep_disfluency/experiments/036/epoch_15\n",
            "creating build/bdist.linux-x86_64/egg/deep_disfluency/experiments/036/epoch_8\n",
            "copying build/lib/deep_disfluency/experiments/036/epoch_8/W_xf.npy -> build/bdist.linux-x86_64/egg/deep_disfluency/experiments/036/epoch_8\n",
            "copying build/lib/deep_disfluency/experiments/036/epoch_8/W_xc.npy -> build/bdist.linux-x86_64/egg/deep_disfluency/experiments/036/epoch_8\n",
            "copying build/lib/deep_disfluency/experiments/036/epoch_8/b_i.npy -> build/bdist.linux-x86_64/egg/deep_disfluency/experiments/036/epoch_8\n",
            "copying build/lib/deep_disfluency/experiments/036/epoch_8/W_hy.npy -> build/bdist.linux-x86_64/egg/deep_disfluency/experiments/036/epoch_8\n",
            "copying build/lib/deep_disfluency/experiments/036/epoch_8/W_hc.npy -> build/bdist.linux-x86_64/egg/deep_disfluency/experiments/036/epoch_8\n",
            "copying build/lib/deep_disfluency/experiments/036/epoch_8/W_hi.npy -> build/bdist.linux-x86_64/egg/deep_disfluency/experiments/036/epoch_8\n",
            "copying build/lib/deep_disfluency/experiments/036/epoch_8/W_ci.npy -> build/bdist.linux-x86_64/egg/deep_disfluency/experiments/036/epoch_8\n",
            "copying build/lib/deep_disfluency/experiments/036/epoch_8/embeddings.npy -> build/bdist.linux-x86_64/egg/deep_disfluency/experiments/036/epoch_8\n",
            "copying build/lib/deep_disfluency/experiments/036/epoch_8/W_co.npy -> build/bdist.linux-x86_64/egg/deep_disfluency/experiments/036/epoch_8\n",
            "copying build/lib/deep_disfluency/experiments/036/epoch_8/b_c.npy -> build/bdist.linux-x86_64/egg/deep_disfluency/experiments/036/epoch_8\n",
            "copying build/lib/deep_disfluency/experiments/036/epoch_8/W_ho.npy -> build/bdist.linux-x86_64/egg/deep_disfluency/experiments/036/epoch_8\n",
            "copying build/lib/deep_disfluency/experiments/036/epoch_8/b_y.npy -> build/bdist.linux-x86_64/egg/deep_disfluency/experiments/036/epoch_8\n",
            "copying build/lib/deep_disfluency/experiments/036/epoch_8/W_cf.npy -> build/bdist.linux-x86_64/egg/deep_disfluency/experiments/036/epoch_8\n",
            "copying build/lib/deep_disfluency/experiments/036/epoch_8/W_hf.npy -> build/bdist.linux-x86_64/egg/deep_disfluency/experiments/036/epoch_8\n",
            "copying build/lib/deep_disfluency/experiments/036/epoch_8/W_xi.npy -> build/bdist.linux-x86_64/egg/deep_disfluency/experiments/036/epoch_8\n",
            "copying build/lib/deep_disfluency/experiments/036/epoch_8/b_o.npy -> build/bdist.linux-x86_64/egg/deep_disfluency/experiments/036/epoch_8\n",
            "copying build/lib/deep_disfluency/experiments/036/epoch_8/b_f.npy -> build/bdist.linux-x86_64/egg/deep_disfluency/experiments/036/epoch_8\n",
            "creating build/bdist.linux-x86_64/egg/deep_disfluency/experiments/021\n",
            "creating build/bdist.linux-x86_64/egg/deep_disfluency/experiments/021/epoch_40\n",
            "copying build/lib/deep_disfluency/experiments/021/epoch_40/swbd_disf_test_partial_data_output_final.text -> build/bdist.linux-x86_64/egg/deep_disfluency/experiments/021/epoch_40\n",
            "copying build/lib/deep_disfluency/experiments/021/epoch_40/swbd_disf_heldout_partial_data_output_increco.text -> build/bdist.linux-x86_64/egg/deep_disfluency/experiments/021/epoch_40\n",
            "copying build/lib/deep_disfluency/experiments/021/epoch_40/swbd_disf_test_data_output_final.text -> build/bdist.linux-x86_64/egg/deep_disfluency/experiments/021/epoch_40\n",
            "copying build/lib/deep_disfluency/experiments/021/epoch_40/bh.npy -> build/bdist.linux-x86_64/egg/deep_disfluency/experiments/021/epoch_40\n",
            "copying build/lib/deep_disfluency/experiments/021/epoch_40/swbd_disf_heldout_partial_data_output_final.text -> build/bdist.linux-x86_64/egg/deep_disfluency/experiments/021/epoch_40\n",
            "copying build/lib/deep_disfluency/experiments/021/epoch_40/h0.npy -> build/bdist.linux-x86_64/egg/deep_disfluency/experiments/021/epoch_40\n",
            "copying build/lib/deep_disfluency/experiments/021/epoch_40/Wh.npy -> build/bdist.linux-x86_64/egg/deep_disfluency/experiments/021/epoch_40\n",
            "copying build/lib/deep_disfluency/experiments/021/epoch_40/swbd_disf_heldout_data_output_increco.text -> build/bdist.linux-x86_64/egg/deep_disfluency/experiments/021/epoch_40\n",
            "copying build/lib/deep_disfluency/experiments/021/epoch_40/Wx.npy -> build/bdist.linux-x86_64/egg/deep_disfluency/experiments/021/epoch_40\n",
            "copying build/lib/deep_disfluency/experiments/021/epoch_40/embeddings.npy -> build/bdist.linux-x86_64/egg/deep_disfluency/experiments/021/epoch_40\n",
            "copying build/lib/deep_disfluency/experiments/021/epoch_40/swbd_disf_test_partial_data_output_increco.text -> build/bdist.linux-x86_64/egg/deep_disfluency/experiments/021/epoch_40\n",
            "copying build/lib/deep_disfluency/experiments/021/epoch_40/W.npy -> build/bdist.linux-x86_64/egg/deep_disfluency/experiments/021/epoch_40\n",
            "copying build/lib/deep_disfluency/experiments/021/epoch_40/swbd_disf_test_data_output_increco.text -> build/bdist.linux-x86_64/egg/deep_disfluency/experiments/021/epoch_40\n",
            "copying build/lib/deep_disfluency/experiments/021/epoch_40/swbd_disf_heldout_data_output_final.text -> build/bdist.linux-x86_64/egg/deep_disfluency/experiments/021/epoch_40\n",
            "copying build/lib/deep_disfluency/experiments/021/epoch_40/b.npy -> build/bdist.linux-x86_64/egg/deep_disfluency/experiments/021/epoch_40\n",
            "copying build/lib/deep_disfluency/experiments/InterSpeech_2015.py -> build/bdist.linux-x86_64/egg/deep_disfluency/experiments\n",
            "creating build/bdist.linux-x86_64/egg/deep_disfluency/experiments/analysis\n",
            "creating build/bdist.linux-x86_64/egg/deep_disfluency/experiments/analysis/EACL_2017\n",
            "copying build/lib/deep_disfluency/experiments/analysis/EACL_2017/EACL_2017_learning_Analysis.ipynb -> build/bdist.linux-x86_64/egg/deep_disfluency/experiments/analysis/EACL_2017\n",
            "copying build/lib/deep_disfluency/experiments/analysis/EACL_2017/EACL_Learning_Graph.pdf -> build/bdist.linux-x86_64/egg/deep_disfluency/experiments/analysis/EACL_2017\n",
            "copying build/lib/deep_disfluency/experiments/analysis/EACL_2017/Tag_counts.ipynb -> build/bdist.linux-x86_64/egg/deep_disfluency/experiments/analysis/EACL_2017\n",
            "copying build/lib/deep_disfluency/experiments/analysis/EACL_2017/EACL_2017.ipynb -> build/bdist.linux-x86_64/egg/deep_disfluency/experiments/analysis/EACL_2017\n",
            "copying build/lib/deep_disfluency/experiments/analysis/EACL_2017/latex_output_single_tasks.txt -> build/bdist.linux-x86_64/egg/deep_disfluency/experiments/analysis/EACL_2017\n",
            "copying build/lib/deep_disfluency/experiments/analysis/EACL_2017/latex_output_single_tasks_simple.txt -> build/bdist.linux-x86_64/egg/deep_disfluency/experiments/analysis/EACL_2017\n",
            "copying build/lib/deep_disfluency/experiments/analysis/EACL_2017/latex_output.txt -> build/bdist.linux-x86_64/egg/deep_disfluency/experiments/analysis/EACL_2017\n",
            "creating build/bdist.linux-x86_64/egg/deep_disfluency/experiments/analysis/Interspeech_2015_EMNLP_2015\n",
            "copying build/lib/deep_disfluency/experiments/analysis/Interspeech_2015_EMNLP_2015/Interspeech_2015_embedding_plotting.ipynb -> build/bdist.linux-x86_64/egg/deep_disfluency/experiments/analysis/Interspeech_2015_EMNLP_2015\n",
            "copying build/lib/deep_disfluency/experiments/analysis/Interspeech_2015_EMNLP_2015/EMNLPgraph.pdf -> build/bdist.linux-x86_64/egg/deep_disfluency/experiments/analysis/Interspeech_2015_EMNLP_2015\n",
            "copying build/lib/deep_disfluency/experiments/analysis/Interspeech_2015_EMNLP_2015/embeddings2.png -> build/bdist.linux-x86_64/egg/deep_disfluency/experiments/analysis/Interspeech_2015_EMNLP_2015\n",
            "copying build/lib/deep_disfluency/experiments/analysis/Interspeech_2015_EMNLP_2015/LearningCurveGraph.png -> build/bdist.linux-x86_64/egg/deep_disfluency/experiments/analysis/Interspeech_2015_EMNLP_2015\n",
            "copying build/lib/deep_disfluency/experiments/analysis/Interspeech_2015_EMNLP_2015/ISgraph2.pdf -> build/bdist.linux-x86_64/egg/deep_disfluency/experiments/analysis/Interspeech_2015_EMNLP_2015\n",
            "copying build/lib/deep_disfluency/experiments/analysis/Interspeech_2015_EMNLP_2015/embeddings.png -> build/bdist.linux-x86_64/egg/deep_disfluency/experiments/analysis/Interspeech_2015_EMNLP_2015\n",
            "copying build/lib/deep_disfluency/experiments/analysis/Interspeech_2015_EMNLP_2015/ISgraph.pdf -> build/bdist.linux-x86_64/egg/deep_disfluency/experiments/analysis/Interspeech_2015_EMNLP_2015\n",
            "copying build/lib/deep_disfluency/experiments/analysis/Interspeech_2015_EMNLP_2015/Interspeech_2015_eval.ipynb -> build/bdist.linux-x86_64/egg/deep_disfluency/experiments/analysis/Interspeech_2015_EMNLP_2015\n",
            "copying build/lib/deep_disfluency/experiments/analysis/Interspeech_2015_EMNLP_2015/Interspeech_2015_and_EMNLP_submission_learning_analysis.ipynb -> build/bdist.linux-x86_64/egg/deep_disfluency/experiments/analysis/Interspeech_2015_EMNLP_2015\n",
            "copying build/lib/deep_disfluency/experiments/analysis/Interspeech_2015_EMNLP_2015/ISgraph.png -> build/bdist.linux-x86_64/egg/deep_disfluency/experiments/analysis/Interspeech_2015_EMNLP_2015\n",
            "copying build/lib/deep_disfluency/experiments/EACL_2017.py -> build/bdist.linux-x86_64/egg/deep_disfluency/experiments\n",
            "creating build/bdist.linux-x86_64/egg/deep_disfluency/experiments/038\n",
            "creating build/bdist.linux-x86_64/egg/deep_disfluency/experiments/038/epoch_8\n",
            "copying build/lib/deep_disfluency/experiments/038/epoch_8/swbd_disf_test_partial_data_output_final.text -> build/bdist.linux-x86_64/egg/deep_disfluency/experiments/038/epoch_8\n",
            "copying build/lib/deep_disfluency/experiments/038/epoch_8/swbd_disf_test_partial_timings_data_output_final.text -> build/bdist.linux-x86_64/egg/deep_disfluency/experiments/038/epoch_8\n",
            "copying build/lib/deep_disfluency/experiments/038/epoch_8/W_xf.npy -> build/bdist.linux-x86_64/egg/deep_disfluency/experiments/038/epoch_8\n",
            "copying build/lib/deep_disfluency/experiments/038/epoch_8/W_xc.npy -> build/bdist.linux-x86_64/egg/deep_disfluency/experiments/038/epoch_8\n",
            "copying build/lib/deep_disfluency/experiments/038/epoch_8/swbd_disf_heldout_partial_data_output_increco.text -> build/bdist.linux-x86_64/egg/deep_disfluency/experiments/038/epoch_8\n",
            "copying build/lib/deep_disfluency/experiments/038/epoch_8/swbd_disf_heldout_partial_timings_data_output_increco.text -> build/bdist.linux-x86_64/egg/deep_disfluency/experiments/038/epoch_8\n",
            "copying build/lib/deep_disfluency/experiments/038/epoch_8/b_i.npy -> build/bdist.linux-x86_64/egg/deep_disfluency/experiments/038/epoch_8\n",
            "copying build/lib/deep_disfluency/experiments/038/epoch_8/W_hy.npy -> build/bdist.linux-x86_64/egg/deep_disfluency/experiments/038/epoch_8\n",
            "copying build/lib/deep_disfluency/experiments/038/epoch_8/swbd_disf_heldout_partial_timings_data_output_final.text -> build/bdist.linux-x86_64/egg/deep_disfluency/experiments/038/epoch_8\n",
            "copying build/lib/deep_disfluency/experiments/038/epoch_8/swbd_disf_heldout_partial_data_output_final.text -> build/bdist.linux-x86_64/egg/deep_disfluency/experiments/038/epoch_8\n",
            "copying build/lib/deep_disfluency/experiments/038/epoch_8/W_hc.npy -> build/bdist.linux-x86_64/egg/deep_disfluency/experiments/038/epoch_8\n",
            "copying build/lib/deep_disfluency/experiments/038/epoch_8/W_hi.npy -> build/bdist.linux-x86_64/egg/deep_disfluency/experiments/038/epoch_8\n",
            "copying build/lib/deep_disfluency/experiments/038/epoch_8/W_ci.npy -> build/bdist.linux-x86_64/egg/deep_disfluency/experiments/038/epoch_8\n",
            "copying build/lib/deep_disfluency/experiments/038/epoch_8/embeddings.npy -> build/bdist.linux-x86_64/egg/deep_disfluency/experiments/038/epoch_8\n",
            "copying build/lib/deep_disfluency/experiments/038/epoch_8/swbd_disf_test_partial_data_output_increco.text -> build/bdist.linux-x86_64/egg/deep_disfluency/experiments/038/epoch_8\n",
            "copying build/lib/deep_disfluency/experiments/038/epoch_8/swbd_disf_test_partial_timings_data_output_increco.text -> build/bdist.linux-x86_64/egg/deep_disfluency/experiments/038/epoch_8\n",
            "copying build/lib/deep_disfluency/experiments/038/epoch_8/W_co.npy -> build/bdist.linux-x86_64/egg/deep_disfluency/experiments/038/epoch_8\n",
            "copying build/lib/deep_disfluency/experiments/038/epoch_8/b_c.npy -> build/bdist.linux-x86_64/egg/deep_disfluency/experiments/038/epoch_8\n",
            "copying build/lib/deep_disfluency/experiments/038/epoch_8/W_ho.npy -> build/bdist.linux-x86_64/egg/deep_disfluency/experiments/038/epoch_8\n",
            "copying build/lib/deep_disfluency/experiments/038/epoch_8/b_y.npy -> build/bdist.linux-x86_64/egg/deep_disfluency/experiments/038/epoch_8\n",
            "copying build/lib/deep_disfluency/experiments/038/epoch_8/W_cf.npy -> build/bdist.linux-x86_64/egg/deep_disfluency/experiments/038/epoch_8\n",
            "copying build/lib/deep_disfluency/experiments/038/epoch_8/W_hf.npy -> build/bdist.linux-x86_64/egg/deep_disfluency/experiments/038/epoch_8\n",
            "copying build/lib/deep_disfluency/experiments/038/epoch_8/W_xi.npy -> build/bdist.linux-x86_64/egg/deep_disfluency/experiments/038/epoch_8\n",
            "copying build/lib/deep_disfluency/experiments/038/epoch_8/b_o.npy -> build/bdist.linux-x86_64/egg/deep_disfluency/experiments/038/epoch_8\n",
            "copying build/lib/deep_disfluency/experiments/038/epoch_8/b_f.npy -> build/bdist.linux-x86_64/egg/deep_disfluency/experiments/038/epoch_8\n",
            "copying build/lib/deep_disfluency/experiments/experiment_configs.csv -> build/bdist.linux-x86_64/egg/deep_disfluency/experiments\n",
            "creating build/bdist.linux-x86_64/egg/deep_disfluency/experiments/034\n",
            "creating build/bdist.linux-x86_64/egg/deep_disfluency/experiments/034/epoch_37\n",
            "copying build/lib/deep_disfluency/experiments/034/epoch_37/swbd_disf_test_partial_data_output_final.text -> build/bdist.linux-x86_64/egg/deep_disfluency/experiments/034/epoch_37\n",
            "copying build/lib/deep_disfluency/experiments/034/epoch_37/swbd_disf_test_partial_timings_data_output_final.text -> build/bdist.linux-x86_64/egg/deep_disfluency/experiments/034/epoch_37\n",
            "copying build/lib/deep_disfluency/experiments/034/epoch_37/swbd_disf_heldout_partial_data_output_increco.text -> build/bdist.linux-x86_64/egg/deep_disfluency/experiments/034/epoch_37\n",
            "copying build/lib/deep_disfluency/experiments/034/epoch_37/swbd_disf_heldout_partial_timings_data_output_increco.text -> build/bdist.linux-x86_64/egg/deep_disfluency/experiments/034/epoch_37\n",
            "copying build/lib/deep_disfluency/experiments/034/epoch_37/bh.npy -> build/bdist.linux-x86_64/egg/deep_disfluency/experiments/034/epoch_37\n",
            "copying build/lib/deep_disfluency/experiments/034/epoch_37/swbd_disf_heldout_partial_timings_data_output_final.text -> build/bdist.linux-x86_64/egg/deep_disfluency/experiments/034/epoch_37\n",
            "copying build/lib/deep_disfluency/experiments/034/epoch_37/swbd_disf_heldout_partial_data_output_final.text -> build/bdist.linux-x86_64/egg/deep_disfluency/experiments/034/epoch_37\n",
            "copying build/lib/deep_disfluency/experiments/034/epoch_37/h0.npy -> build/bdist.linux-x86_64/egg/deep_disfluency/experiments/034/epoch_37\n",
            "copying build/lib/deep_disfluency/experiments/034/epoch_37/Wh.npy -> build/bdist.linux-x86_64/egg/deep_disfluency/experiments/034/epoch_37\n",
            "copying build/lib/deep_disfluency/experiments/034/epoch_37/Wx.npy -> build/bdist.linux-x86_64/egg/deep_disfluency/experiments/034/epoch_37\n",
            "copying build/lib/deep_disfluency/experiments/034/epoch_37/embeddings.npy -> build/bdist.linux-x86_64/egg/deep_disfluency/experiments/034/epoch_37\n",
            "copying build/lib/deep_disfluency/experiments/034/epoch_37/swbd_disf_test_partial_data_output_increco.text -> build/bdist.linux-x86_64/egg/deep_disfluency/experiments/034/epoch_37\n",
            "copying build/lib/deep_disfluency/experiments/034/epoch_37/swbd_disf_test_partial_timings_data_output_increco.text -> build/bdist.linux-x86_64/egg/deep_disfluency/experiments/034/epoch_37\n",
            "copying build/lib/deep_disfluency/experiments/034/epoch_37/W.npy -> build/bdist.linux-x86_64/egg/deep_disfluency/experiments/034/epoch_37\n",
            "copying build/lib/deep_disfluency/experiments/034/epoch_37/b.npy -> build/bdist.linux-x86_64/egg/deep_disfluency/experiments/034/epoch_37\n",
            "creating build/bdist.linux-x86_64/egg/deep_disfluency/experiments/037\n",
            "creating build/bdist.linux-x86_64/egg/deep_disfluency/experiments/037/epoch_6\n",
            "copying build/lib/deep_disfluency/experiments/037/epoch_6/swbd_disf_test_partial_data_output_final.text -> build/bdist.linux-x86_64/egg/deep_disfluency/experiments/037/epoch_6\n",
            "copying build/lib/deep_disfluency/experiments/037/epoch_6/W_xf.npy -> build/bdist.linux-x86_64/egg/deep_disfluency/experiments/037/epoch_6\n",
            "copying build/lib/deep_disfluency/experiments/037/epoch_6/W_xc.npy -> build/bdist.linux-x86_64/egg/deep_disfluency/experiments/037/epoch_6\n",
            "copying build/lib/deep_disfluency/experiments/037/epoch_6/swbd_disf_heldout_partial_data_output_increco.text -> build/bdist.linux-x86_64/egg/deep_disfluency/experiments/037/epoch_6\n",
            "copying build/lib/deep_disfluency/experiments/037/epoch_6/swbd_disf_heldout_partial_timings_data_output_increco.text -> build/bdist.linux-x86_64/egg/deep_disfluency/experiments/037/epoch_6\n",
            "copying build/lib/deep_disfluency/experiments/037/epoch_6/b_i.npy -> build/bdist.linux-x86_64/egg/deep_disfluency/experiments/037/epoch_6\n",
            "copying build/lib/deep_disfluency/experiments/037/epoch_6/W_hy.npy -> build/bdist.linux-x86_64/egg/deep_disfluency/experiments/037/epoch_6\n",
            "copying build/lib/deep_disfluency/experiments/037/epoch_6/swbd_disf_heldout_partial_data_output_final.text -> build/bdist.linux-x86_64/egg/deep_disfluency/experiments/037/epoch_6\n",
            "copying build/lib/deep_disfluency/experiments/037/epoch_6/W_hc.npy -> build/bdist.linux-x86_64/egg/deep_disfluency/experiments/037/epoch_6\n",
            "copying build/lib/deep_disfluency/experiments/037/epoch_6/W_hi.npy -> build/bdist.linux-x86_64/egg/deep_disfluency/experiments/037/epoch_6\n",
            "copying build/lib/deep_disfluency/experiments/037/epoch_6/W_ci.npy -> build/bdist.linux-x86_64/egg/deep_disfluency/experiments/037/epoch_6\n",
            "copying build/lib/deep_disfluency/experiments/037/epoch_6/embeddings.npy -> build/bdist.linux-x86_64/egg/deep_disfluency/experiments/037/epoch_6\n",
            "copying build/lib/deep_disfluency/experiments/037/epoch_6/swbd_disf_test_partial_data_output_increco.text -> build/bdist.linux-x86_64/egg/deep_disfluency/experiments/037/epoch_6\n",
            "copying build/lib/deep_disfluency/experiments/037/epoch_6/W_co.npy -> build/bdist.linux-x86_64/egg/deep_disfluency/experiments/037/epoch_6\n",
            "copying build/lib/deep_disfluency/experiments/037/epoch_6/b_c.npy -> build/bdist.linux-x86_64/egg/deep_disfluency/experiments/037/epoch_6\n",
            "copying build/lib/deep_disfluency/experiments/037/epoch_6/W_ho.npy -> build/bdist.linux-x86_64/egg/deep_disfluency/experiments/037/epoch_6\n",
            "copying build/lib/deep_disfluency/experiments/037/epoch_6/b_y.npy -> build/bdist.linux-x86_64/egg/deep_disfluency/experiments/037/epoch_6\n",
            "copying build/lib/deep_disfluency/experiments/037/epoch_6/W_cf.npy -> build/bdist.linux-x86_64/egg/deep_disfluency/experiments/037/epoch_6\n",
            "copying build/lib/deep_disfluency/experiments/037/epoch_6/W_hf.npy -> build/bdist.linux-x86_64/egg/deep_disfluency/experiments/037/epoch_6\n",
            "copying build/lib/deep_disfluency/experiments/037/epoch_6/W_xi.npy -> build/bdist.linux-x86_64/egg/deep_disfluency/experiments/037/epoch_6\n",
            "copying build/lib/deep_disfluency/experiments/037/epoch_6/b_o.npy -> build/bdist.linux-x86_64/egg/deep_disfluency/experiments/037/epoch_6\n",
            "copying build/lib/deep_disfluency/experiments/037/epoch_6/b_f.npy -> build/bdist.linux-x86_64/egg/deep_disfluency/experiments/037/epoch_6\n",
            "creating build/bdist.linux-x86_64/egg/deep_disfluency/utils\n",
            "copying build/lib/deep_disfluency/utils/accuracy.py -> build/bdist.linux-x86_64/egg/deep_disfluency/utils\n",
            "copying build/lib/deep_disfluency/utils/__init__.py -> build/bdist.linux-x86_64/egg/deep_disfluency/utils\n",
            "copying build/lib/deep_disfluency/utils/tools.py -> build/bdist.linux-x86_64/egg/deep_disfluency/utils\n",
            "creating build/bdist.linux-x86_64/egg/deep_disfluency/evaluation\n",
            "copying build/lib/deep_disfluency/evaluation/eval_utils.py -> build/bdist.linux-x86_64/egg/deep_disfluency/evaluation\n",
            "copying build/lib/deep_disfluency/evaluation/__init__.py -> build/bdist.linux-x86_64/egg/deep_disfluency/evaluation\n",
            "copying build/lib/deep_disfluency/evaluation/results_utils.py -> build/bdist.linux-x86_64/egg/deep_disfluency/evaluation\n",
            "copying build/lib/deep_disfluency/evaluation/disf_evaluation.py -> build/bdist.linux-x86_64/egg/deep_disfluency/evaluation\n",
            "creating build/bdist.linux-x86_64/egg/deep_disfluency/feature_extraction\n",
            "copying build/lib/deep_disfluency/feature_extraction/POS_tagging.py -> build/bdist.linux-x86_64/egg/deep_disfluency/feature_extraction\n",
            "copying build/lib/deep_disfluency/feature_extraction/create_tag_files.py -> build/bdist.linux-x86_64/egg/deep_disfluency/feature_extraction\n",
            "copying build/lib/deep_disfluency/feature_extraction/wer_calculation_from_final_asr_results.py -> build/bdist.linux-x86_64/egg/deep_disfluency/feature_extraction\n",
            "copying build/lib/deep_disfluency/feature_extraction/swbd_map_speaker_names_to_audio_channels.py -> build/bdist.linux-x86_64/egg/deep_disfluency/feature_extraction\n",
            "copying build/lib/deep_disfluency/feature_extraction/__init__.py -> build/bdist.linux-x86_64/egg/deep_disfluency/feature_extraction\n",
            "copying build/lib/deep_disfluency/feature_extraction/swbd_map_word_alignments_to_SWDA_words.py -> build/bdist.linux-x86_64/egg/deep_disfluency/feature_extraction\n",
            "copying build/lib/deep_disfluency/feature_extraction/convert_audio_files_extract_audio_features.py -> build/bdist.linux-x86_64/egg/deep_disfluency/feature_extraction\n",
            "copying build/lib/deep_disfluency/feature_extraction/recordings_list.py -> build/bdist.linux-x86_64/egg/deep_disfluency/feature_extraction\n",
            "copying build/lib/deep_disfluency/feature_extraction/add_language_model_features.py -> build/bdist.linux-x86_64/egg/deep_disfluency/feature_extraction\n",
            "copying build/lib/deep_disfluency/feature_extraction/get_ibm_asr_results.py -> build/bdist.linux-x86_64/egg/deep_disfluency/feature_extraction\n",
            "copying build/lib/deep_disfluency/feature_extraction/save_feature_matrices.py -> build/bdist.linux-x86_64/egg/deep_disfluency/feature_extraction\n",
            "copying build/lib/deep_disfluency/feature_extraction/word_alignment.py -> build/bdist.linux-x86_64/egg/deep_disfluency/feature_extraction\n",
            "copying build/lib/deep_disfluency/feature_extraction/feature_utils.py -> build/bdist.linux-x86_64/egg/deep_disfluency/feature_extraction\n",
            "copying build/lib/deep_disfluency/feature_extraction/crf_pos_tagger_example.py -> build/bdist.linux-x86_64/egg/deep_disfluency/feature_extraction\n",
            "copying build/lib/deep_disfluency/feature_extraction/extract_features.py -> build/bdist.linux-x86_64/egg/deep_disfluency/feature_extraction\n",
            "copying build/lib/deep_disfluency/feature_extraction/crfpostagger -> build/bdist.linux-x86_64/egg/deep_disfluency/feature_extraction\n",
            "copying build/lib/deep_disfluency/feature_extraction/convert_asr_results_to_increco.py -> build/bdist.linux-x86_64/egg/deep_disfluency/feature_extraction\n",
            "creating build/bdist.linux-x86_64/egg/deep_disfluency/asr\n",
            "copying build/lib/deep_disfluency/asr/ibm_watson.py -> build/bdist.linux-x86_64/egg/deep_disfluency/asr\n",
            "copying build/lib/deep_disfluency/asr/__init__.py -> build/bdist.linux-x86_64/egg/deep_disfluency/asr\n",
            "creating build/bdist.linux-x86_64/egg/deep_disfluency/corpus\n",
            "copying build/lib/deep_disfluency/corpus/selfrepair_annotation.py -> build/bdist.linux-x86_64/egg/deep_disfluency/corpus\n",
            "copying build/lib/deep_disfluency/corpus/util.py -> build/bdist.linux-x86_64/egg/deep_disfluency/corpus\n",
            "copying build/lib/deep_disfluency/corpus/BNC_swda_POS_converter.py -> build/bdist.linux-x86_64/egg/deep_disfluency/corpus\n",
            "copying build/lib/deep_disfluency/corpus/tree_pos_map.py -> build/bdist.linux-x86_64/egg/deep_disfluency/corpus\n",
            "copying build/lib/deep_disfluency/corpus/create_folds.py -> build/bdist.linux-x86_64/egg/deep_disfluency/corpus\n",
            "copying build/lib/deep_disfluency/corpus/__init__.py -> build/bdist.linux-x86_64/egg/deep_disfluency/corpus\n",
            "copying build/lib/deep_disfluency/corpus/repair.py -> build/bdist.linux-x86_64/egg/deep_disfluency/corpus\n",
            "copying build/lib/deep_disfluency/corpus/spelling_dictionary.py -> build/bdist.linux-x86_64/egg/deep_disfluency/corpus\n",
            "copying build/lib/deep_disfluency/corpus/BNC_create_corpus.py -> build/bdist.linux-x86_64/egg/deep_disfluency/corpus\n",
            "copying build/lib/deep_disfluency/corpus/tree_pos_map_writer.py -> build/bdist.linux-x86_64/egg/deep_disfluency/corpus\n",
            "copying build/lib/deep_disfluency/corpus/load.py -> build/bdist.linux-x86_64/egg/deep_disfluency/corpus\n",
            "copying build/lib/deep_disfluency/corpus/textgrids_to_disf_tags_corpus_converter.py -> build/bdist.linux-x86_64/egg/deep_disfluency/corpus\n",
            "copying build/lib/deep_disfluency/corpus/disfluency_corpus_creator.py -> build/bdist.linux-x86_64/egg/deep_disfluency/corpus\n",
            "copying build/lib/deep_disfluency/corpus/corpus_util.py -> build/bdist.linux-x86_64/egg/deep_disfluency/corpus\n",
            "copying build/lib/deep_disfluency/corpus/create_fake_timing_corpus.py -> build/bdist.linux-x86_64/egg/deep_disfluency/corpus\n",
            "copying build/lib/deep_disfluency/corpus/swda.py -> build/bdist.linux-x86_64/egg/deep_disfluency/corpus\n",
            "byte-compiling build/bdist.linux-x86_64/egg/deep_disfluency/language_model/util.py to util.cpython-37.pyc\n",
            "byte-compiling build/bdist.linux-x86_64/egg/deep_disfluency/language_model/ngram_language_model.py to ngram_language_model.cpython-37.pyc\n",
            "byte-compiling build/bdist.linux-x86_64/egg/deep_disfluency/language_model/__init__.py to __init__.cpython-37.pyc\n",
            "byte-compiling build/bdist.linux-x86_64/egg/deep_disfluency/embeddings/load_embeddings.py to load_embeddings.cpython-37.pyc\n",
            "byte-compiling build/bdist.linux-x86_64/egg/deep_disfluency/embeddings/__init__.py to __init__.cpython-37.pyc\n",
            "byte-compiling build/bdist.linux-x86_64/egg/deep_disfluency/embeddings/gensim_embeddings.py to gensim_embeddings.cpython-37.pyc\n",
            "byte-compiling build/bdist.linux-x86_64/egg/deep_disfluency/decoder/timing_model.py to timing_model.cpython-37.pyc\n",
            "byte-compiling build/bdist.linux-x86_64/egg/deep_disfluency/decoder/hmm_utils.py to hmm_utils.cpython-37.pyc\n",
            "byte-compiling build/bdist.linux-x86_64/egg/deep_disfluency/decoder/__init__.py to __init__.cpython-37.pyc\n",
            "byte-compiling build/bdist.linux-x86_64/egg/deep_disfluency/decoder/tag_conversion.py to tag_conversion.cpython-37.pyc\n",
            "byte-compiling build/bdist.linux-x86_64/egg/deep_disfluency/decoder/hmm.py to hmm.cpython-37.pyc\n",
            "byte-compiling build/bdist.linux-x86_64/egg/deep_disfluency/decoder/noisy_channel.py to noisy_channel.cpython-37.pyc\n",
            "byte-compiling build/bdist.linux-x86_64/egg/deep_disfluency/rnn/elman.py to elman.cpython-37.pyc\n",
            "byte-compiling build/bdist.linux-x86_64/egg/deep_disfluency/rnn/test_if_using_gpu.py to test_if_using_gpu.cpython-37.pyc\n",
            "byte-compiling build/bdist.linux-x86_64/egg/deep_disfluency/rnn/__init__.py to __init__.cpython-37.pyc\n",
            "byte-compiling build/bdist.linux-x86_64/egg/deep_disfluency/rnn/lstm.py to lstm.cpython-37.pyc\n",
            "byte-compiling build/bdist.linux-x86_64/egg/deep_disfluency/tagger/utils.py to utils.cpython-37.pyc\n",
            "byte-compiling build/bdist.linux-x86_64/egg/deep_disfluency/tagger/deep_tagger_module.py to deep_tagger_module.cpython-37.pyc\n",
            "byte-compiling build/bdist.linux-x86_64/egg/deep_disfluency/tagger/__init__.py to __init__.cpython-37.pyc\n",
            "byte-compiling build/bdist.linux-x86_64/egg/deep_disfluency/tagger/deep_tagger.py to deep_tagger.cpython-37.pyc\n",
            "byte-compiling build/bdist.linux-x86_64/egg/deep_disfluency/__init__.py to __init__.cpython-37.pyc\n",
            "byte-compiling build/bdist.linux-x86_64/egg/deep_disfluency/load/__init__.py to __init__.cpython-37.pyc\n",
            "byte-compiling build/bdist.linux-x86_64/egg/deep_disfluency/load/load.py to load.cpython-37.pyc\n",
            "byte-compiling build/bdist.linux-x86_64/egg/deep_disfluency/experiments/InterSpeech_2015.py to InterSpeech_2015.cpython-37.pyc\n",
            "byte-compiling build/bdist.linux-x86_64/egg/deep_disfluency/experiments/EACL_2017.py to EACL_2017.cpython-37.pyc\n",
            "byte-compiling build/bdist.linux-x86_64/egg/deep_disfluency/utils/accuracy.py to accuracy.cpython-37.pyc\n",
            "byte-compiling build/bdist.linux-x86_64/egg/deep_disfluency/utils/__init__.py to __init__.cpython-37.pyc\n",
            "byte-compiling build/bdist.linux-x86_64/egg/deep_disfluency/utils/tools.py to tools.cpython-37.pyc\n",
            "byte-compiling build/bdist.linux-x86_64/egg/deep_disfluency/evaluation/eval_utils.py to eval_utils.cpython-37.pyc\n",
            "byte-compiling build/bdist.linux-x86_64/egg/deep_disfluency/evaluation/__init__.py to __init__.cpython-37.pyc\n",
            "byte-compiling build/bdist.linux-x86_64/egg/deep_disfluency/evaluation/results_utils.py to results_utils.cpython-37.pyc\n",
            "byte-compiling build/bdist.linux-x86_64/egg/deep_disfluency/evaluation/disf_evaluation.py to disf_evaluation.cpython-37.pyc\n",
            "byte-compiling build/bdist.linux-x86_64/egg/deep_disfluency/feature_extraction/POS_tagging.py to POS_tagging.cpython-37.pyc\n",
            "byte-compiling build/bdist.linux-x86_64/egg/deep_disfluency/feature_extraction/create_tag_files.py to create_tag_files.cpython-37.pyc\n",
            "byte-compiling build/bdist.linux-x86_64/egg/deep_disfluency/feature_extraction/wer_calculation_from_final_asr_results.py to wer_calculation_from_final_asr_results.cpython-37.pyc\n",
            "byte-compiling build/bdist.linux-x86_64/egg/deep_disfluency/feature_extraction/swbd_map_speaker_names_to_audio_channels.py to swbd_map_speaker_names_to_audio_channels.cpython-37.pyc\n",
            "byte-compiling build/bdist.linux-x86_64/egg/deep_disfluency/feature_extraction/__init__.py to __init__.cpython-37.pyc\n",
            "byte-compiling build/bdist.linux-x86_64/egg/deep_disfluency/feature_extraction/swbd_map_word_alignments_to_SWDA_words.py to swbd_map_word_alignments_to_SWDA_words.cpython-37.pyc\n",
            "byte-compiling build/bdist.linux-x86_64/egg/deep_disfluency/feature_extraction/convert_audio_files_extract_audio_features.py to convert_audio_files_extract_audio_features.cpython-37.pyc\n",
            "byte-compiling build/bdist.linux-x86_64/egg/deep_disfluency/feature_extraction/recordings_list.py to recordings_list.cpython-37.pyc\n",
            "byte-compiling build/bdist.linux-x86_64/egg/deep_disfluency/feature_extraction/add_language_model_features.py to add_language_model_features.cpython-37.pyc\n",
            "byte-compiling build/bdist.linux-x86_64/egg/deep_disfluency/feature_extraction/get_ibm_asr_results.py to get_ibm_asr_results.cpython-37.pyc\n",
            "byte-compiling build/bdist.linux-x86_64/egg/deep_disfluency/feature_extraction/save_feature_matrices.py to save_feature_matrices.cpython-37.pyc\n",
            "byte-compiling build/bdist.linux-x86_64/egg/deep_disfluency/feature_extraction/word_alignment.py to word_alignment.cpython-37.pyc\n",
            "byte-compiling build/bdist.linux-x86_64/egg/deep_disfluency/feature_extraction/feature_utils.py to feature_utils.cpython-37.pyc\n",
            "byte-compiling build/bdist.linux-x86_64/egg/deep_disfluency/feature_extraction/crf_pos_tagger_example.py to crf_pos_tagger_example.cpython-37.pyc\n",
            "byte-compiling build/bdist.linux-x86_64/egg/deep_disfluency/feature_extraction/extract_features.py to extract_features.cpython-37.pyc\n",
            "byte-compiling build/bdist.linux-x86_64/egg/deep_disfluency/feature_extraction/convert_asr_results_to_increco.py to convert_asr_results_to_increco.cpython-37.pyc\n",
            "byte-compiling build/bdist.linux-x86_64/egg/deep_disfluency/asr/ibm_watson.py to ibm_watson.cpython-37.pyc\n",
            "byte-compiling build/bdist.linux-x86_64/egg/deep_disfluency/asr/__init__.py to __init__.cpython-37.pyc\n",
            "byte-compiling build/bdist.linux-x86_64/egg/deep_disfluency/corpus/selfrepair_annotation.py to selfrepair_annotation.cpython-37.pyc\n",
            "byte-compiling build/bdist.linux-x86_64/egg/deep_disfluency/corpus/util.py to util.cpython-37.pyc\n",
            "byte-compiling build/bdist.linux-x86_64/egg/deep_disfluency/corpus/BNC_swda_POS_converter.py to BNC_swda_POS_converter.cpython-37.pyc\n",
            "byte-compiling build/bdist.linux-x86_64/egg/deep_disfluency/corpus/tree_pos_map.py to tree_pos_map.cpython-37.pyc\n",
            "byte-compiling build/bdist.linux-x86_64/egg/deep_disfluency/corpus/create_folds.py to create_folds.cpython-37.pyc\n",
            "byte-compiling build/bdist.linux-x86_64/egg/deep_disfluency/corpus/__init__.py to __init__.cpython-37.pyc\n",
            "byte-compiling build/bdist.linux-x86_64/egg/deep_disfluency/corpus/repair.py to repair.cpython-37.pyc\n",
            "byte-compiling build/bdist.linux-x86_64/egg/deep_disfluency/corpus/spelling_dictionary.py to spelling_dictionary.cpython-37.pyc\n",
            "byte-compiling build/bdist.linux-x86_64/egg/deep_disfluency/corpus/BNC_create_corpus.py to BNC_create_corpus.cpython-37.pyc\n",
            "byte-compiling build/bdist.linux-x86_64/egg/deep_disfluency/corpus/tree_pos_map_writer.py to tree_pos_map_writer.cpython-37.pyc\n",
            "byte-compiling build/bdist.linux-x86_64/egg/deep_disfluency/corpus/load.py to load.cpython-37.pyc\n",
            "byte-compiling build/bdist.linux-x86_64/egg/deep_disfluency/corpus/textgrids_to_disf_tags_corpus_converter.py to textgrids_to_disf_tags_corpus_converter.cpython-37.pyc\n",
            "byte-compiling build/bdist.linux-x86_64/egg/deep_disfluency/corpus/disfluency_corpus_creator.py to disfluency_corpus_creator.cpython-37.pyc\n",
            "byte-compiling build/bdist.linux-x86_64/egg/deep_disfluency/corpus/corpus_util.py to corpus_util.cpython-37.pyc\n",
            "byte-compiling build/bdist.linux-x86_64/egg/deep_disfluency/corpus/create_fake_timing_corpus.py to create_fake_timing_corpus.cpython-37.pyc\n",
            "byte-compiling build/bdist.linux-x86_64/egg/deep_disfluency/corpus/swda.py to swda.cpython-37.pyc\n",
            "creating build/bdist.linux-x86_64/egg/EGG-INFO\n",
            "copying deep_disfluency.egg-info/PKG-INFO -> build/bdist.linux-x86_64/egg/EGG-INFO\n",
            "copying deep_disfluency.egg-info/SOURCES.txt -> build/bdist.linux-x86_64/egg/EGG-INFO\n",
            "copying deep_disfluency.egg-info/dependency_links.txt -> build/bdist.linux-x86_64/egg/EGG-INFO\n",
            "copying deep_disfluency.egg-info/requires.txt -> build/bdist.linux-x86_64/egg/EGG-INFO\n",
            "copying deep_disfluency.egg-info/top_level.txt -> build/bdist.linux-x86_64/egg/EGG-INFO\n",
            "zip_safe flag not set; analyzing archive contents...\n",
            "deep_disfluency.corpus.__pycache__.disfluency_corpus_creator.cpython-37: module references __file__\n",
            "deep_disfluency.decoder.__pycache__.hmm.cpython-37: module references __file__\n",
            "deep_disfluency.decoder.__pycache__.noisy_channel.cpython-37: module references __file__\n",
            "deep_disfluency.experiments.__pycache__.EACL_2017.cpython-37: module references __file__\n",
            "deep_disfluency.experiments.__pycache__.InterSpeech_2015.cpython-37: module references __file__\n",
            "deep_disfluency.feature_extraction.__pycache__.POS_tagging.cpython-37: module references __file__\n",
            "deep_disfluency.feature_extraction.__pycache__.extract_features.cpython-37: module references __file__\n",
            "deep_disfluency.load.__pycache__.load.cpython-37: module references __file__\n",
            "deep_disfluency.tagger.__pycache__.deep_tagger.cpython-37: module references __file__\n",
            "creating dist\n",
            "creating 'dist/deep_disfluency-0.0.1-py3.7.egg' and adding 'build/bdist.linux-x86_64/egg' to it\n",
            "removing 'build/bdist.linux-x86_64/egg' (and everything under it)\n",
            "Processing deep_disfluency-0.0.1-py3.7.egg\n",
            "creating /usr/local/lib/python3.7/dist-packages/deep_disfluency-0.0.1-py3.7.egg\n",
            "Extracting deep_disfluency-0.0.1-py3.7.egg to /usr/local/lib/python3.7/dist-packages\n",
            "Adding deep-disfluency 0.0.1 to easy-install.pth file\n",
            "\n",
            "Installed /usr/local/lib/python3.7/dist-packages/deep_disfluency-0.0.1-py3.7.egg\n",
            "Processing dependencies for deep-disfluency==0.0.1\n",
            "Searching for watson-streaming\n",
            "Reading https://pypi.org/simple/watson-streaming/\n",
            "Downloading https://files.pythonhosted.org/packages/b8/a2/b5607c2dd9b800117379064f7920c28e2dec9859b3bb2af8b808c0b97251/watson_streaming-0.0.13-py2.py3-none-any.whl#sha256=2cd71827b1408e384caf380e625996ff2333f55b34c93b3ef4fade8485406b79\n",
            "Best match: watson-streaming 0.0.13\n",
            "Processing watson_streaming-0.0.13-py2.py3-none-any.whl\n",
            "Installing watson_streaming-0.0.13-py2.py3-none-any.whl to /usr/local/lib/python3.7/dist-packages\n",
            "Adding watson-streaming 0.0.13 to easy-install.pth file\n",
            "\n",
            "Installed /usr/local/lib/python3.7/dist-packages/watson_streaming-0.0.13-py3.7.egg\n",
            "Searching for fluteline\n",
            "Reading https://pypi.org/simple/fluteline/\n",
            "Downloading https://files.pythonhosted.org/packages/b2/2f/60534401e5230be92c7fb7e3dbc008a1d65944af1c3fd2b787e41c19c1a8/fluteline-0.0.8-py3-none-any.whl#sha256=1f7c9a5ebf1ffc36411591bb7e108fe04789c9929850f6ecab385fb166c0e31f\n",
            "Best match: fluteline 0.0.8\n",
            "Processing fluteline-0.0.8-py3-none-any.whl\n",
            "Installing fluteline-0.0.8-py3-none-any.whl to /usr/local/lib/python3.7/dist-packages\n",
            "Adding fluteline 0.0.8 to easy-install.pth file\n",
            "\n",
            "Installed /usr/local/lib/python3.7/dist-packages/fluteline-0.0.8-py3.7.egg\n",
            "Searching for python-crfsuite\n",
            "Reading https://pypi.org/simple/python-crfsuite/\n",
            "Downloading https://files.pythonhosted.org/packages/16/c0/e61ec91560d34518a4986a29898f15248a226e7bf201ade882f5fda8f7c1/python_crfsuite-0.9.8-cp37-cp37m-manylinux_2_17_x86_64.manylinux2014_x86_64.whl#sha256=c79688357ef67efbac619048d69abf61eba4c316423ef20d4d2174afcd7e705d\n",
            "Best match: python-crfsuite 0.9.8\n",
            "Processing python_crfsuite-0.9.8-cp37-cp37m-manylinux_2_17_x86_64.manylinux2014_x86_64.whl\n",
            "Installing python_crfsuite-0.9.8-cp37-cp37m-manylinux_2_17_x86_64.manylinux2014_x86_64.whl to /usr/local/lib/python3.7/dist-packages\n",
            "Adding python-crfsuite 0.9.8 to easy-install.pth file\n",
            "\n",
            "Installed /usr/local/lib/python3.7/dist-packages/python_crfsuite-0.9.8-py3.7-linux-x86_64.egg\n",
            "Searching for theano\n",
            "Reading https://pypi.org/simple/theano/\n",
            "Downloading https://files.pythonhosted.org/packages/6b/97/bcd5654ba60f35f180931afabbd3b4c46c0379852f961c7a2819ff897f5d/Theano-1.0.5.tar.gz#sha256=6e9439dd53ba995fcae27bf20626074bfc2fff446899dc5c53cb28c1f9202e89\n",
            "Best match: Theano 1.0.5\n",
            "Processing Theano-1.0.5.tar.gz\n",
            "Writing /tmp/easy_install-erysrssq/Theano-1.0.5/setup.cfg\n",
            "Running Theano-1.0.5/setup.py -q bdist_egg --dist-dir /tmp/easy_install-erysrssq/Theano-1.0.5/egg-dist-tmp-nf9hkp5j\n",
            "warning: no files found matching '*.cpp' anywhere in distribution\n",
            "warning: manifest_maker: MANIFEST.in, line 9: 'recursive-include' expects <dir> <pattern1> <pattern2> ...\n",
            "\n",
            "no previously-included directories found matching '.jenkins'\n",
            "no previously-included directories found matching '.travis'\n",
            "UPDATING build/lib/theano/_version.py\n",
            "set build/lib/theano/_version.py to '1.0.5'\n",
            "zip_safe flag not set; analyzing archive contents...\n",
            "bin.__pycache__.theano_nose.cpython-37: module references __file__\n",
            "bin.__pycache__.theano_nose.cpython-37: module references __path__\n",
            "theano.__pycache__.__init__.cpython-37: module references __path__\n",
            "theano.compile.__pycache__.function.cpython-37: module references __file__\n",
            "theano.d3viz.__pycache__.d3viz.cpython-37: module references __file__\n",
            "theano.d3viz.__pycache__.d3viz.cpython-37: module references __path__\n",
            "theano.gof.__pycache__.cmodule.cpython-37: module references __file__\n",
            "theano.gof.__pycache__.lazylinker_c.cpython-37: module references __path__\n",
            "theano.gof.__pycache__.opt.cpython-37: module MAY be using inspect.trace\n",
            "theano.gof.__pycache__.toolbox.cpython-37: module MAY be using inspect.getframeinfo\n",
            "theano.gof.tests.__pycache__.test_fg.cpython-37: module references __file__\n",
            "theano.gof.tests.__pycache__.test_types.cpython-37: module references __file__\n",
            "theano.gpuarray.__pycache__.basic_ops.cpython-37: module references __file__\n",
            "theano.gpuarray.__pycache__.sort.cpython-37: module references __file__\n",
            "theano.gpuarray.tests.__pycache__.check_dnn_conv.cpython-37: module references __file__\n",
            "theano.gpuarray.tests.__pycache__.test_multinomial.cpython-37: module references __file__\n",
            "theano.gpuarray.tests.__pycache__.test_pickle.cpython-37: module references __file__\n",
            "theano.gpuarray.tests.__pycache__.test_type.cpython-37: module references __file__\n",
            "theano.misc.__pycache__.check_blas.cpython-37: module references __file__\n",
            "theano.misc.__pycache__.elemwise_openmp_speedup.cpython-37: module references __file__\n",
            "theano.sandbox.tests.__pycache__.test_multinomial.cpython-37: module references __file__\n",
            "theano.sandbox.tests.__pycache__.test_multinomial_wo_replacement.cpython-37: module references __file__\n",
            "theano.sandbox.tests.__pycache__.test_rng_mrg.cpython-37: module references __file__\n",
            "theano.scalar.__pycache__.basic_scipy.cpython-37: module references __file__\n",
            "theano.scan_module.__pycache__.scan_perform_ext.cpython-37: module references __path__\n",
            "theano.tensor.__pycache__.blas_headers.cpython-37: module references __file__\n",
            "theano.tensor.nnet.__pycache__.corr.cpython-37: module references __file__\n",
            "theano.tensor.nnet.__pycache__.corr3d.cpython-37: module references __file__\n",
            "theano.tensor.nnet.__pycache__.ctc.cpython-37: module references __file__\n",
            "theano.tensor.nnet.__pycache__.sigm.cpython-37: module references __file__\n",
            "theano.tensor.signal.tests.__pycache__.test_pool.cpython-37: module references __file__\n",
            "theano.tensor.tests.__pycache__.test_mpi.cpython-37: module references __file__\n",
            "theano.tests.__pycache__.main.cpython-37: module references __file__\n",
            "theano.tests.__pycache__.run_tests_in_batch.cpython-37: module references __path__\n",
            "theano.tests.__pycache__.test_flake8.cpython-37: module references __path__\n",
            "creating /usr/local/lib/python3.7/dist-packages/Theano-1.0.5-py3.7.egg\n",
            "Extracting Theano-1.0.5-py3.7.egg to /usr/local/lib/python3.7/dist-packages\n",
            "Adding Theano 1.0.5 to easy-install.pth file\n",
            "Installing theano-cache script to /usr/local/bin\n",
            "Installing theano-nose script to /usr/local/bin\n",
            "\n",
            "Installed /usr/local/lib/python3.7/dist-packages/Theano-1.0.5-py3.7.egg\n",
            "Searching for websocket-client\n",
            "Reading https://pypi.org/simple/websocket-client/\n",
            "Downloading https://files.pythonhosted.org/packages/a1/9e/8ddb04ef21ea3dfe3924b884dc11fa785df662af23e049ec2d62eaba707d/websocket_client-1.3.2-py3-none-any.whl#sha256=722b171be00f2b90e1d4fb2f2b53146a536ca38db1da8ff49c972a4e1365d0ef\n",
            "Best match: websocket-client 1.3.2\n",
            "Processing websocket_client-1.3.2-py3-none-any.whl\n",
            "Installing websocket_client-1.3.2-py3-none-any.whl to /usr/local/lib/python3.7/dist-packages\n",
            "Adding websocket-client 1.3.2 to easy-install.pth file\n",
            "Installing wsdump script to /usr/local/bin\n",
            "\n",
            "Installed /usr/local/lib/python3.7/dist-packages/websocket_client-1.3.2-py3.7.egg\n",
            "Searching for sounddevice\n",
            "Reading https://pypi.org/simple/sounddevice/\n",
            "Downloading https://files.pythonhosted.org/packages/39/ab/cd0a540cf21c6af09fa4439fc2f85a42e85f251b18de8c7fa9f8eb7fca0b/sounddevice-0.4.4-py3-none-any.whl#sha256=66bb36220f6cf280d5f8937c68568a0181690c47e49c5081fa060e25a6daf875\n",
            "Best match: sounddevice 0.4.4\n",
            "Processing sounddevice-0.4.4-py3-none-any.whl\n",
            "Installing sounddevice-0.4.4-py3-none-any.whl to /usr/local/lib/python3.7/dist-packages\n",
            "Adding sounddevice 0.4.4 to easy-install.pth file\n",
            "\n",
            "Installed /usr/local/lib/python3.7/dist-packages/sounddevice-0.4.4-py3.7.egg\n",
            "Searching for nltk==3.2.5\n",
            "Best match: nltk 3.2.5\n",
            "Adding nltk 3.2.5 to easy-install.pth file\n",
            "\n",
            "Using /usr/local/lib/python3.7/dist-packages\n",
            "Searching for gensim==3.6.0\n",
            "Best match: gensim 3.6.0\n",
            "Adding gensim 3.6.0 to easy-install.pth file\n",
            "\n",
            "Using /usr/local/lib/python3.7/dist-packages\n",
            "Searching for scikit-learn==1.0.2\n",
            "Best match: scikit-learn 1.0.2\n",
            "Adding scikit-learn 1.0.2 to easy-install.pth file\n",
            "\n",
            "Using /usr/local/lib/python3.7/dist-packages\n",
            "Searching for pandas==1.3.5\n",
            "Best match: pandas 1.3.5\n",
            "Adding pandas 1.3.5 to easy-install.pth file\n",
            "\n",
            "Using /usr/local/lib/python3.7/dist-packages\n",
            "Searching for scipy==1.4.1\n",
            "Best match: scipy 1.4.1\n",
            "Adding scipy 1.4.1 to easy-install.pth file\n",
            "\n",
            "Using /usr/local/lib/python3.7/dist-packages\n",
            "Searching for numpy==1.21.6\n",
            "Best match: numpy 1.21.6\n",
            "Adding numpy 1.21.6 to easy-install.pth file\n",
            "Installing f2py script to /usr/local/bin\n",
            "Installing f2py3 script to /usr/local/bin\n",
            "Installing f2py3.7 script to /usr/local/bin\n",
            "\n",
            "Using /usr/local/lib/python3.7/dist-packages\n",
            "Searching for requests==2.23.0\n",
            "Best match: requests 2.23.0\n",
            "Adding requests 2.23.0 to easy-install.pth file\n",
            "\n",
            "Using /usr/local/lib/python3.7/dist-packages\n",
            "Searching for six==1.15.0\n",
            "Best match: six 1.15.0\n",
            "Adding six 1.15.0 to easy-install.pth file\n",
            "\n",
            "Using /usr/local/lib/python3.7/dist-packages\n",
            "Searching for smart-open==6.0.0\n",
            "Best match: smart-open 6.0.0\n",
            "Adding smart-open 6.0.0 to easy-install.pth file\n",
            "\n",
            "Using /usr/local/lib/python3.7/dist-packages\n",
            "Searching for joblib==1.1.0\n",
            "Best match: joblib 1.1.0\n",
            "Adding joblib 1.1.0 to easy-install.pth file\n",
            "\n",
            "Using /usr/local/lib/python3.7/dist-packages\n",
            "Searching for threadpoolctl==3.1.0\n",
            "Best match: threadpoolctl 3.1.0\n",
            "Adding threadpoolctl 3.1.0 to easy-install.pth file\n",
            "\n",
            "Using /usr/local/lib/python3.7/dist-packages\n",
            "Searching for pytz==2022.1\n",
            "Best match: pytz 2022.1\n",
            "Adding pytz 2022.1 to easy-install.pth file\n",
            "\n",
            "Using /usr/local/lib/python3.7/dist-packages\n",
            "Searching for python-dateutil==2.8.2\n",
            "Best match: python-dateutil 2.8.2\n",
            "Adding python-dateutil 2.8.2 to easy-install.pth file\n",
            "\n",
            "Using /usr/local/lib/python3.7/dist-packages\n",
            "Searching for cffi==1.15.0\n",
            "Best match: cffi 1.15.0\n",
            "Adding cffi 1.15.0 to easy-install.pth file\n",
            "\n",
            "Using /usr/local/lib/python3.7/dist-packages\n",
            "Searching for idna==2.10\n",
            "Best match: idna 2.10\n",
            "Adding idna 2.10 to easy-install.pth file\n",
            "\n",
            "Using /usr/local/lib/python3.7/dist-packages\n",
            "Searching for urllib3==1.25.11\n",
            "Best match: urllib3 1.25.11\n",
            "Adding urllib3 1.25.11 to easy-install.pth file\n",
            "\n",
            "Using /usr/local/lib/python3.7/dist-packages\n",
            "Searching for chardet==3.0.4\n",
            "Best match: chardet 3.0.4\n",
            "Adding chardet 3.0.4 to easy-install.pth file\n",
            "Installing chardetect script to /usr/local/bin\n",
            "\n",
            "Using /usr/local/lib/python3.7/dist-packages\n",
            "Searching for certifi==2022.5.18.1\n",
            "Best match: certifi 2022.5.18.1\n",
            "Adding certifi 2022.5.18.1 to easy-install.pth file\n",
            "\n",
            "Using /usr/local/lib/python3.7/dist-packages\n",
            "Searching for pycparser==2.21\n",
            "Best match: pycparser 2.21\n",
            "Adding pycparser 2.21 to easy-install.pth file\n",
            "\n",
            "Using /usr/local/lib/python3.7/dist-packages\n",
            "Finished processing dependencies for deep-disfluency==0.0.1\n"
          ]
        }
      ]
    },
    {
      "cell_type": "code",
      "source": [
        "from deep_disfluency.tagger.deep_tagger import DeepDisfluencyTagger"
      ],
      "metadata": {
        "id": "_Urcl5alY9TV"
      },
      "execution_count": null,
      "outputs": []
    },
    {
      "cell_type": "code",
      "source": [
        "%cd /\n",
        "%cp -r '/content/drive/MyDrive/Colab Notebooks/huggingface' '/root/.cache/'"
      ],
      "metadata": {
        "colab": {
          "base_uri": "https://localhost:8080/"
        },
        "id": "2hJr6Om7ueEA",
        "outputId": "5f5cec7d-21f0-46b0-b7b2-b2135b52564f"
      },
      "execution_count": null,
      "outputs": [
        {
          "output_type": "stream",
          "name": "stdout",
          "text": [
            "/\n"
          ]
        }
      ]
    },
    {
      "cell_type": "code",
      "source": [
        "audio_folder_path = '/content/drive/MyDrive/en-de/data/train/wav/'"
      ],
      "metadata": {
        "id": "ti2_-E3wijgD"
      },
      "execution_count": null,
      "outputs": []
    },
    {
      "cell_type": "code",
      "source": [
        "import torch\n",
        "import torch.nn as nn\n",
        "from transformers import AutoTokenizer, AutoModelForMaskedLM, Wav2Vec2Model, Wav2Vec2Processor, Wav2Vec2ForCTC, AutoModelForSeq2SeqLM\n",
        "from torch import argmax\n",
        "from torch import stack, cat, no_grad\n",
        "import torch.optim as optim \n",
        "\n",
        "import pandas as pd\n",
        "from datasets import Dataset\n",
        "import numpy as np\n",
        "from math import ceil\n",
        "import torchaudio\n",
        "import torch.nn.functional as F\n",
        "from torchmetrics import SacreBLEUScore\n",
        "# from sacrebleu.metrics import BLEU\n",
        "import re\n",
        "import yaml"
      ],
      "metadata": {
        "id": "MBfXyiVEBnIE"
      },
      "execution_count": null,
      "outputs": []
    },
    {
      "cell_type": "code",
      "source": [
        "device = torch.device(\"cuda\" if torch.cuda.is_available() else \"cpu\")"
      ],
      "metadata": {
        "id": "V8G_2fzxB96Q"
      },
      "execution_count": null,
      "outputs": []
    },
    {
      "cell_type": "markdown",
      "source": [
        "# Dataset"
      ],
      "metadata": {
        "id": "GoDulSxMYHUz"
      }
    },
    {
      "cell_type": "markdown",
      "source": [
        "## Utility functions"
      ],
      "metadata": {
        "id": "SaDxuloYZtdC"
      }
    },
    {
      "cell_type": "code",
      "source": [
        "def remove_special_characters(s):\n",
        "    chars_to_ignore_regex = '[\\,\\?\\.\\!\\-\\;\\:\\\"\\—]'\n",
        "    s = re.sub(chars_to_ignore_regex, '', s).lower()\n",
        "    s = re.sub(r'[0-9]+', '', s)\n",
        "    s = re.sub(' +', ' ', s)\n",
        "    return s\n",
        "\n",
        "def prepare_audio_batch(batch, device):\n",
        "  batch_audio = []\n",
        "  for i in range(len(batch['file'])):\n",
        "    data = {'file': batch['file'][i], \n",
        "              'start': batch['start'][i].item(),\n",
        "              'end': batch['end'][i].item(),\n",
        "              'raw_text': batch['raw_text'][i],\n",
        "              'text': batch['text'][i],\n",
        "            }\n",
        "    audio_segment = getAudioSegment(data, audio_folder_path)\n",
        "    batch_audio.append(audio_segment)\n",
        "  return batch_audio\n",
        "\n",
        "def getAudioSegment(data, parent_path):\n",
        "    path = parent_path + data['file']\n",
        "    audio_tensor, rate = torchaudio.load(path)\n",
        "    audio = audio_tensor.numpy().transpose().flatten()\n",
        "    # audio = torch.FloatTensor(audio[data['start']:data['end']])\n",
        "    audio = audio[data['start']:data['end']]\n",
        "    del audio_tensor, path\n",
        "    return audio\n",
        "\n",
        "def read_yaml(path):\n",
        "  yaml_file = None\n",
        "  with open(path, \"r\") as stream:\n",
        "      try:\n",
        "          yaml_file = yaml.safe_load(stream)\n",
        "      except yaml.YAMLError as exc:\n",
        "          print(exc)\n",
        "  return yaml_file"
      ],
      "metadata": {
        "id": "7fbkcFEYZyZt"
      },
      "execution_count": null,
      "outputs": []
    },
    {
      "cell_type": "markdown",
      "source": [
        "## Loading data"
      ],
      "metadata": {
        "id": "V5aF0sNaZwk1"
      }
    },
    {
      "cell_type": "markdown",
      "source": [
        "Input data"
      ],
      "metadata": {
        "id": "vW5SNNzAfMK_"
      }
    },
    {
      "cell_type": "code",
      "source": [
        "path = \"/content/drive/MyDrive/en-de/data/train/txt/train.yaml\"\n",
        "yaml_file = read_yaml(path)\n",
        "en_file = open(\"/content/drive/MyDrive/en-de/data/train/txt/train.en\", \"r\")\n",
        "de_file = open(\"/content/drive/MyDrive/en-de/data/train/txt/train.de\", \"r\")\n",
        "\n",
        "current_wav = \"\"\n",
        "audio, rate = None, 16000\n",
        "train_data_list = []\n",
        "\n",
        "cnt = -1\n",
        "for line_props in yaml_file:\n",
        "  english_text = en_file.readline()[:-2]\n",
        "  deutsch_text = de_file.readline()[:-2]\n",
        "  cnt += 1\n",
        "\n",
        "  entry_dict = {}\n",
        "  if line_props['wav'] != current_wav:\n",
        "    current_wav = line_props['wav']\n",
        "  \n",
        "  punctuated_text = english_text\n",
        "  reference = remove_special_characters(punctuated_text)\n",
        "  if(len(reference.split(' ')) < 6):\n",
        "      continue\n",
        "\n",
        "  offset = line_props['offset']\n",
        "  duration = line_props['duration']\n",
        "  start = int(offset*rate)\n",
        "  end = int( ceil( (offset*rate)+(duration*rate) ))\n",
        "\n",
        "  entry_dict['file'] = current_wav\n",
        "  entry_dict['start'] = start\n",
        "  entry_dict['end'] = end\n",
        "  entry_dict['raw_text'] = punctuated_text\n",
        "  entry_dict['text'] = reference\n",
        "  entry_dict['german'] = deutsch_text\n",
        "  train_data_list.append(entry_dict)"
      ],
      "metadata": {
        "id": "Xd5RQOybiRk5"
      },
      "execution_count": null,
      "outputs": []
    },
    {
      "cell_type": "code",
      "source": [
        "# df_all = pd.DataFrame(train_data_list)\n",
        "# df_all.to_csv('/content/drive/MyDrive/en-de/all_chosen_data_eval_en-de.csv')\n",
        "# train_data_list = None\n",
        "\n",
        "df_all = pd.read_csv('/content/drive/MyDrive/en-de/all_chosen_data_eval_en-de.csv')\n",
        "df_all.drop(axis=1, columns = [df_all.columns[0]], inplace=True)\n",
        "df_all.head() "
      ],
      "metadata": {
        "colab": {
          "base_uri": "https://localhost:8080/",
          "height": 206
        },
        "id": "1hkrG36iYIaG",
        "outputId": "c41073c1-7e2c-4990-a603-e5385098702b"
      },
      "execution_count": null,
      "outputs": [
        {
          "output_type": "execute_result",
          "data": {
            "text/plain": [
              "        file    start      end  \\\n",
              "0  ted_1.wav    98720   559520   \n",
              "1  ted_1.wav   560160   779200   \n",
              "2  ted_1.wav   779200  1146400   \n",
              "3  ted_1.wav  1161600  1227520   \n",
              "4  ted_1.wav  1235520  1363840   \n",
              "\n",
              "                                            raw_text  \\\n",
              "0  And it's truly a great honor to have the oppor...   \n",
              "1  And I say that sincerely, partly because (Mock...   \n",
              "2  Now I have to take off my shoes or boots to ge...   \n",
              "3  I'll tell you one quick story to illustrate wh...   \n",
              "4  It's a true story — every bit of this is true....   \n",
              "\n",
              "                                                text  \\\n",
              "0  and it's truly a great honor to have the oppor...   \n",
              "1  and i say that sincerely partly because (mock ...   \n",
              "2  now i have to take off my shoes or boots to ge...   \n",
              "3  i'll tell you one quick story to illustrate wh...   \n",
              "4  it's a true story every bit of this is true so...   \n",
              "\n",
              "                                              german  \n",
              "0  Vielen Dank, Chris. Es ist mir wirklich eine E...  \n",
              "1  Das meine ich ernst, teilweise deshalb — weil ...  \n",
              "2  Jetzt muss ich meine Schuhe ausziehen, um über...  \n",
              "3  Ich erzähle Ihnen mal eine Geschichte, dann ve...  \n",
              "4  Eine wahre Geschichte — kein Wort daran ist er...  "
            ],
            "text/html": [
              "\n",
              "  <div id=\"df-f87d9808-ea1b-4881-beb2-fae72f0ece97\">\n",
              "    <div class=\"colab-df-container\">\n",
              "      <div>\n",
              "<style scoped>\n",
              "    .dataframe tbody tr th:only-of-type {\n",
              "        vertical-align: middle;\n",
              "    }\n",
              "\n",
              "    .dataframe tbody tr th {\n",
              "        vertical-align: top;\n",
              "    }\n",
              "\n",
              "    .dataframe thead th {\n",
              "        text-align: right;\n",
              "    }\n",
              "</style>\n",
              "<table border=\"1\" class=\"dataframe\">\n",
              "  <thead>\n",
              "    <tr style=\"text-align: right;\">\n",
              "      <th></th>\n",
              "      <th>file</th>\n",
              "      <th>start</th>\n",
              "      <th>end</th>\n",
              "      <th>raw_text</th>\n",
              "      <th>text</th>\n",
              "      <th>german</th>\n",
              "    </tr>\n",
              "  </thead>\n",
              "  <tbody>\n",
              "    <tr>\n",
              "      <th>0</th>\n",
              "      <td>ted_1.wav</td>\n",
              "      <td>98720</td>\n",
              "      <td>559520</td>\n",
              "      <td>And it's truly a great honor to have the oppor...</td>\n",
              "      <td>and it's truly a great honor to have the oppor...</td>\n",
              "      <td>Vielen Dank, Chris. Es ist mir wirklich eine E...</td>\n",
              "    </tr>\n",
              "    <tr>\n",
              "      <th>1</th>\n",
              "      <td>ted_1.wav</td>\n",
              "      <td>560160</td>\n",
              "      <td>779200</td>\n",
              "      <td>And I say that sincerely, partly because (Mock...</td>\n",
              "      <td>and i say that sincerely partly because (mock ...</td>\n",
              "      <td>Das meine ich ernst, teilweise deshalb — weil ...</td>\n",
              "    </tr>\n",
              "    <tr>\n",
              "      <th>2</th>\n",
              "      <td>ted_1.wav</td>\n",
              "      <td>779200</td>\n",
              "      <td>1146400</td>\n",
              "      <td>Now I have to take off my shoes or boots to ge...</td>\n",
              "      <td>now i have to take off my shoes or boots to ge...</td>\n",
              "      <td>Jetzt muss ich meine Schuhe ausziehen, um über...</td>\n",
              "    </tr>\n",
              "    <tr>\n",
              "      <th>3</th>\n",
              "      <td>ted_1.wav</td>\n",
              "      <td>1161600</td>\n",
              "      <td>1227520</td>\n",
              "      <td>I'll tell you one quick story to illustrate wh...</td>\n",
              "      <td>i'll tell you one quick story to illustrate wh...</td>\n",
              "      <td>Ich erzähle Ihnen mal eine Geschichte, dann ve...</td>\n",
              "    </tr>\n",
              "    <tr>\n",
              "      <th>4</th>\n",
              "      <td>ted_1.wav</td>\n",
              "      <td>1235520</td>\n",
              "      <td>1363840</td>\n",
              "      <td>It's a true story — every bit of this is true....</td>\n",
              "      <td>it's a true story every bit of this is true so...</td>\n",
              "      <td>Eine wahre Geschichte — kein Wort daran ist er...</td>\n",
              "    </tr>\n",
              "  </tbody>\n",
              "</table>\n",
              "</div>\n",
              "      <button class=\"colab-df-convert\" onclick=\"convertToInteractive('df-f87d9808-ea1b-4881-beb2-fae72f0ece97')\"\n",
              "              title=\"Convert this dataframe to an interactive table.\"\n",
              "              style=\"display:none;\">\n",
              "        \n",
              "  <svg xmlns=\"http://www.w3.org/2000/svg\" height=\"24px\"viewBox=\"0 0 24 24\"\n",
              "       width=\"24px\">\n",
              "    <path d=\"M0 0h24v24H0V0z\" fill=\"none\"/>\n",
              "    <path d=\"M18.56 5.44l.94 2.06.94-2.06 2.06-.94-2.06-.94-.94-2.06-.94 2.06-2.06.94zm-11 1L8.5 8.5l.94-2.06 2.06-.94-2.06-.94L8.5 2.5l-.94 2.06-2.06.94zm10 10l.94 2.06.94-2.06 2.06-.94-2.06-.94-.94-2.06-.94 2.06-2.06.94z\"/><path d=\"M17.41 7.96l-1.37-1.37c-.4-.4-.92-.59-1.43-.59-.52 0-1.04.2-1.43.59L10.3 9.45l-7.72 7.72c-.78.78-.78 2.05 0 2.83L4 21.41c.39.39.9.59 1.41.59.51 0 1.02-.2 1.41-.59l7.78-7.78 2.81-2.81c.8-.78.8-2.07 0-2.86zM5.41 20L4 18.59l7.72-7.72 1.47 1.35L5.41 20z\"/>\n",
              "  </svg>\n",
              "      </button>\n",
              "      \n",
              "  <style>\n",
              "    .colab-df-container {\n",
              "      display:flex;\n",
              "      flex-wrap:wrap;\n",
              "      gap: 12px;\n",
              "    }\n",
              "\n",
              "    .colab-df-convert {\n",
              "      background-color: #E8F0FE;\n",
              "      border: none;\n",
              "      border-radius: 50%;\n",
              "      cursor: pointer;\n",
              "      display: none;\n",
              "      fill: #1967D2;\n",
              "      height: 32px;\n",
              "      padding: 0 0 0 0;\n",
              "      width: 32px;\n",
              "    }\n",
              "\n",
              "    .colab-df-convert:hover {\n",
              "      background-color: #E2EBFA;\n",
              "      box-shadow: 0px 1px 2px rgba(60, 64, 67, 0.3), 0px 1px 3px 1px rgba(60, 64, 67, 0.15);\n",
              "      fill: #174EA6;\n",
              "    }\n",
              "\n",
              "    [theme=dark] .colab-df-convert {\n",
              "      background-color: #3B4455;\n",
              "      fill: #D2E3FC;\n",
              "    }\n",
              "\n",
              "    [theme=dark] .colab-df-convert:hover {\n",
              "      background-color: #434B5C;\n",
              "      box-shadow: 0px 1px 3px 1px rgba(0, 0, 0, 0.15);\n",
              "      filter: drop-shadow(0px 1px 2px rgba(0, 0, 0, 0.3));\n",
              "      fill: #FFFFFF;\n",
              "    }\n",
              "  </style>\n",
              "\n",
              "      <script>\n",
              "        const buttonEl =\n",
              "          document.querySelector('#df-f87d9808-ea1b-4881-beb2-fae72f0ece97 button.colab-df-convert');\n",
              "        buttonEl.style.display =\n",
              "          google.colab.kernel.accessAllowed ? 'block' : 'none';\n",
              "\n",
              "        async function convertToInteractive(key) {\n",
              "          const element = document.querySelector('#df-f87d9808-ea1b-4881-beb2-fae72f0ece97');\n",
              "          const dataTable =\n",
              "            await google.colab.kernel.invokeFunction('convertToInteractive',\n",
              "                                                     [key], {});\n",
              "          if (!dataTable) return;\n",
              "\n",
              "          const docLinkHtml = 'Like what you see? Visit the ' +\n",
              "            '<a target=\"_blank\" href=https://colab.research.google.com/notebooks/data_table.ipynb>data table notebook</a>'\n",
              "            + ' to learn more about interactive tables.';\n",
              "          element.innerHTML = '';\n",
              "          dataTable['output_type'] = 'display_data';\n",
              "          await google.colab.output.renderOutput(dataTable, element);\n",
              "          const docLink = document.createElement('div');\n",
              "          docLink.innerHTML = docLinkHtml;\n",
              "          element.appendChild(docLink);\n",
              "        }\n",
              "      </script>\n",
              "    </div>\n",
              "  </div>\n",
              "  "
            ]
          },
          "metadata": {},
          "execution_count": 7
        }
      ]
    },
    {
      "cell_type": "code",
      "source": [
        "# taking 3k sentences for evaluation\n",
        "df_eval = df_all[20000:25000]\n",
        "\n",
        "eval_dataset = Dataset.from_pandas(df_eval)\n",
        "eval_dataset = eval_dataset.shuffle(seed = 42)\n",
        "print(eval_dataset)"
      ],
      "metadata": {
        "colab": {
          "base_uri": "https://localhost:8080/"
        },
        "id": "779vkSiOYdyp",
        "outputId": "a57b1b81-0be7-45dc-d50e-bfe0cb90289a"
      },
      "execution_count": null,
      "outputs": [
        {
          "output_type": "stream",
          "name": "stdout",
          "text": [
            "Dataset({\n",
            "    features: ['file', 'start', 'end', 'raw_text', 'text', 'german'],\n",
            "    num_rows: 5000\n",
            "})\n"
          ]
        }
      ]
    },
    {
      "cell_type": "code",
      "source": [
        "import IPython.display as ipd\n",
        "import numpy as np\n",
        "import random\n",
        "\n",
        "rand_int = random.randint(0, len(eval_dataset))\n",
        "\n",
        "print(eval_dataset[rand_int][\"raw_text\"])\n",
        "print(eval_dataset[rand_int][\"german\"])\n",
        "\n",
        "rndm_audio = getAudioSegment(eval_dataset[rand_int], audio_folder_path)\n",
        "ipd.Audio(data=np.asarray(rndm_audio), autoplay=True, rate=16000)"
      ],
      "metadata": {
        "id": "IsSotIUUVNGi",
        "colab": {
          "base_uri": "https://localhost:8080/",
          "height": 96
        },
        "outputId": "39b48348-e500-4c99-cd28-b4b911af54e9"
      },
      "execution_count": null,
      "outputs": [
        {
          "output_type": "stream",
          "name": "stdout",
          "text": [
            "Just two weeks ago I made — you know, I've been making small, medium and big Klein bottles for the trade\n",
            "Gerade mal vor zwei Wochen habe ich — Wissen Sie, ich habe kleine, mittlere und große Kleinflaschen für die Ausstellung gemacht\n"
          ]
        },
        {
          "output_type": "execute_result",
          "data": {
            "text/plain": [
              "<IPython.lib.display.Audio object>"
            ],
            "text/html": [
              "\n",
              "                <audio controls=\"controls\" autoplay=\"autoplay\">\n",
              "                    <source src=\"data:audio/wav;base64,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\" type=\"audio/wav\" />\n",
              "                    Your browser does not support the audio element.\n",
              "                </audio>\n",
              "              "
            ]
          },
          "metadata": {},
          "execution_count": 9
        }
      ]
    },
    {
      "cell_type": "markdown",
      "source": [
        "## Calculating length of training subset"
      ],
      "metadata": {
        "id": "u_DtDZ6GlaWQ"
      }
    },
    {
      "cell_type": "code",
      "source": [
        "df_train = df_all[:15000]\n",
        "df_train['length'] = (df_train.end - df_train.start)/16000"
      ],
      "metadata": {
        "colab": {
          "base_uri": "https://localhost:8080/"
        },
        "id": "nsAv9HgileDS",
        "outputId": "37dadd9b-de98-4a08-8b34-05b2e943a2aa"
      },
      "execution_count": null,
      "outputs": [
        {
          "output_type": "stream",
          "name": "stderr",
          "text": [
            "/usr/local/lib/python3.7/dist-packages/ipykernel_launcher.py:2: SettingWithCopyWarning: \n",
            "A value is trying to be set on a copy of a slice from a DataFrame.\n",
            "Try using .loc[row_indexer,col_indexer] = value instead\n",
            "\n",
            "See the caveats in the documentation: https://pandas.pydata.org/pandas-docs/stable/user_guide/indexing.html#returning-a-view-versus-a-copy\n",
            "  \n"
          ]
        },
        {
          "output_type": "execute_result",
          "data": {
            "text/plain": [
              "99301.609125"
            ]
          },
          "metadata": {},
          "execution_count": 8
        }
      ]
    },
    {
      "cell_type": "code",
      "source": [
        "df_train.length.min()"
      ],
      "metadata": {
        "colab": {
          "base_uri": "https://localhost:8080/"
        },
        "id": "MOUoRdcAqtIc",
        "outputId": "3d1cb001-a862-4902-f096-6adaec9a8333"
      },
      "execution_count": null,
      "outputs": [
        {
          "output_type": "execute_result",
          "data": {
            "text/plain": [
              "0.05"
            ]
          },
          "metadata": {},
          "execution_count": 15
        }
      ]
    },
    {
      "cell_type": "code",
      "source": [
        "df_train.length.sum()/3600"
      ],
      "metadata": {
        "colab": {
          "base_uri": "https://localhost:8080/"
        },
        "id": "wLssptwMmQQp",
        "outputId": "a78d051a-3e18-4303-a18b-de1265735a8d"
      },
      "execution_count": null,
      "outputs": [
        {
          "output_type": "execute_result",
          "data": {
            "text/plain": [
              "27.5837803125"
            ]
          },
          "metadata": {},
          "execution_count": 9
        }
      ]
    },
    {
      "cell_type": "code",
      "source": [
        "df_eval = df_all[20000:25000]\n",
        "df_eval['length'] = (df_eval.end - df_eval.start)/16000\n",
        "df_eval.length.sum()/3600"
      ],
      "metadata": {
        "colab": {
          "base_uri": "https://localhost:8080/"
        },
        "id": "Ewym4Ml9mcnC",
        "outputId": "84ac62e7-d713-4009-e9f7-b7be45aed94b"
      },
      "execution_count": null,
      "outputs": [
        {
          "output_type": "stream",
          "name": "stderr",
          "text": [
            "/usr/local/lib/python3.7/dist-packages/ipykernel_launcher.py:2: SettingWithCopyWarning: \n",
            "A value is trying to be set on a copy of a slice from a DataFrame.\n",
            "Try using .loc[row_indexer,col_indexer] = value instead\n",
            "\n",
            "See the caveats in the documentation: https://pandas.pydata.org/pandas-docs/stable/user_guide/indexing.html#returning-a-view-versus-a-copy\n",
            "  \n"
          ]
        },
        {
          "output_type": "execute_result",
          "data": {
            "text/plain": [
              "9.69858293402778"
            ]
          },
          "metadata": {},
          "execution_count": 11
        }
      ]
    },
    {
      "cell_type": "markdown",
      "source": [
        "# Model"
      ],
      "metadata": {
        "id": "WAL-eiDNpgc_"
      }
    },
    {
      "cell_type": "code",
      "source": [
        "class LexicalEncoder(nn.Module):\n",
        "    def __init__(self, model_path):\n",
        "        super(LexicalEncoder, self).__init__()\n",
        "\n",
        "        self.tokenizer = AutoTokenizer.from_pretrained(model_path)\n",
        "        self.model = AutoModelForMaskedLM.from_pretrained(model_path)\n",
        "    \n",
        "    def forward(self, text):\n",
        "        if torch.cuda.is_available():\n",
        "          embedding = self.tokenizer(text, padding=True, truncation=True, return_tensors=\"pt\").to('cuda')\n",
        "        else:\n",
        "          embedding = self.tokenizer(text, padding=True, truncation=True, return_tensors=\"pt\")\n",
        "        embedding = self.model(**embedding, output_hidden_states=True)\n",
        "        return embedding.hidden_states[0]\n",
        "    \n",
        "    def freeze_all_layers(self):\n",
        "        for param in self.model.distilbert.parameters():\n",
        "            param.requires_grad = False\n",
        "    \n",
        "class AcousticEncoder(nn.Module):\n",
        "    def __init__(self, model_path) -> None:\n",
        "        super(AcousticEncoder, self).__init__()\n",
        "\n",
        "        self.processor = Wav2Vec2Processor.from_pretrained(model_path)\n",
        "        self.model = Wav2Vec2Model.from_pretrained(model_path)\n",
        "        self.conv_layer = nn.Conv1d(512,1024,5,stride=2)\n",
        "        self.lstm_layer = nn.LSTM(input_size= 1024, hidden_size=256, dropout=0.1, bidirectional=False)\n",
        "    \n",
        "    def forward(self, audio):\n",
        "        audio = [{\"input_values\": audio_seg} for audio_seg in audio]\n",
        "        audio = self.processor.pad(audio, padding=True, return_tensors=\"pt\").input_values\n",
        "        if torch.cuda.is_available():\n",
        "          acoustic_embedding = self.processor(audio, return_tensors=\"pt\", padding=True, \n",
        "                                 feature_size=1, sampling_rate=16000).to('cuda')\n",
        "        else:\n",
        "          acoustic_embedding = self.processor(audio, return_tensors=\"pt\", padding=True, \n",
        "                                 feature_size=1, sampling_rate=16000)\n",
        "        acoustic_embedding = self.model(acoustic_embedding.input_values[0], return_dict=True).extract_features\n",
        "        \n",
        "        # print('then passing it to conv + LSTM layers')\n",
        "        acoustic_embedding = acoustic_embedding.reshape([acoustic_embedding.shape[0], 512, acoustic_embedding.shape[-2]])\n",
        "        acoustic_embedding = self.conv_layer(acoustic_embedding)\n",
        "\n",
        "        acoustic_embedding = acoustic_embedding.reshape([acoustic_embedding.shape[0], acoustic_embedding.shape[-1], 1024])\n",
        "        acoustic_embedding, _ = self.lstm_layer(acoustic_embedding)\n",
        "        return acoustic_embedding\n",
        "\n",
        "class MUSE(nn.Module):\n",
        "    def __init__(self, lexical=None, acoustic=None, use_gpu=True) -> None:\n",
        "        super(MUSE, self).__init__()\n",
        "        \n",
        "        if lexical == None:\n",
        "            self.lexical_encoder = LexicalEncoder('distilbert-base-uncased').to(device)\n",
        "        else:\n",
        "            self.lexical_encoder = lexical\n",
        "\n",
        "        if acoustic == None:\n",
        "            self.acoustic_encoder = AcousticEncoder('facebook/wav2vec2-base-960h').to(device)\n",
        "        else:\n",
        "            self.acoustic_encoder = acoustic\n",
        "        \n",
        "        self.use_gpu = use_gpu\n",
        "        self.key_projection_layer = nn.Linear(256,768)\n",
        "        self.attention_layer = nn.MultiheadAttention(embed_dim = 256, num_heads = 1, dropout = 0.1)\n",
        "        self.linear_layer = nn.Linear(1024, 4)\n",
        "        self.softmax_layer = nn.Softmax(dim=2)\n",
        "    \n",
        "    def scaledDotAttention(self, query, key, value):\n",
        "        key = torch.transpose(key, -1, -2)\n",
        "        # print(key.shape)\n",
        "        temp = torch.matmul(query,key) / np.sqrt(key.shape[-1])\n",
        "        # print(temp.shape)\n",
        "        attn_softmax_layer = nn.Softmax(dim = -1)\n",
        "        temp = attn_softmax_layer(temp)\n",
        "        # print(temp.shape)\n",
        "        return torch.matmul(temp,value)\n",
        "\n",
        "    def forward(self, text, audio):\n",
        "        # print('getting lexical embedding of unpunctuated input text from pretrained lexical encoder')\n",
        "        # getting lexical embedding of unpunctuated input text from pretrained lexical encoder\n",
        "        lexical_embedding = self.lexical_encoder(text)\n",
        "\n",
        "        # print('getting acoustic embedding from pretrained acoustic encoder')\n",
        "        # getting acoustic embedding from pretrained acoustic encoder\n",
        "        acoustic_embedding = self.acoustic_encoder(audio)\n",
        "\n",
        "        # print('Get key, query and value from the embeddings')\n",
        "        # Get key, query and value from the embeddings\n",
        "        key = self.key_projection_layer(acoustic_embedding)\n",
        "        query = lexical_embedding\n",
        "        value = acoustic_embedding\n",
        "\n",
        "        # print(f'Key shape {key.shape}')\n",
        "        # print(f'query shape {query.shape}')\n",
        "        # print(f'value shape {value.shape}')\n",
        "\n",
        "        # print('pass key, query and value to attention')\n",
        "        # pass key, query and value to multihead attention module\n",
        "        attn_output = self.scaledDotAttention(query, key, value)\n",
        "\n",
        "        # print(f'attention shape {attn_output.shape}')\n",
        "        # print('concatenate attention result to lexical encoder, then pass it to linear + softmax layer')\n",
        "        # concatenate attention result to lexical encoder, then pass it to linear + softmax layer\n",
        "        concat_tensor = cat((attn_output, lexical_embedding), dim=2)\n",
        "        # print(f'concat shape {concat_tensor.shape}')\n",
        "\n",
        "        # freeing some memory \n",
        "        del attn_output\n",
        "        del lexical_embedding\n",
        "\n",
        "        # pass the concat tensor to the final linear + softmax layer\n",
        "        output_tensor = self.linear_layer(concat_tensor)\n",
        "        del concat_tensor\n",
        "        # don't do softmax, it's in the crossentropy\n",
        "        # output_tensor = self.softmax_layer(output_tensor)\n",
        "        \n",
        "        # reshape to get the following order [batch size, no. of classes, sequence len]\n",
        "        output_tensor = output_tensor.reshape([output_tensor.shape[0], output_tensor.shape[-1], output_tensor.shape[-2]])\n",
        "\n",
        "        return output_tensor\n",
        "\n",
        "    def decode(self, logits, text_batch):\n",
        "      punctuated_list = []\n",
        "      \n",
        "      for idx, text in enumerate(text_batch):\n",
        "        id = self.lexical_encoder.tokenizer(text).input_ids\n",
        "        subwords = self.lexical_encoder.tokenizer.convert_ids_to_tokens(id)\n",
        "        punctuated = \"\"\n",
        "\n",
        "        for i, subword in enumerate(subwords):\n",
        "          if(subword == '[CLS]' or subword == '[SEP]'):\n",
        "            continue\n",
        "          punct_mark = None\n",
        "          if(logits[idx][i] == 1):\n",
        "            punct_mark = ','\n",
        "          elif(logits[idx][i] == 2):\n",
        "            punct_mark = '.'\n",
        "          elif(logits[idx][i] == 3):\n",
        "            punct_mark = '?'\n",
        "          else:\n",
        "            punct_mark = ''\n",
        "          \n",
        "          if(len(subword) <= 1):\n",
        "            if(subword in ['a', 'i', '(']):\n",
        "              punctuated += ' '\n",
        "            punctuated += subword\n",
        "          elif(len(subword) > 1 and subword[:2] == '##'):\n",
        "            punctuated += subword[2:]\n",
        "          else:\n",
        "            if subword not in ['m', 're', 've', 's', 'd']:\n",
        "              punctuated += ' ' \n",
        "            punctuated += subword\n",
        "          \n",
        "          punctuated += punct_mark\n",
        "        \n",
        "        punctuated_list.append(punctuated.strip())\n",
        "      \n",
        "      return punctuated_list"
      ],
      "metadata": {
        "id": "tA1gS-FSEtm0"
      },
      "execution_count": null,
      "outputs": []
    },
    {
      "cell_type": "code",
      "execution_count": null,
      "metadata": {
        "id": "F4-Yuwmh9RJ_"
      },
      "outputs": [],
      "source": [
        "class ASR(nn.Module):\n",
        "    def __init__(self, model_path = \"facebook/wav2vec2-base-960h\") -> None:\n",
        "        super(ASR, self).__init__()\n",
        "\n",
        "        self.processor = Wav2Vec2Processor.from_pretrained(model_path)\n",
        "        self.model = Wav2Vec2ForCTC.from_pretrained(model_path)\n",
        "\n",
        "        if torch.cuda.is_available():\n",
        "          self.model = self.model.cuda()\n",
        "    \n",
        "    def forward(self, audio):\n",
        "        input_values = self.processor(audio, sampling_rate=16000, return_tensors='pt').input_values\n",
        "        if torch.cuda.is_available():\n",
        "          input_values = input_values.cuda()\n",
        "        logits = self.model(input_values).logits\n",
        "        predicted_ids = argmax(logits, dim=-1)\n",
        "        transcription = self.processor.decode(predicted_ids[0])\n",
        "\n",
        "        del input_values, logits, predicted_ids\n",
        "        return transcription\n",
        "    \n",
        "class Translator(nn.Module):\n",
        "    def __init__(self, model_path = \"facebook/wmt19-en-de\"):\n",
        "        super(Translator, self).__init__()\n",
        "\n",
        "        self.tokenizer = AutoTokenizer.from_pretrained(model_path)\n",
        "        self.model = AutoModelForSeq2SeqLM.from_pretrained(model_path)\n",
        "\n",
        "        if torch.cuda.is_available():\n",
        "          self.model = self.model.cuda()\n",
        "\n",
        "    def forward(self, text):\n",
        "        input_ids = self.tokenizer(text, return_tensors = 'pt').input_ids\n",
        "        if torch.cuda.is_available():\n",
        "          input_ids = input_ids.cuda()\n",
        "        outputs = self.model.generate(input_ids)\n",
        "        translation = self.tokenizer.decode(outputs[0], skip_special_tokens=True)\n",
        "        \n",
        "        del input_ids, outputs\n",
        "\n",
        "        return translation\n",
        "\n",
        "class DisfluencyModel:\n",
        "    def __init__(self):\n",
        "        self.tagger = DeepDisfluencyTagger(\n",
        "            config_file=\"/content/deep_disfl_python3/deep_disfluency/deep_disfluency/experiments/experiment_configs.csv\",\n",
        "            config_number=21,\n",
        "            saved_model_dir=\"/content/deep_disfl_python3/deep_disfluency/deep_disfluency/experiments/021/epoch_40\"\n",
        "            )\n",
        "    \n",
        "    def tag_disfluency(self, text):\n",
        "        words = text.split()\n",
        "        for word in words:\n",
        "            self.tagger.tag_new_word(word)\n",
        "        # print('tagging finished...')\n",
        "        return self.remove_disfluency(words)\n",
        "        \n",
        "    \n",
        "    def remove_disfluency(self, words):\n",
        "        new_text = ''\n",
        "        for w, t in zip(words, self.tagger.output_tags):\n",
        "            # print(w, '\\t', t)\n",
        "            if t == '<f/>' or t[:4] == '<rps':\n",
        "                new_text += w + ' '\n",
        "        \n",
        "        self.reset()\n",
        "        return new_text.strip()\n",
        "    \n",
        "    def reset(self):\n",
        "        self.tagger.reset()\n",
        "\n",
        "class CascadedST(nn.Module):\n",
        "    def __init__(self, with_punct = False, with_disf = False):\n",
        "        super(CascadedST, self).__init__()\n",
        "\n",
        "        if torch.cuda.is_available():\n",
        "          self.asr = ASR().cuda()\n",
        "        \n",
        "        self.with_punct = with_punct\n",
        "        if with_punct:\n",
        "            self.muse_model = MUSE()\n",
        "            self.muse_model.load_state_dict(torch.load('/content/drive/MyDrive/MuSe model/saved_model_batch4.pth'))\n",
        "            self.muse_model = self.muse_model.cuda()\n",
        "            self.muse_model.acoustic_encoder.model.freeze_feature_encoder()\n",
        "\n",
        "        self.with_disf = with_disf\n",
        "        if with_disf:\n",
        "            self.disf_model = DisfluencyModel()\n",
        "\n",
        "        if torch.cuda.is_available():\n",
        "          self.translator = Translator().cuda()\n",
        "        \n",
        "        if torch.cuda.is_available():\n",
        "          self.asr = self.asr.cuda()\n",
        "          self.translator = self.translator.cuda()\n",
        "        \n",
        "\n",
        "    def forward(self, audio):\n",
        "        if(self.with_punct == True):\n",
        "            transcript = self.asr(audio[0])\n",
        "        else:\n",
        "            transcript = self.asr(audio)\n",
        "\n",
        "        if self.with_disf:\n",
        "            transcript = self.disf_model.tag_disfluency(transcript)\n",
        "        \n",
        "        if self.with_punct:\n",
        "            pred = self.muse_model(transcript, audio)\n",
        "            logits = torch.argmax(pred, dim=-2)\n",
        "            transcript = self.muse_model.decode(logits, [transcript])\n",
        "        \n",
        "        translation = self.translator(transcript)\n",
        "        \n",
        "        return translation"
      ]
    },
    {
      "cell_type": "markdown",
      "source": [
        "#Trying things first"
      ],
      "metadata": {
        "id": "E9PrT_YOyt7I"
      }
    },
    {
      "cell_type": "code",
      "source": [
        "dataloader = torch.utils.data.DataLoader(eval_dataset, batch_size=1)\n",
        "batch = next(iter(dataloader))"
      ],
      "metadata": {
        "id": "DvHGLFNhzMP3"
      },
      "execution_count": null,
      "outputs": []
    },
    {
      "cell_type": "code",
      "source": [
        "audio = torch.Tensor(prepare_audio_batch(batch, device)).cuda()"
      ],
      "metadata": {
        "id": "MgZ6pQU3ze-z"
      },
      "execution_count": null,
      "outputs": []
    },
    {
      "cell_type": "code",
      "source": [
        "asr = ASR().to(device)"
      ],
      "metadata": {
        "colab": {
          "base_uri": "https://localhost:8080/"
        },
        "id": "3a4PBoNRz0PK",
        "outputId": "7ea47464-7a27-494f-e7a8-092f2a70dae7"
      },
      "execution_count": null,
      "outputs": [
        {
          "output_type": "stream",
          "name": "stderr",
          "text": [
            "Some weights of Wav2Vec2ForCTC were not initialized from the model checkpoint at facebook/wav2vec2-base-960h and are newly initialized: ['wav2vec2.masked_spec_embed']\n",
            "You should probably TRAIN this model on a down-stream task to be able to use it for predictions and inference.\n"
          ]
        }
      ]
    },
    {
      "cell_type": "code",
      "source": [
        "transcript = asr(audio[0])\n",
        "transcript"
      ],
      "metadata": {
        "colab": {
          "base_uri": "https://localhost:8080/",
          "height": 52
        },
        "id": "FWd56seQyvpw",
        "outputId": "8593986f-e3eb-450a-e4e5-2929e758688d"
      },
      "execution_count": null,
      "outputs": [
        {
          "output_type": "execute_result",
          "data": {
            "text/plain": [
              "'WOMEN SIT AT TABLES AND MEN GO FROM TABLE TO TABLE NEARS A CLOCK AND A BELL IN AT FIVE MINUTES MINGO THE CONVERSATION ENDS AND THE WOMAN CAN DECIDE WHETHER TO GIVE HER CARD OR HER EMALE ADDRESSED THE MAN FOR FALAP'"
            ],
            "application/vnd.google.colaboratory.intrinsic+json": {
              "type": "string"
            }
          },
          "metadata": {},
          "execution_count": 35
        }
      ]
    },
    {
      "cell_type": "code",
      "source": [
        "disf_detector = DisfluencyModel()\n",
        "transcript = disf_detector.tag_disfluency(transcript)\n",
        "transcript"
      ],
      "metadata": {
        "colab": {
          "base_uri": "https://localhost:8080/",
          "height": 365
        },
        "id": "0tVvrYpOCGNN",
        "outputId": "016df3e7-869f-4006-f45c-69fc07a0a6e0"
      },
      "execution_count": null,
      "outputs": [
        {
          "output_type": "stream",
          "name": "stdout",
          "text": [
            "Initializing Tagger\n",
            "Processing args from config number 21 ...\n",
            "Intializing model from args...\n",
            "Using the cpu\n",
            "Warning: not using GPU, might be a bit slow\n",
            "\tAdjust Theano config file ($HOME/.theanorc)\n",
            "loading tag to index maps...\n",
            "Initializing model of type elman ...\n"
          ]
        },
        {
          "output_type": "stream",
          "name": "stderr",
          "text": [
            "WARNING (theano.tensor.blas): We did not find a dynamic library in the library_dir of the library we use for blas. If you use ATLAS, make sure to compile it with dynamics library.\n",
            "WARNING (theano.tensor.blas): We did not find a dynamic library in the library_dir of the library we use for blas. If you use ATLAS, make sure to compile it with dynamics library.\n"
          ]
        },
        {
          "output_type": "stream",
          "name": "stdout",
          "text": [
            "Loading saved weights from /content/deep_disfl_python3/deep_disfluency/deep_disfluency/experiments/021/epoch_40\n",
            "No POS tagger specified,loading default CRF switchboard one\n",
            "Not using timing data\n",
            "Loading decoder...\n",
            "loading swbd_disf1_021 Markov model\n",
            "No timing model given\n",
            "Markov Model ready mode:\n",
            "constraint only\n"
          ]
        },
        {
          "output_type": "execute_result",
          "data": {
            "text/plain": [
              "'WOMEN SIT AT TABLES AND MEN GO FROM TABLE TO TABLE NEARS A CLOCK AND A BELL AT FIVE MINUTES MINGO THE CONVERSATION ENDS AND THE WOMAN CAN DECIDE WHETHER TO GIVE HER CARD OR HER EMALE ADDRESSED THE MAN FOR FALAP'"
            ],
            "application/vnd.google.colaboratory.intrinsic+json": {
              "type": "string"
            }
          },
          "metadata": {},
          "execution_count": 36
        }
      ]
    },
    {
      "cell_type": "code",
      "source": [
        "punct_model = MUSE().cuda()"
      ],
      "metadata": {
        "colab": {
          "base_uri": "https://localhost:8080/"
        },
        "id": "oS79BsdGIZIy",
        "outputId": "2269abcd-d408-4e6f-a316-388e1c651166"
      },
      "execution_count": null,
      "outputs": [
        {
          "output_type": "stream",
          "name": "stderr",
          "text": [
            "Some weights of the model checkpoint at facebook/wav2vec2-base-960h were not used when initializing Wav2Vec2Model: ['lm_head.weight', 'lm_head.bias']\n",
            "- This IS expected if you are initializing Wav2Vec2Model from the checkpoint of a model trained on another task or with another architecture (e.g. initializing a BertForSequenceClassification model from a BertForPreTraining model).\n",
            "- This IS NOT expected if you are initializing Wav2Vec2Model from the checkpoint of a model that you expect to be exactly identical (initializing a BertForSequenceClassification model from a BertForSequenceClassification model).\n",
            "Some weights of Wav2Vec2Model were not initialized from the model checkpoint at facebook/wav2vec2-base-960h and are newly initialized: ['wav2vec2.masked_spec_embed']\n",
            "You should probably TRAIN this model on a down-stream task to be able to use it for predictions and inference.\n",
            "/usr/local/lib/python3.7/dist-packages/torch/nn/modules/rnn.py:65: UserWarning: dropout option adds dropout after all but last recurrent layer, so non-zero dropout expects num_layers greater than 1, but got dropout=0.1 and num_layers=1\n",
            "  \"num_layers={}\".format(dropout, num_layers))\n"
          ]
        }
      ]
    },
    {
      "cell_type": "code",
      "source": [
        "logits = torch.argmax(punct_model(transcript, audio), dim=-2)\n",
        "print(logits.shape)\n",
        "transcript = punct_model.decode(logits, [transcript])\n",
        "transcript"
      ],
      "metadata": {
        "colab": {
          "base_uri": "https://localhost:8080/"
        },
        "id": "0CToPP_DIm7E",
        "outputId": "47392f5c-5b06-474e-c159-d7cd09ee63b0"
      },
      "execution_count": null,
      "outputs": [
        {
          "output_type": "stream",
          "name": "stdout",
          "text": [
            "torch.Size([1, 49])\n"
          ]
        },
        {
          "output_type": "execute_result",
          "data": {
            "text/plain": [
              "['women? sit. at? tables and, men. go, from, table, to. table. near?s? a clock, and a. bell, at five minutes? ming?o the conversation? ends. and. the, woman? can? decide, whether, to? give her, card? or. her. emale? addressed the, man. for? fa?la?p.']"
            ]
          },
          "metadata": {},
          "execution_count": 38
        }
      ]
    },
    {
      "cell_type": "code",
      "source": [
        "translator = Translator().to(device)"
      ],
      "metadata": {
        "id": "ARlZbu564caM"
      },
      "execution_count": null,
      "outputs": []
    },
    {
      "cell_type": "code",
      "source": [
        "translation = translator(transcript)"
      ],
      "metadata": {
        "id": "SevxcN2H6Hpt"
      },
      "execution_count": null,
      "outputs": []
    },
    {
      "cell_type": "code",
      "source": [
        "print(translation)\n",
        "print(batch['german'])"
      ],
      "metadata": {
        "colab": {
          "base_uri": "https://localhost:8080/"
        },
        "id": "0zQBUz4M62wa",
        "outputId": "264e8b70-42cd-4d89-dd26-446318b85c53"
      },
      "execution_count": null,
      "outputs": [
        {
          "output_type": "stream",
          "name": "stdout",
          "text": [
            "Frauen? sitzen an? Tischen und, men. gehen, von, Tisch, zu. Tafel. in der Nähe? s? eine Uhr, und a. Glocke, um fünf Minuten? ming? o das Gespräch? endet. and. die, Frau? kann? entscheiden, ob sie? ihr, Karte? geben soll oder her. emale? adressierte die, man. für? fa? la? p.\n",
            "['Frauen sitzen an Tischen und Männer gehen von Tisch zu Tisch, und es gibt eine Uhr und eine Glocke und nach fünf Minuten endet das Gespräch und die Frau kann entscheiden, ob sie ihm ihre Karte oder E-Mail-Adresse gibt, zum weiteren Kontakt']\n"
          ]
        }
      ]
    },
    {
      "cell_type": "code",
      "source": [
        "# bleu = BLEU(lowercase=True)\n",
        "# score = bleu.corpus_score([translation], [batch['german']])\n",
        "# score"
      ],
      "metadata": {
        "colab": {
          "base_uri": "https://localhost:8080/"
        },
        "id": "cDUEk-rW6SHu",
        "outputId": "1797ce1f-1ed9-43cd-8daa-a653d860a4bf"
      },
      "execution_count": null,
      "outputs": [
        {
          "output_type": "execute_result",
          "data": {
            "text/plain": [
              "BLEU = 20.77 53.1/27.1/14.9/8.7 (BP = 1.000 ratio = 1.089 hyp_len = 49 ref_len = 45)"
            ]
          },
          "metadata": {},
          "execution_count": 42
        }
      ]
    },
    {
      "cell_type": "code",
      "source": [
        "from torchmetrics import SacreBLEUScore\n",
        "metric = SacreBLEUScore(smooth=True, lowercase = True)\n",
        "metric([translation], [batch['german']])"
      ],
      "metadata": {
        "colab": {
          "base_uri": "https://localhost:8080/"
        },
        "id": "0aM_FklUAvVr",
        "outputId": "0c5c5f28-5b52-4237-e40f-c4cb58a0ce67"
      },
      "execution_count": null,
      "outputs": [
        {
          "output_type": "execute_result",
          "data": {
            "text/plain": [
              "tensor(0.2483)"
            ]
          },
          "metadata": {},
          "execution_count": 31
        }
      ]
    },
    {
      "cell_type": "markdown",
      "source": [
        "# Evaluating model variants"
      ],
      "metadata": {
        "id": "jJ_ocBFoWyXc"
      }
    },
    {
      "cell_type": "code",
      "source": [
        "def eval_model(model, dataset, device):\n",
        "  dataloader = torch.utils.data.DataLoader(dataset, batch_size=1)\n",
        "  translations = []\n",
        "  # references = []\n",
        "  for idx, batch in enumerate(dataloader):\n",
        "    if idx%500==0:\n",
        "      print(f'current batch = {idx}')\n",
        "    try:\n",
        "    #   audio = prepare_audio_batch(batch, device)[0]\n",
        "      audio = torch.Tensor(prepare_audio_batch(batch, device)).cuda()\n",
        "      translated_text = model(audio)\n",
        "      translations.append(translated_text)\n",
        "      # references.append(batch['german'][0])\n",
        "    except Exception as ex:\n",
        "      print(idx, ex)\n",
        "    #   raise ex\n",
        "    # break\n",
        "  \n",
        "  metric = SacreBLEUScore(smooth=True, lowercase = True)\n",
        "  score = metric(translations,[dataset['german']])\n",
        "\n",
        "  return translations, score"
      ],
      "metadata": {
        "id": "-h8K_zNvn-J2"
      },
      "execution_count": null,
      "outputs": []
    },
    {
      "cell_type": "markdown",
      "source": [
        "## Vanilla variant"
      ],
      "metadata": {
        "id": "aUIT89YYW30h"
      }
    },
    {
      "cell_type": "code",
      "source": [
        "vanilla_model = CascadedST().to(device)"
      ],
      "metadata": {
        "colab": {
          "base_uri": "https://localhost:8080/"
        },
        "id": "UK39Ug_IWlLA",
        "outputId": "3db8c0f3-b313-4f6f-e202-07f593c4fe41"
      },
      "execution_count": null,
      "outputs": [
        {
          "output_type": "stream",
          "name": "stderr",
          "text": [
            "Some weights of Wav2Vec2ForCTC were not initialized from the model checkpoint at facebook/wav2vec2-base-960h and are newly initialized: ['wav2vec2.masked_spec_embed']\n",
            "You should probably TRAIN this model on a down-stream task to be able to use it for predictions and inference.\n"
          ]
        }
      ]
    },
    {
      "cell_type": "code",
      "source": [
        "translations, vanilla_score = eval_model(vanilla_model, eval_dataset, device)\n",
        "print(vanilla_score)"
      ],
      "metadata": {
        "colab": {
          "base_uri": "https://localhost:8080/"
        },
        "id": "RpnAd9j7xe3Z",
        "outputId": "a24f5c1a-4510-4911-9166-8d1c08fee950"
      },
      "execution_count": null,
      "outputs": [
        {
          "output_type": "stream",
          "name": "stdout",
          "text": [
            "current batch = 0\n",
            "current batch = 500\n",
            "current batch = 1000\n",
            "current batch = 1500\n",
            "current batch = 2000\n",
            "current batch = 2500\n",
            "current batch = 3000\n",
            "current batch = 3500\n",
            "current batch = 4000\n",
            "current batch = 4500\n",
            "BLEU = 6.74 34.0/10.7/4.3/1.9 (BP = 0.919 ratio = 0.922 hyp_len = 96684 ref_len = 104859)\n"
          ]
        }
      ]
    },
    {
      "cell_type": "markdown",
      "source": [
        "BLEU = 6.74 34.0/10.7/4.3/1.9 (BP = 0.919 ratio = 0.922 hyp_len = 96684 ref_len = 104859)"
      ],
      "metadata": {
        "id": "D2gFG8ya_37R"
      }
    },
    {
      "cell_type": "code",
      "source": [
        "metric = SacreBLEUScore(smooth=True, lowercase = True)\n",
        "metric(translations,[eval_dataset['german']])"
      ],
      "metadata": {
        "id": "al0JDSzK8NQ4",
        "colab": {
          "base_uri": "https://localhost:8080/"
        },
        "outputId": "853be2d3-061f-484d-93d8-065f8baf9102"
      },
      "execution_count": null,
      "outputs": [
        {
          "output_type": "execute_result",
          "data": {
            "text/plain": [
              "tensor(0.4329)"
            ]
          },
          "metadata": {},
          "execution_count": 36
        }
      ]
    },
    {
      "cell_type": "markdown",
      "source": [
        "With smoothing and lowercasing: 0.4329"
      ],
      "metadata": {
        "id": "hQN6WPv4pEPg"
      }
    },
    {
      "cell_type": "markdown",
      "source": [
        "## With Disfluency Only"
      ],
      "metadata": {
        "id": "ImhBeex6DGXj"
      }
    },
    {
      "cell_type": "code",
      "source": [
        "cascaded_model_disf = CascadedST(with_disf=True).to(device)"
      ],
      "metadata": {
        "colab": {
          "base_uri": "https://localhost:8080/"
        },
        "id": "TVG7x0mCDH4i",
        "outputId": "12b2b733-9be4-4018-a96f-a12bafd58664"
      },
      "execution_count": null,
      "outputs": [
        {
          "output_type": "stream",
          "name": "stderr",
          "text": [
            "Some weights of Wav2Vec2ForCTC were not initialized from the model checkpoint at facebook/wav2vec2-base-960h and are newly initialized: ['wav2vec2.masked_spec_embed']\n",
            "You should probably TRAIN this model on a down-stream task to be able to use it for predictions and inference.\n"
          ]
        },
        {
          "output_type": "stream",
          "name": "stdout",
          "text": [
            "Initializing Tagger\n",
            "Processing args from config number 21 ...\n",
            "Intializing model from args...\n",
            "Using the cpu\n",
            "Warning: not using GPU, might be a bit slow\n",
            "\tAdjust Theano config file ($HOME/.theanorc)\n",
            "loading tag to index maps...\n",
            "Initializing model of type elman ...\n"
          ]
        },
        {
          "output_type": "stream",
          "name": "stderr",
          "text": [
            "WARNING (theano.tensor.blas): We did not find a dynamic library in the library_dir of the library we use for blas. If you use ATLAS, make sure to compile it with dynamics library.\n",
            "WARNING (theano.tensor.blas): We did not find a dynamic library in the library_dir of the library we use for blas. If you use ATLAS, make sure to compile it with dynamics library.\n"
          ]
        },
        {
          "output_type": "stream",
          "name": "stdout",
          "text": [
            "Loading saved weights from /content/deep_disfl_python3/deep_disfluency/deep_disfluency/experiments/021/epoch_40\n",
            "No POS tagger specified,loading default CRF switchboard one\n",
            "Not using timing data\n",
            "Loading decoder...\n",
            "loading swbd_disf1_021 Markov model\n",
            "No timing model given\n",
            "Markov Model ready mode:\n",
            "constraint only\n"
          ]
        }
      ]
    },
    {
      "cell_type": "code",
      "source": [
        "import gc\n",
        "gc.collect()"
      ],
      "metadata": {
        "colab": {
          "base_uri": "https://localhost:8080/"
        },
        "id": "kCOLGuMREuR7",
        "outputId": "69992e91-fd39-469d-c708-6b07ec49e18e"
      },
      "execution_count": null,
      "outputs": [
        {
          "output_type": "execute_result",
          "data": {
            "text/plain": [
              "206"
            ]
          },
          "metadata": {},
          "execution_count": 25
        }
      ]
    },
    {
      "cell_type": "code",
      "source": [
        "translations_disf, score_with_disf = eval_model(cascaded_model_disf, eval_dataset, device)\n",
        "print(score_with_disf)"
      ],
      "metadata": {
        "colab": {
          "base_uri": "https://localhost:8080/"
        },
        "id": "zx7KkufVDYIq",
        "outputId": "b211c81d-b7a9-4364-c03b-f57957b33f4f"
      },
      "execution_count": null,
      "outputs": [
        {
          "output_type": "stream",
          "name": "stdout",
          "text": [
            "current batch = 0\n",
            "current batch = 500\n",
            "current batch = 1000\n",
            "current batch = 1500\n",
            "current batch = 2000\n",
            "current batch = 2500\n",
            "current batch = 3000\n",
            "current batch = 3500\n",
            "current batch = 4000\n",
            "current batch = 4500\n",
            "tensor(0.4265)\n"
          ]
        }
      ]
    },
    {
      "cell_type": "markdown",
      "source": [
        "## With punctuation prediction only"
      ],
      "metadata": {
        "id": "T9WvOMLXEUos"
      }
    },
    {
      "cell_type": "code",
      "source": [
        "cascaded_model_punct = CascadedST(with_punct=True).to(device)"
      ],
      "metadata": {
        "id": "uToBzOxJW_nY",
        "colab": {
          "base_uri": "https://localhost:8080/"
        },
        "outputId": "e7a63f22-80b6-4179-c261-77539c423488"
      },
      "execution_count": null,
      "outputs": [
        {
          "output_type": "stream",
          "name": "stderr",
          "text": [
            "Some weights of Wav2Vec2ForCTC were not initialized from the model checkpoint at facebook/wav2vec2-base-960h and are newly initialized: ['wav2vec2.masked_spec_embed']\n",
            "You should probably TRAIN this model on a down-stream task to be able to use it for predictions and inference.\n",
            "Some weights of the model checkpoint at facebook/wav2vec2-base-960h were not used when initializing Wav2Vec2Model: ['lm_head.weight', 'lm_head.bias']\n",
            "- This IS expected if you are initializing Wav2Vec2Model from the checkpoint of a model trained on another task or with another architecture (e.g. initializing a BertForSequenceClassification model from a BertForPreTraining model).\n",
            "- This IS NOT expected if you are initializing Wav2Vec2Model from the checkpoint of a model that you expect to be exactly identical (initializing a BertForSequenceClassification model from a BertForSequenceClassification model).\n",
            "Some weights of Wav2Vec2Model were not initialized from the model checkpoint at facebook/wav2vec2-base-960h and are newly initialized: ['wav2vec2.masked_spec_embed']\n",
            "You should probably TRAIN this model on a down-stream task to be able to use it for predictions and inference.\n",
            "/usr/local/lib/python3.7/dist-packages/torch/nn/modules/rnn.py:65: UserWarning: dropout option adds dropout after all but last recurrent layer, so non-zero dropout expects num_layers greater than 1, but got dropout=0.1 and num_layers=1\n",
            "  \"num_layers={}\".format(dropout, num_layers))\n"
          ]
        }
      ]
    },
    {
      "cell_type": "code",
      "source": [
        "translations_punct, score_with_punct = eval_model(cascaded_model_punct, eval_dataset, device)\n",
        "print(score_with_punct)"
      ],
      "metadata": {
        "colab": {
          "base_uri": "https://localhost:8080/"
        },
        "id": "fGUf0KacEdEZ",
        "outputId": "109f307d-66b4-4d7b-8598-74862deb9f8f"
      },
      "execution_count": null,
      "outputs": [
        {
          "output_type": "stream",
          "name": "stdout",
          "text": [
            "current batch = 0\n",
            "current batch = 500\n",
            "current batch = 1000\n",
            "current batch = 1500\n",
            "current batch = 2000\n",
            "current batch = 2500\n",
            "2714 Calculated padded input size per channel: (2). Kernel size: (5). Kernel size can't be greater than actual input size\n",
            "current batch = 3000\n",
            "current batch = 3500\n",
            "current batch = 4000\n",
            "current batch = 4500\n",
            "tensor(0.4972)\n"
          ]
        }
      ]
    },
    {
      "cell_type": "markdown",
      "source": [
        "## Disfluency with Punctuation Prediction"
      ],
      "metadata": {
        "id": "7v9pu3Gqa3_I"
      }
    },
    {
      "cell_type": "code",
      "source": [
        "cascaded_model_disf_punct = CascadedST(with_punct=True, with_disf=True).to(device)"
      ],
      "metadata": {
        "colab": {
          "base_uri": "https://localhost:8080/"
        },
        "id": "QTki0mmSPMqu",
        "outputId": "d617a83f-0070-4500-b9f3-9fceb50ca598"
      },
      "execution_count": null,
      "outputs": [
        {
          "output_type": "stream",
          "name": "stderr",
          "text": [
            "Some weights of Wav2Vec2ForCTC were not initialized from the model checkpoint at facebook/wav2vec2-base-960h and are newly initialized: ['wav2vec2.masked_spec_embed']\n",
            "You should probably TRAIN this model on a down-stream task to be able to use it for predictions and inference.\n",
            "Some weights of the model checkpoint at facebook/wav2vec2-base-960h were not used when initializing Wav2Vec2Model: ['lm_head.weight', 'lm_head.bias']\n",
            "- This IS expected if you are initializing Wav2Vec2Model from the checkpoint of a model trained on another task or with another architecture (e.g. initializing a BertForSequenceClassification model from a BertForPreTraining model).\n",
            "- This IS NOT expected if you are initializing Wav2Vec2Model from the checkpoint of a model that you expect to be exactly identical (initializing a BertForSequenceClassification model from a BertForSequenceClassification model).\n",
            "Some weights of Wav2Vec2Model were not initialized from the model checkpoint at facebook/wav2vec2-base-960h and are newly initialized: ['wav2vec2.masked_spec_embed']\n",
            "You should probably TRAIN this model on a down-stream task to be able to use it for predictions and inference.\n",
            "/usr/local/lib/python3.7/dist-packages/torch/nn/modules/rnn.py:65: UserWarning: dropout option adds dropout after all but last recurrent layer, so non-zero dropout expects num_layers greater than 1, but got dropout=0.1 and num_layers=1\n",
            "  \"num_layers={}\".format(dropout, num_layers))\n"
          ]
        },
        {
          "output_type": "stream",
          "name": "stdout",
          "text": [
            "Initializing Tagger\n",
            "Processing args from config number 21 ...\n",
            "Intializing model from args...\n",
            "Using the cpu\n",
            "Warning: not using GPU, might be a bit slow\n",
            "\tAdjust Theano config file ($HOME/.theanorc)\n",
            "loading tag to index maps...\n",
            "Initializing model of type elman ...\n",
            "Loading saved weights from /content/deep_disfl_python3/deep_disfluency/deep_disfluency/experiments/021/epoch_40\n",
            "No POS tagger specified,loading default CRF switchboard one\n",
            "Not using timing data\n",
            "Loading decoder...\n",
            "loading swbd_disf1_021 Markov model\n",
            "No timing model given\n",
            "Markov Model ready mode:\n",
            "constraint only\n"
          ]
        }
      ]
    },
    {
      "cell_type": "code",
      "source": [
        "translations_disf_punct, score_with_disf_punct = eval_model(cascaded_model_disf_punct, eval_dataset, device)\n",
        "print(score_with_disf_punct)"
      ],
      "metadata": {
        "colab": {
          "base_uri": "https://localhost:8080/"
        },
        "id": "q6HNjWbndAfA",
        "outputId": "f585314e-9afd-45c6-f86b-767fbc6ac3eb"
      },
      "execution_count": null,
      "outputs": [
        {
          "output_type": "stream",
          "name": "stdout",
          "text": [
            "current batch = 0\n",
            "current batch = 500\n",
            "640 CUDA out of memory. Tried to allocate 348.00 MiB (GPU 0; 14.76 GiB total capacity; 12.85 GiB already allocated; 231.75 MiB free; 13.13 GiB reserved in total by PyTorch) If reserved memory is >> allocated memory try setting max_split_size_mb to avoid fragmentation.  See documentation for Memory Management and PYTORCH_CUDA_ALLOC_CONF\n",
            "current batch = 1000\n",
            "current batch = 1500\n",
            "current batch = 2000\n",
            "current batch = 2500\n",
            "2714 Calculated padded input size per channel: (2). Kernel size: (5). Kernel size can't be greater than actual input size\n",
            "current batch = 3000\n",
            "current batch = 3500\n",
            "current batch = 4000\n",
            "current batch = 4500\n",
            "tensor(0.4981)\n"
          ]
        }
      ]
    },
    {
      "cell_type": "code",
      "source": [
        ""
      ],
      "metadata": {
        "id": "XweBbnCzdNA5"
      },
      "execution_count": null,
      "outputs": []
    }
  ]
}